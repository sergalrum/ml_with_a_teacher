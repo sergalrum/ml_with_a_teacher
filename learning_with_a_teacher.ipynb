{
 "cells": [
  {
   "cell_type": "markdown",
   "metadata": {
    "toc": true
   },
   "source": [
    "<h1>Содержание<span class=\"tocSkip\"></span></h1>\n",
    "<div class=\"toc\"><ul class=\"toc-item\"><li><span><a href=\"#Подготовка-данных\" data-toc-modified-id=\"Подготовка-данных-1\"><span class=\"toc-item-num\">1&nbsp;&nbsp;</span>Подготовка данных</a></span><ul class=\"toc-item\"><li><span><a href=\"#Откроем-и-изучим-файл\" data-toc-modified-id=\"Откроем-и-изучим-файл-1.1\"><span class=\"toc-item-num\">1.1&nbsp;&nbsp;</span>Откроем и изучим файл</a></span></li><li><span><a href=\"#Изменение-столбцов\" data-toc-modified-id=\"Изменение-столбцов-1.2\"><span class=\"toc-item-num\">1.2&nbsp;&nbsp;</span>Изменение столбцов</a></span></li><li><span><a href=\"#Удаление-пропусков\" data-toc-modified-id=\"Удаление-пропусков-1.3\"><span class=\"toc-item-num\">1.3&nbsp;&nbsp;</span>Удаление пропусков</a></span></li><li><span><a href=\"#Удаление-нулевого-баланса\" data-toc-modified-id=\"Удаление-нулевого-баланса-1.4\"><span class=\"toc-item-num\">1.4&nbsp;&nbsp;</span>Удаление нулевого баланса</a></span></li><li><span><a href=\"#Проверка-дубликатов\" data-toc-modified-id=\"Проверка-дубликатов-1.5\"><span class=\"toc-item-num\">1.5&nbsp;&nbsp;</span>Проверка дубликатов</a></span></li><li><span><a href=\"#Прямое-кодирование\" data-toc-modified-id=\"Прямое-кодирование-1.6\"><span class=\"toc-item-num\">1.6&nbsp;&nbsp;</span>Прямое кодирование</a></span></li><li><span><a href=\"#Подготовка-признаков\" data-toc-modified-id=\"Подготовка-признаков-1.7\"><span class=\"toc-item-num\">1.7&nbsp;&nbsp;</span>Подготовка признаков</a></span></li><li><span><a href=\"#Разбиение-данных-на-выборки\" data-toc-modified-id=\"Разбиение-данных-на-выборки-1.8\"><span class=\"toc-item-num\">1.8&nbsp;&nbsp;</span>Разбиение данных на выборки</a></span></li><li><span><a href=\"#Масштабирование-данных\" data-toc-modified-id=\"Масштабирование-данных-1.9\"><span class=\"toc-item-num\">1.9&nbsp;&nbsp;</span>Масштабирование данных</a></span></li><li><span><a href=\"#Вывод-по-итогу-подготовки-данных\" data-toc-modified-id=\"Вывод-по-итогу-подготовки-данных-1.10\"><span class=\"toc-item-num\">1.10&nbsp;&nbsp;</span>Вывод по итогу подготовки данных</a></span></li></ul></li><li><span><a href=\"#Исследование-задачи\" data-toc-modified-id=\"Исследование-задачи-2\"><span class=\"toc-item-num\">2&nbsp;&nbsp;</span>Исследование задачи</a></span><ul class=\"toc-item\"><li><span><a href=\"#Исследуем-баланс-классов\" data-toc-modified-id=\"Исследуем-баланс-классов-2.1\"><span class=\"toc-item-num\">2.1&nbsp;&nbsp;</span>Исследуем баланс классов</a></span></li><li><span><a href=\"#Обучим-модель-без-учёта-дисбаланса\" data-toc-modified-id=\"Обучим-модель-без-учёта-дисбаланса-2.2\"><span class=\"toc-item-num\">2.2&nbsp;&nbsp;</span>Обучим модель без учёта дисбаланса</a></span><ul class=\"toc-item\"><li><span><a href=\"#Решающее-дерево\" data-toc-modified-id=\"Решающее-дерево-2.2.1\"><span class=\"toc-item-num\">2.2.1&nbsp;&nbsp;</span>Решающее дерево</a></span></li><li><span><a href=\"#Случайный-лес\" data-toc-modified-id=\"Случайный-лес-2.2.2\"><span class=\"toc-item-num\">2.2.2&nbsp;&nbsp;</span>Случайный лес</a></span></li><li><span><a href=\"#Логистическая-регрессия\" data-toc-modified-id=\"Логистическая-регрессия-2.2.3\"><span class=\"toc-item-num\">2.2.3&nbsp;&nbsp;</span>Логистическая регрессия</a></span></li></ul></li><li><span><a href=\"#Вывод-по-итогу-исследования-задачи\" data-toc-modified-id=\"Вывод-по-итогу-исследования-задачи-2.3\"><span class=\"toc-item-num\">2.3&nbsp;&nbsp;</span>Вывод по итогу исследования задачи</a></span></li></ul></li><li><span><a href=\"#Борьба-с-дисбалансом\" data-toc-modified-id=\"Борьба-с-дисбалансом-3\"><span class=\"toc-item-num\">3&nbsp;&nbsp;</span>Борьба с дисбалансом</a></span><ul class=\"toc-item\"><li><span><a href=\"#Решающее-дерево\" data-toc-modified-id=\"Решающее-дерево-3.1\"><span class=\"toc-item-num\">3.1&nbsp;&nbsp;</span>Решающее дерево</a></span><ul class=\"toc-item\"><li><span><a href=\"#Взвешивание-классов\" data-toc-modified-id=\"Взвешивание-классов-3.1.1\"><span class=\"toc-item-num\">3.1.1&nbsp;&nbsp;</span>Взвешивание классов</a></span></li><li><span><a href=\"#Увеличение-выборки\" data-toc-modified-id=\"Увеличение-выборки-3.1.2\"><span class=\"toc-item-num\">3.1.2&nbsp;&nbsp;</span>Увеличение выборки</a></span></li><li><span><a href=\"#Уменьшение-выборки\" data-toc-modified-id=\"Уменьшение-выборки-3.1.3\"><span class=\"toc-item-num\">3.1.3&nbsp;&nbsp;</span>Уменьшение выборки</a></span></li><li><span><a href=\"#Вывод-по-решающему-дереву\" data-toc-modified-id=\"Вывод-по-решающему-дереву-3.1.4\"><span class=\"toc-item-num\">3.1.4&nbsp;&nbsp;</span>Вывод по решающему дереву</a></span></li></ul></li><li><span><a href=\"#Случайный-лес\" data-toc-modified-id=\"Случайный-лес-3.2\"><span class=\"toc-item-num\">3.2&nbsp;&nbsp;</span>Случайный лес</a></span><ul class=\"toc-item\"><li><span><a href=\"#Взвешивание-классов\" data-toc-modified-id=\"Взвешивание-классов-3.2.1\"><span class=\"toc-item-num\">3.2.1&nbsp;&nbsp;</span>Взвешивание классов</a></span></li><li><span><a href=\"#Увеличение-выборки\" data-toc-modified-id=\"Увеличение-выборки-3.2.2\"><span class=\"toc-item-num\">3.2.2&nbsp;&nbsp;</span>Увеличение выборки</a></span></li><li><span><a href=\"#Уменьшение-выборки\" data-toc-modified-id=\"Уменьшение-выборки-3.2.3\"><span class=\"toc-item-num\">3.2.3&nbsp;&nbsp;</span>Уменьшение выборки</a></span></li><li><span><a href=\"#Вывод-по-случайному-лесу\" data-toc-modified-id=\"Вывод-по-случайному-лесу-3.2.4\"><span class=\"toc-item-num\">3.2.4&nbsp;&nbsp;</span>Вывод по случайному лесу</a></span></li></ul></li><li><span><a href=\"#Логистическая-регрессия\" data-toc-modified-id=\"Логистическая-регрессия-3.3\"><span class=\"toc-item-num\">3.3&nbsp;&nbsp;</span>Логистическая регрессия</a></span><ul class=\"toc-item\"><li><span><a href=\"#Взвешивание-классов\" data-toc-modified-id=\"Взвешивание-классов-3.3.1\"><span class=\"toc-item-num\">3.3.1&nbsp;&nbsp;</span>Взвешивание классов</a></span></li><li><span><a href=\"#Увеличение-выборки\" data-toc-modified-id=\"Увеличение-выборки-3.3.2\"><span class=\"toc-item-num\">3.3.2&nbsp;&nbsp;</span>Увеличение выборки</a></span></li><li><span><a href=\"#Уменьшение-выборки\" data-toc-modified-id=\"Уменьшение-выборки-3.3.3\"><span class=\"toc-item-num\">3.3.3&nbsp;&nbsp;</span>Уменьшение выборки</a></span></li><li><span><a href=\"#Вывод-по-логистической-регрессии\" data-toc-modified-id=\"Вывод-по-логистической-регрессии-3.3.4\"><span class=\"toc-item-num\">3.3.4&nbsp;&nbsp;</span>Вывод по логистической регрессии</a></span></li></ul></li><li><span><a href=\"#Вывод-по-изучению-моделей\" data-toc-modified-id=\"Вывод-по-изучению-моделей-3.4\"><span class=\"toc-item-num\">3.4&nbsp;&nbsp;</span>Вывод по изучению моделей</a></span></li><li><span><a href=\"#Подбор-лучшей-модели-случайного-леса\" data-toc-modified-id=\"Подбор-лучшей-модели-случайного-леса-3.5\"><span class=\"toc-item-num\">3.5&nbsp;&nbsp;</span>Подбор лучшей модели случайного леса</a></span></li><li><span><a href=\"#Вывод-по-итогу-улучшения-модели-случайного-леса\" data-toc-modified-id=\"Вывод-по-итогу-улучшения-модели-случайного-леса-3.6\"><span class=\"toc-item-num\">3.6&nbsp;&nbsp;</span>Вывод по итогу улучшения модели случайного леса</a></span></li></ul></li><li><span><a href=\"#Тестирование-модели\" data-toc-modified-id=\"Тестирование-модели-4\"><span class=\"toc-item-num\">4&nbsp;&nbsp;</span>Тестирование модели</a></span><ul class=\"toc-item\"><li><span><a href=\"#Проверка-модели-на-адекватность\" data-toc-modified-id=\"Проверка-модели-на-адекватность-4.1\"><span class=\"toc-item-num\">4.1&nbsp;&nbsp;</span>Проверка модели на адекватность</a></span></li><li><span><a href=\"#Вывод-по-проверке-модели-на-тестовой-выборке\" data-toc-modified-id=\"Вывод-по-проверке-модели-на-тестовой-выборке-4.2\"><span class=\"toc-item-num\">4.2&nbsp;&nbsp;</span>Вывод по проверке модели на тестовой выборке</a></span></li></ul></li><li><span><a href=\"#Итоговый-вывод\" data-toc-modified-id=\"Итоговый-вывод-5\"><span class=\"toc-item-num\">5&nbsp;&nbsp;</span>Итоговый вывод</a></span></li><li><span><a href=\"#Чек-лист-готовности-проекта\" data-toc-modified-id=\"Чек-лист-готовности-проекта-6\"><span class=\"toc-item-num\">6&nbsp;&nbsp;</span>Чек-лист готовности проекта</a></span></li></ul></div>"
   ]
  },
  {
   "cell_type": "markdown",
   "metadata": {},
   "source": [
    "# Отток клиентов"
   ]
  },
  {
   "cell_type": "markdown",
   "metadata": {},
   "source": [
    "Из «Бета-Банка» стали уходить клиенты. Каждый месяц. Немного, но заметно. Банковские маркетологи посчитали: сохранять текущих клиентов дешевле, чем привлекать новых.\n",
    "\n",
    "Нужно спрогнозировать, уйдёт клиент из банка в ближайшее время или нет. Вам предоставлены исторические данные о поведении клиентов и расторжении договоров с банком. \n",
    "\n",
    "Постройте модель с предельно большим значением *F1*-меры. Чтобы сдать проект успешно, нужно довести метрику до 0.59. Проверьте *F1*-меру на тестовой выборке самостоятельно.\n",
    "\n",
    "Дополнительно измеряйте *AUC-ROC*, сравнивайте её значение с *F1*-мерой.\n",
    "\n",
    "Источник данных: [https://www.kaggle.com/barelydedicated/bank-customer-churn-modeling](https://www.kaggle.com/barelydedicated/bank-customer-churn-modeling)"
   ]
  },
  {
   "cell_type": "markdown",
   "metadata": {},
   "source": [
    "# Основные понятия и описание данных\n",
    "\n",
    "Признаки\n",
    "- RowNumber — индекс строки в данных\n",
    "- CustomerId — уникальный идентификатор клиента\n",
    "- Surname — фамилия\n",
    "- CreditScore — кредитный рейтинг\n",
    "- Geography — страна проживания\n",
    "- Gender — пол\n",
    "- Age — возраст\n",
    "- Tenure — сколько лет человек является клиентом банка\n",
    "- Balance — баланс на счёте\n",
    "- NumOfProducts — количество продуктов банка, используемых клиентом\n",
    "- HasCrCard — наличие кредитной карты\n",
    "- IsActiveMember — активность клиента\n",
    "- EstimatedSalary — предполагаемая зарплата\n",
    "\n",
    "Целевой признак\n",
    "- Exited — факт ухода клиента"
   ]
  },
  {
   "cell_type": "markdown",
   "metadata": {},
   "source": [
    "## Подготовка данных\n",
    "\n",
    "### Откроем и изучим файл"
   ]
  },
  {
   "cell_type": "code",
   "execution_count": 1,
   "metadata": {},
   "outputs": [],
   "source": [
    "# необходимые библиотеки\n",
    "import pandas as pd\n",
    "import seaborn as sns\n",
    "import matplotlib.pyplot as plt"
   ]
  },
  {
   "cell_type": "code",
   "execution_count": 2,
   "metadata": {},
   "outputs": [],
   "source": [
    "# импортируем функцию предобработки\n",
    "from sklearn.model_selection import train_test_split\n",
    "from sklearn.preprocessing import StandardScaler\n",
    "from sklearn.utils import shuffle\n",
    "# from sklearn.preprocessing import OneHotEncoder\n",
    "\n",
    "# импортируем функции машинного обучения\n",
    "from sklearn.tree import DecisionTreeClassifier\n",
    "from sklearn.ensemble import RandomForestClassifier\n",
    "from sklearn.linear_model import LogisticRegression\n",
    "\n",
    "from sklearn.metrics import f1_score, roc_auc_score, confusion_matrix\n",
    "from sklearn.dummy import DummyClassifier"
   ]
  },
  {
   "cell_type": "code",
   "execution_count": 3,
   "metadata": {},
   "outputs": [],
   "source": [
    "# загружем данные\n",
    "try:\n",
    "    df = pd.read_csv('/datasets/Churn.csv')\n",
    "except:\n",
    "    df = pd.read_csv('C:/Users/Student/Desktop/Churn.csv')"
   ]
  },
  {
   "cell_type": "code",
   "execution_count": 4,
   "metadata": {},
   "outputs": [
    {
     "data": {
      "text/html": [
       "<div>\n",
       "<style scoped>\n",
       "    .dataframe tbody tr th:only-of-type {\n",
       "        vertical-align: middle;\n",
       "    }\n",
       "\n",
       "    .dataframe tbody tr th {\n",
       "        vertical-align: top;\n",
       "    }\n",
       "\n",
       "    .dataframe thead th {\n",
       "        text-align: right;\n",
       "    }\n",
       "</style>\n",
       "<table border=\"1\" class=\"dataframe\">\n",
       "  <thead>\n",
       "    <tr style=\"text-align: right;\">\n",
       "      <th></th>\n",
       "      <th>RowNumber</th>\n",
       "      <th>CustomerId</th>\n",
       "      <th>Surname</th>\n",
       "      <th>CreditScore</th>\n",
       "      <th>Geography</th>\n",
       "      <th>Gender</th>\n",
       "      <th>Age</th>\n",
       "      <th>Tenure</th>\n",
       "      <th>Balance</th>\n",
       "      <th>NumOfProducts</th>\n",
       "      <th>HasCrCard</th>\n",
       "      <th>IsActiveMember</th>\n",
       "      <th>EstimatedSalary</th>\n",
       "      <th>Exited</th>\n",
       "    </tr>\n",
       "  </thead>\n",
       "  <tbody>\n",
       "    <tr>\n",
       "      <th>0</th>\n",
       "      <td>1</td>\n",
       "      <td>15634602</td>\n",
       "      <td>Hargrave</td>\n",
       "      <td>619</td>\n",
       "      <td>France</td>\n",
       "      <td>Female</td>\n",
       "      <td>42</td>\n",
       "      <td>2.0</td>\n",
       "      <td>0.00</td>\n",
       "      <td>1</td>\n",
       "      <td>1</td>\n",
       "      <td>1</td>\n",
       "      <td>101348.88</td>\n",
       "      <td>1</td>\n",
       "    </tr>\n",
       "    <tr>\n",
       "      <th>1</th>\n",
       "      <td>2</td>\n",
       "      <td>15647311</td>\n",
       "      <td>Hill</td>\n",
       "      <td>608</td>\n",
       "      <td>Spain</td>\n",
       "      <td>Female</td>\n",
       "      <td>41</td>\n",
       "      <td>1.0</td>\n",
       "      <td>83807.86</td>\n",
       "      <td>1</td>\n",
       "      <td>0</td>\n",
       "      <td>1</td>\n",
       "      <td>112542.58</td>\n",
       "      <td>0</td>\n",
       "    </tr>\n",
       "    <tr>\n",
       "      <th>2</th>\n",
       "      <td>3</td>\n",
       "      <td>15619304</td>\n",
       "      <td>Onio</td>\n",
       "      <td>502</td>\n",
       "      <td>France</td>\n",
       "      <td>Female</td>\n",
       "      <td>42</td>\n",
       "      <td>8.0</td>\n",
       "      <td>159660.80</td>\n",
       "      <td>3</td>\n",
       "      <td>1</td>\n",
       "      <td>0</td>\n",
       "      <td>113931.57</td>\n",
       "      <td>1</td>\n",
       "    </tr>\n",
       "    <tr>\n",
       "      <th>3</th>\n",
       "      <td>4</td>\n",
       "      <td>15701354</td>\n",
       "      <td>Boni</td>\n",
       "      <td>699</td>\n",
       "      <td>France</td>\n",
       "      <td>Female</td>\n",
       "      <td>39</td>\n",
       "      <td>1.0</td>\n",
       "      <td>0.00</td>\n",
       "      <td>2</td>\n",
       "      <td>0</td>\n",
       "      <td>0</td>\n",
       "      <td>93826.63</td>\n",
       "      <td>0</td>\n",
       "    </tr>\n",
       "    <tr>\n",
       "      <th>4</th>\n",
       "      <td>5</td>\n",
       "      <td>15737888</td>\n",
       "      <td>Mitchell</td>\n",
       "      <td>850</td>\n",
       "      <td>Spain</td>\n",
       "      <td>Female</td>\n",
       "      <td>43</td>\n",
       "      <td>2.0</td>\n",
       "      <td>125510.82</td>\n",
       "      <td>1</td>\n",
       "      <td>1</td>\n",
       "      <td>1</td>\n",
       "      <td>79084.10</td>\n",
       "      <td>0</td>\n",
       "    </tr>\n",
       "  </tbody>\n",
       "</table>\n",
       "</div>"
      ],
      "text/plain": [
       "   RowNumber  CustomerId   Surname  CreditScore Geography  Gender  Age  \\\n",
       "0          1    15634602  Hargrave          619    France  Female   42   \n",
       "1          2    15647311      Hill          608     Spain  Female   41   \n",
       "2          3    15619304      Onio          502    France  Female   42   \n",
       "3          4    15701354      Boni          699    France  Female   39   \n",
       "4          5    15737888  Mitchell          850     Spain  Female   43   \n",
       "\n",
       "   Tenure    Balance  NumOfProducts  HasCrCard  IsActiveMember  \\\n",
       "0     2.0       0.00              1          1               1   \n",
       "1     1.0   83807.86              1          0               1   \n",
       "2     8.0  159660.80              3          1               0   \n",
       "3     1.0       0.00              2          0               0   \n",
       "4     2.0  125510.82              1          1               1   \n",
       "\n",
       "   EstimatedSalary  Exited  \n",
       "0        101348.88       1  \n",
       "1        112542.58       0  \n",
       "2        113931.57       1  \n",
       "3         93826.63       0  \n",
       "4         79084.10       0  "
      ]
     },
     "execution_count": 4,
     "metadata": {},
     "output_type": "execute_result"
    }
   ],
   "source": [
    "# pd.set_option('display.max_columns', None)\n",
    "df.head()"
   ]
  },
  {
   "cell_type": "code",
   "execution_count": 5,
   "metadata": {
    "scrolled": false
   },
   "outputs": [
    {
     "name": "stdout",
     "output_type": "stream",
     "text": [
      "Размер файла: (10000, 14)\n",
      "\n",
      "<class 'pandas.core.frame.DataFrame'>\n",
      "RangeIndex: 10000 entries, 0 to 9999\n",
      "Data columns (total 14 columns):\n",
      " #   Column           Non-Null Count  Dtype  \n",
      "---  ------           --------------  -----  \n",
      " 0   RowNumber        10000 non-null  int64  \n",
      " 1   CustomerId       10000 non-null  int64  \n",
      " 2   Surname          10000 non-null  object \n",
      " 3   CreditScore      10000 non-null  int64  \n",
      " 4   Geography        10000 non-null  object \n",
      " 5   Gender           10000 non-null  object \n",
      " 6   Age              10000 non-null  int64  \n",
      " 7   Tenure           9091 non-null   float64\n",
      " 8   Balance          10000 non-null  float64\n",
      " 9   NumOfProducts    10000 non-null  int64  \n",
      " 10  HasCrCard        10000 non-null  int64  \n",
      " 11  IsActiveMember   10000 non-null  int64  \n",
      " 12  EstimatedSalary  10000 non-null  float64\n",
      " 13  Exited           10000 non-null  int64  \n",
      "dtypes: float64(3), int64(8), object(3)\n",
      "memory usage: 1.1+ MB\n"
     ]
    }
   ],
   "source": [
    "print(f\"Размер файла: {df.shape}\\n\")\n",
    "df.info()"
   ]
  },
  {
   "cell_type": "code",
   "execution_count": 6,
   "metadata": {},
   "outputs": [
    {
     "data": {
      "image/png": "[encoded data removed]",
      "text/plain": [
       "<Figure size 720x720 with 12 Axes>"
      ]
     },
     "metadata": {
      "needs_background": "light"
     },
     "output_type": "display_data"
    }
   ],
   "source": [
    "df.hist(figsize=(10, 10), bins=30)\n",
    "plt.show()"
   ]
  },
  {
   "cell_type": "markdown",
   "metadata": {},
   "source": [
    "###### Вывод по итогу изучения общей информации\n",
    "\n",
    "В таблице имеются столбцы, кооторые не несут важной информации для определения ухода клиента, такие, как:\n",
    "\n",
    "- RowNumber;\n",
    "- CustomerId;\n",
    "- Surname.\n",
    "\n",
    "Информация по столбцам:\n",
    "\n",
    "- Коррелируемые данные не наблюдаются.\n",
    "\n",
    "\n",
    "- В столбце `Balance` пользователи с нулевым балансом. Их нельзя считать выбросами, поскольку это может быть временная ситуация. Следует изучать столбец подробнее. Однако данные являются важными для обучения.\n",
    "\n",
    "- В столбце `Tenure` имеются пропуски. Это могут быть новые пользователи или пользователи в процессе оформления документов. По ним следует уточнить информацию. Для проекта удалим их, чтобы не запутать модель.\n",
    "\n",
    "- В столбце `CreditScore` имеется пиковое значение, однако его трогать не будем.\n",
    "\n",
    "- В столбце `Exited` (целевой признак) присутствует дизбаланс классов. Эту проблему будем решать в соответствующем пункте.\n",
    "\n",
    "- В столбцах `Geography` `Gender` переведем категориальные признаки в численные техникой OHE.\n",
    "\n",
    "Необходимо провести масштабирование данных.\n",
    "\n",
    "В качестве предобработки можно привести названия столбцов к змеиному регистру."
   ]
  },
  {
   "cell_type": "markdown",
   "metadata": {},
   "source": [
    "### Изменение столбцов"
   ]
  },
  {
   "cell_type": "code",
   "execution_count": 7,
   "metadata": {},
   "outputs": [
    {
     "data": {
      "text/plain": [
       "Index(['RowNumber', 'CustomerId', 'Surname', 'CreditScore', 'Geography',\n",
       "       'Gender', 'Age', 'Tenure', 'Balance', 'NumOfProducts', 'HasCrCard',\n",
       "       'IsActiveMember', 'EstimatedSalary', 'Exited'],\n",
       "      dtype='object')"
      ]
     },
     "execution_count": 7,
     "metadata": {},
     "output_type": "execute_result"
    }
   ],
   "source": [
    "# Приведем названия столбцов к змеиному регистру\n",
    "df.columns"
   ]
  },
  {
   "cell_type": "code",
   "execution_count": 8,
   "metadata": {},
   "outputs": [],
   "source": [
    "df.columns = ['Row_Number', 'Customer_Id', 'Surname', 'Credit_Score', 'Geography',\n",
    "       'Gender', 'Age', 'Tenure', 'Balance', 'Num_Of_Products', 'Has_Cr_Card',\n",
    "       'Is_Active_Member', 'Estimated_Salary', 'Exited']\n",
    "df.columns = df.columns.str.lower()"
   ]
  },
  {
   "cell_type": "code",
   "execution_count": 9,
   "metadata": {},
   "outputs": [
    {
     "data": {
      "text/plain": [
       "Index(['row_number', 'customer_id', 'surname', 'credit_score', 'geography',\n",
       "       'gender', 'age', 'tenure', 'balance', 'num_of_products', 'has_cr_card',\n",
       "       'is_active_member', 'estimated_salary', 'exited'],\n",
       "      dtype='object')"
      ]
     },
     "execution_count": 9,
     "metadata": {},
     "output_type": "execute_result"
    }
   ],
   "source": [
    "df.columns"
   ]
  },
  {
   "cell_type": "code",
   "execution_count": 10,
   "metadata": {},
   "outputs": [],
   "source": [
    "# Удалим ненужные в изучении столбцы\n",
    "unnecessary = ['row_number', 'customer_id', 'surname']\n",
    "df = df.drop(unnecessary, axis=1)"
   ]
  },
  {
   "cell_type": "markdown",
   "metadata": {},
   "source": [
    "### Удаление пропусков"
   ]
  },
  {
   "cell_type": "code",
   "execution_count": 11,
   "metadata": {},
   "outputs": [],
   "source": [
    "# df = df.dropna(subset=['tenure'])"
   ]
  },
  {
   "cell_type": "code",
   "execution_count": 12,
   "metadata": {},
   "outputs": [],
   "source": [
    "df['tenure'] = df['tenure'].fillna(value=df['tenure'].median())"
   ]
  },
  {
   "cell_type": "code",
   "execution_count": 13,
   "metadata": {},
   "outputs": [],
   "source": [
    "df['tenure'] = df['tenure'].astype('int')"
   ]
  },
  {
   "cell_type": "markdown",
   "metadata": {},
   "source": [
    "### Удаление нулевого баланса"
   ]
  },
  {
   "cell_type": "code",
   "execution_count": 15,
   "metadata": {},
   "outputs": [],
   "source": [
    "# df.hist('balance')"
   ]
  },
  {
   "cell_type": "markdown",
   "metadata": {},
   "source": [
    "Наблюдаем слишком большое количество нулевых данных, однако их все удалять нельзя. приведём к балансу и оставим 40% случайный пустых счетов."
   ]
  },
  {
   "cell_type": "code",
   "execution_count": 16,
   "metadata": {},
   "outputs": [],
   "source": [
    "# balance_zeros = df[df['balance'] == 0]\n",
    "# balance_ones = df[df['balance'] != 0]\n",
    "\n",
    "# balance_downsampled = pd.concat(\n",
    "#     [balance_zeros.sample(frac=0.4, random_state=12345)] + [balance_ones])\n",
    "# df_downsampled = shuffle(\n",
    "#         balance_downsampled, random_state=12345)"
   ]
  },
  {
   "cell_type": "code",
   "execution_count": 17,
   "metadata": {},
   "outputs": [],
   "source": [
    "# df_downsampled.hist('balance')"
   ]
  },
  {
   "cell_type": "code",
   "execution_count": 18,
   "metadata": {},
   "outputs": [],
   "source": [
    "# # КОД РЕВЬЮЕРА\n",
    "# df_downsampled.shape"
   ]
  },
  {
   "cell_type": "markdown",
   "metadata": {},
   "source": [
    "### Проверка дубликатов"
   ]
  },
  {
   "cell_type": "code",
   "execution_count": 19,
   "metadata": {},
   "outputs": [
    {
     "data": {
      "text/plain": [
       "0"
      ]
     },
     "execution_count": 19,
     "metadata": {},
     "output_type": "execute_result"
    }
   ],
   "source": [
    "df.duplicated().sum()"
   ]
  },
  {
   "cell_type": "code",
   "execution_count": 20,
   "metadata": {},
   "outputs": [
    {
     "data": {
      "text/plain": [
       "array(['France', 'Spain', 'Germany'], dtype=object)"
      ]
     },
     "execution_count": 20,
     "metadata": {},
     "output_type": "execute_result"
    }
   ],
   "source": [
    "df['geography'].unique()"
   ]
  },
  {
   "cell_type": "code",
   "execution_count": 21,
   "metadata": {},
   "outputs": [
    {
     "data": {
      "text/plain": [
       "array(['Female', 'Male'], dtype=object)"
      ]
     },
     "execution_count": 21,
     "metadata": {},
     "output_type": "execute_result"
    }
   ],
   "source": [
    "df['gender'].unique()"
   ]
  },
  {
   "cell_type": "markdown",
   "metadata": {},
   "source": [
    "### Прямое кодирование"
   ]
  },
  {
   "cell_type": "markdown",
   "metadata": {},
   "source": [
    "Техникой OHE переведем категориальные признаки в численные.\n",
    "\n",
    "Проверим имеющиеся значения в столбцах `geography` и `gender`"
   ]
  },
  {
   "cell_type": "code",
   "execution_count": 22,
   "metadata": {},
   "outputs": [],
   "source": [
    "# Для избежания дамми-ловушки применим функцию с параметром drop_first=True\n",
    "df_ohe = pd.get_dummies(df, drop_first=True)"
   ]
  },
  {
   "cell_type": "code",
   "execution_count": 23,
   "metadata": {
    "scrolled": true
   },
   "outputs": [
    {
     "data": {
      "text/html": [
       "<div>\n",
       "<style scoped>\n",
       "    .dataframe tbody tr th:only-of-type {\n",
       "        vertical-align: middle;\n",
       "    }\n",
       "\n",
       "    .dataframe tbody tr th {\n",
       "        vertical-align: top;\n",
       "    }\n",
       "\n",
       "    .dataframe thead th {\n",
       "        text-align: right;\n",
       "    }\n",
       "</style>\n",
       "<table border=\"1\" class=\"dataframe\">\n",
       "  <thead>\n",
       "    <tr style=\"text-align: right;\">\n",
       "      <th></th>\n",
       "      <th>credit_score</th>\n",
       "      <th>age</th>\n",
       "      <th>tenure</th>\n",
       "      <th>balance</th>\n",
       "      <th>num_of_products</th>\n",
       "      <th>has_cr_card</th>\n",
       "      <th>is_active_member</th>\n",
       "      <th>estimated_salary</th>\n",
       "      <th>exited</th>\n",
       "      <th>geography_Germany</th>\n",
       "      <th>geography_Spain</th>\n",
       "      <th>gender_Male</th>\n",
       "    </tr>\n",
       "  </thead>\n",
       "  <tbody>\n",
       "    <tr>\n",
       "      <th>0</th>\n",
       "      <td>619</td>\n",
       "      <td>42</td>\n",
       "      <td>2</td>\n",
       "      <td>0.00</td>\n",
       "      <td>1</td>\n",
       "      <td>1</td>\n",
       "      <td>1</td>\n",
       "      <td>101348.88</td>\n",
       "      <td>1</td>\n",
       "      <td>0</td>\n",
       "      <td>0</td>\n",
       "      <td>0</td>\n",
       "    </tr>\n",
       "    <tr>\n",
       "      <th>1</th>\n",
       "      <td>608</td>\n",
       "      <td>41</td>\n",
       "      <td>1</td>\n",
       "      <td>83807.86</td>\n",
       "      <td>1</td>\n",
       "      <td>0</td>\n",
       "      <td>1</td>\n",
       "      <td>112542.58</td>\n",
       "      <td>0</td>\n",
       "      <td>0</td>\n",
       "      <td>1</td>\n",
       "      <td>0</td>\n",
       "    </tr>\n",
       "    <tr>\n",
       "      <th>2</th>\n",
       "      <td>502</td>\n",
       "      <td>42</td>\n",
       "      <td>8</td>\n",
       "      <td>159660.80</td>\n",
       "      <td>3</td>\n",
       "      <td>1</td>\n",
       "      <td>0</td>\n",
       "      <td>113931.57</td>\n",
       "      <td>1</td>\n",
       "      <td>0</td>\n",
       "      <td>0</td>\n",
       "      <td>0</td>\n",
       "    </tr>\n",
       "    <tr>\n",
       "      <th>3</th>\n",
       "      <td>699</td>\n",
       "      <td>39</td>\n",
       "      <td>1</td>\n",
       "      <td>0.00</td>\n",
       "      <td>2</td>\n",
       "      <td>0</td>\n",
       "      <td>0</td>\n",
       "      <td>93826.63</td>\n",
       "      <td>0</td>\n",
       "      <td>0</td>\n",
       "      <td>0</td>\n",
       "      <td>0</td>\n",
       "    </tr>\n",
       "    <tr>\n",
       "      <th>4</th>\n",
       "      <td>850</td>\n",
       "      <td>43</td>\n",
       "      <td>2</td>\n",
       "      <td>125510.82</td>\n",
       "      <td>1</td>\n",
       "      <td>1</td>\n",
       "      <td>1</td>\n",
       "      <td>79084.10</td>\n",
       "      <td>0</td>\n",
       "      <td>0</td>\n",
       "      <td>1</td>\n",
       "      <td>0</td>\n",
       "    </tr>\n",
       "  </tbody>\n",
       "</table>\n",
       "</div>"
      ],
      "text/plain": [
       "   credit_score  age  tenure    balance  num_of_products  has_cr_card  \\\n",
       "0           619   42       2       0.00                1            1   \n",
       "1           608   41       1   83807.86                1            0   \n",
       "2           502   42       8  159660.80                3            1   \n",
       "3           699   39       1       0.00                2            0   \n",
       "4           850   43       2  125510.82                1            1   \n",
       "\n",
       "   is_active_member  estimated_salary  exited  geography_Germany  \\\n",
       "0                 1         101348.88       1                  0   \n",
       "1                 1         112542.58       0                  0   \n",
       "2                 0         113931.57       1                  0   \n",
       "3                 0          93826.63       0                  0   \n",
       "4                 1          79084.10       0                  0   \n",
       "\n",
       "   geography_Spain  gender_Male  \n",
       "0                0            0  \n",
       "1                1            0  \n",
       "2                0            0  \n",
       "3                0            0  \n",
       "4                1            0  "
      ]
     },
     "execution_count": 23,
     "metadata": {},
     "output_type": "execute_result"
    }
   ],
   "source": [
    "df_ohe.head()"
   ]
  },
  {
   "cell_type": "code",
   "execution_count": 24,
   "metadata": {},
   "outputs": [],
   "source": [
    "# # КОД ОНЕ (не работает)\n",
    "# _train_ohe, _test_ohe = train_test_split(df, random_state=42)\n",
    "# cat_features = ['gender', 'geography']\n",
    "\n",
    "# ohe_encoder = OneHotEncoder(drop='first', sparse=False)\n",
    "\n",
    "# train_temp = ohe_encoder.fit_transform(_train_ohe[cat_features]) # обучили на трейне и сразу к нему применили\n",
    "# _train_ohe[ohe_encoder.get_feature_names_out()] = train_temp # вписали новые признаки\n",
    "# _train_ohe.drop(cat_features, axis=1, inplace=True) # удалили старые признаки\n",
    "\n",
    "# test_temp = ohe_encoder.transform(_test_ohe[cat_features]) # обученный энкодер применили к тест. выборке\n",
    "# _test_ohe[ohe_encoder.get_feature_names_out()] = test_temp # вписали новые признаки\n",
    "# _test_ohe.drop(cat_features, axis=1, inplace=True) # удалили старые признаки\n",
    "\n",
    "# _test_ohe.head()"
   ]
  },
  {
   "cell_type": "markdown",
   "metadata": {},
   "source": [
    "### Подготовка признаков"
   ]
  },
  {
   "cell_type": "code",
   "execution_count": 25,
   "metadata": {},
   "outputs": [],
   "source": [
    "# Отделим целевой признак\n",
    "features = df_ohe.drop(['exited'], axis=1)\n",
    "target = df_ohe['exited']"
   ]
  },
  {
   "cell_type": "code",
   "execution_count": 26,
   "metadata": {},
   "outputs": [],
   "source": [
    "random_state = 12345"
   ]
  },
  {
   "cell_type": "markdown",
   "metadata": {},
   "source": [
    "### Разбиение данных на выборки"
   ]
  },
  {
   "cell_type": "markdown",
   "metadata": {},
   "source": [
    "Поскольку спрятанной тестовой выборки нет, данные нужно разбить на три части: обучающую, валидационную и тестовую.\n",
    "\n",
    "- исходные данные разобьем в соотношении 3 (60% обучающую): 1 (20% валидационную): 1 (20% тестовую)"
   ]
  },
  {
   "cell_type": "code",
   "execution_count": 27,
   "metadata": {},
   "outputs": [],
   "source": [
    "# Другое разбиение\n",
    "\n",
    "# # отделим 60% для обучающей выборки\n",
    "# features_tv, features_train, target_tv, target_train = train_test_split(\n",
    "#     features, target, test_size=0.6, train_size=0.4, random_state=random_state)"
   ]
  },
  {
   "cell_type": "code",
   "execution_count": 28,
   "metadata": {},
   "outputs": [],
   "source": [
    "# features_tv, features_train, target_tv, target_train = \\\n",
    "# features_tv.reset_index(),features_train.reset_index(),target_tv.reset_index(),target_train.reset_index()"
   ]
  },
  {
   "cell_type": "code",
   "execution_count": 29,
   "metadata": {},
   "outputs": [],
   "source": [
    "# отделим 25% для тестовой\n",
    "features_tv, features_test, target_tv, target_test = train_test_split(\n",
    "    features, target, test_size=0.2, train_size=0.8, random_state=random_state)\n",
    "\n",
    "# оставшиеся данные разделим в соответствии с ожидаемыми размерами выборки\n",
    "features_train, features_valid, target_train, target_valid = train_test_split(\n",
    "    features_tv, target_tv, test_size = 0.25, train_size =0.75, random_state=random_state)"
   ]
  },
  {
   "cell_type": "code",
   "execution_count": 36,
   "metadata": {},
   "outputs": [
    {
     "name": "stdout",
     "output_type": "stream",
     "text": [
      "Размер тестовой выборки: (2000, 11)\n",
      "Размер валидационной выборки: (2000, 11)\n",
      "Размер обучающей выборки: (6000, 11)\n"
     ]
    }
   ],
   "source": [
    "print(f\"Размер тестовой выборки: {features_test.shape}\")\n",
    "print(f\"Размер валидационной выборки: {features_valid.shape}\")\n",
    "print(f\"Размер обучающей выборки: {features_train.shape}\")"
   ]
  },
  {
   "cell_type": "code",
   "execution_count": 37,
   "metadata": {},
   "outputs": [],
   "source": [
    "# target_valid, target_train, target_test = \\\n",
    "# target_valid.drop(['index'], axis=1), target_train.drop(['index'], axis=1), target_test.drop(['index'], axis=1)"
   ]
  },
  {
   "cell_type": "markdown",
   "metadata": {},
   "source": [
    "### Масштабирование данных"
   ]
  },
  {
   "cell_type": "code",
   "execution_count": 38,
   "metadata": {},
   "outputs": [],
   "source": [
    "numeric = ['credit_score', 'age', 'tenure', 'balance', 'num_of_products',\n",
    "           'has_cr_card', 'is_active_member', 'estimated_salary',\n",
    "           'geography_Germany', 'geography_Spain', 'gender_Male']\n",
    "\n",
    "# Удаление предупреждения\n",
    "pd.options.mode.chained_assignment = None\n",
    "\n",
    "# Создадим объект структуры и настроим его на обучающих данных\n",
    "scaler = StandardScaler()\n",
    "scaler.fit(features_train[numeric])\n",
    "\n",
    "# Преобразуем обучающую, валидационную и тестовую выборки функцией transform()\n",
    "features_train[numeric] = scaler.transform(features_train[numeric])\n",
    "features_valid[numeric] = scaler.transform(features_valid[numeric])\n",
    "features_test[numeric] = scaler.transform(features_test[numeric])\n"
   ]
  },
  {
   "cell_type": "markdown",
   "metadata": {},
   "source": [
    "### Вывод по итогу подготовки данных\n",
    "\n",
    "Удалены не важные признаки:\n",
    "- RowNumber;\n",
    "- CustomerId;\n",
    "- Surname.\n",
    "\n",
    "Информация по столбцам:\n",
    "\n",
    "- Коррелируемые данные не наблюдаются.\n",
    "\n",
    "\n",
    "- В столбце `Balance` пользователи с нулевым балансом. Их нельзя считать выбросами, поскольку это может быть временная ситуация. Удалено 40% пользователей с нулевым балансом.\n",
    "\n",
    "- В столбце `Tenure` имеются пропуски. Это могут быть новые пользователи или пользователи в процессе оформления документов. По ним следует уточнить информацию. Для проекта удалили их, чтобы не запутать модель.\n",
    "\n",
    "- В столбце `CreditScore` имеется пиковое значение, однако его трогать не будем.\n",
    "\n",
    "- В столбце `Exited` (целевой признак) присутствует дизбаланс классов. Эту проблему будем решать в соответствующем пункте.\n",
    "\n",
    "- В столбцах `Geography` `Gender` переведены категориальные признаки в численные техникой OHE.\n",
    "\n",
    "Приведены названия столбцов к змеиному регистру.\n",
    "\n",
    "Проведено масштабирование признаков\n",
    "\n",
    "---\n",
    "\n",
    "Ввиду отсутствия спрятанной тестовой выборки, данные разбиты на три части: обучающую, валидационную и тестовую.\n",
    "\n",
    "- пропорции разбиения: `3:1:1` `(60% обучающая):(20% валидационная):(20% тестовая)`\n",
    "- проверка размера подтвеждает правильность разбиения данных."
   ]
  },
  {
   "cell_type": "markdown",
   "metadata": {},
   "source": [
    "## Исследование задачи"
   ]
  },
  {
   "cell_type": "markdown",
   "metadata": {},
   "source": [
    "### Исследуем баланс классов"
   ]
  },
  {
   "cell_type": "code",
   "execution_count": 39,
   "metadata": {},
   "outputs": [
    {
     "data": {
      "image/png": "[encoded data removed]",
      "text/plain": [
       "<Figure size 432x288 with 1 Axes>"
      ]
     },
     "metadata": {},
     "output_type": "display_data"
    }
   ],
   "source": [
    "(df\n",
    " .pivot_table(index='exited', values='age', aggfunc='count')\n",
    " .plot.pie(y='age', autopct='%1.0f%%')\n",
    ")\n",
    "plt.title(\"Соотношение количества остающихся и ушедших клиентов\")\n",
    "plt.ylabel(\"Процент клиентов\")\n",
    "plt.show()"
   ]
  },
  {
   "cell_type": "markdown",
   "metadata": {},
   "source": [
    "Наблюдается явный дисбаланс. На данный момент ушедших клиентов в 4 раза больше тех, кто еще не ушел."
   ]
  },
  {
   "cell_type": "markdown",
   "metadata": {},
   "source": [
    "### Обучим модель без учёта дисбаланса"
   ]
  },
  {
   "cell_type": "markdown",
   "metadata": {},
   "source": [
    "#### Решающее дерево"
   ]
  },
  {
   "cell_type": "code",
   "execution_count": 40,
   "metadata": {},
   "outputs": [
    {
     "name": "stdout",
     "output_type": "stream",
     "text": [
      "F1 модели решающего дерева на валидационной выборке без учёта дисбаланса: 0.5583596214511041 \n",
      "Максимальная глубина: 7\n",
      "AUC-ROC модели решающего дерева на валидационной выборке без учёта дисбаланса: 0.8231010349393358\n",
      "CPU times: user 311 ms, sys: 4.52 ms, total: 315 ms\n",
      "Wall time: 322 ms\n"
     ]
    }
   ],
   "source": [
    "%%time\n",
    "\n",
    "best_model = None\n",
    "best_result = 0\n",
    "best_depth = 0\n",
    "\n",
    "for depth in range (1, 16, 1):\n",
    "    model = DecisionTreeClassifier(random_state=random_state, max_depth=depth)\n",
    "    model.fit(features_train, target_train)\n",
    "    predicted_valid = model.predict(features_valid)\n",
    "    result = f1_score(target_valid, predicted_valid)\n",
    "    if result > best_result:\n",
    "        best_model = model\n",
    "        best_result = result\n",
    "        best_depth = depth\n",
    "\n",
    "print(\"F1 модели решающего дерева на валидационной выборке без учёта дисбаланса:\", best_result,\n",
    "      \"\\nМаксимальная глубина:\", best_depth)\n",
    "\n",
    "\n",
    "probabilities_valid = best_model.predict_proba(features_valid)\n",
    "probabilities_one_valid = probabilities_valid[:, 1]\n",
    "auc_roc = roc_auc_score(target_valid, probabilities_one_valid)\n",
    "print(f\"AUC-ROC модели решающего дерева на валидационной выборке без учёта дисбаланса: {auc_roc}\")"
   ]
  },
  {
   "cell_type": "markdown",
   "metadata": {},
   "source": [
    "#### Случайный лес"
   ]
  },
  {
   "cell_type": "code",
   "execution_count": 41,
   "metadata": {},
   "outputs": [
    {
     "name": "stdout",
     "output_type": "stream",
     "text": [
      "F1 модели случайного леса на валидационной выборке без учёта дисбаланса: 0.5805422647527911 \n",
      "Количество деревьев: 40 \n",
      "Максимальная глубина: 14\n",
      "AUC-ROC модели случайного леса на валидационной выборке без учёта дисбаланса: 0.8379050704238784\n",
      "CPU times: user 1min 27s, sys: 427 ms, total: 1min 27s\n",
      "Wall time: 1min 27s\n"
     ]
    }
   ],
   "source": [
    "%%time\n",
    "\n",
    "best_model = None\n",
    "best_result = 0\n",
    "best_est = 0\n",
    "best_depth = 0\n",
    "\n",
    "for est in range(10, 151, 10):\n",
    "    for depth in range (1, 16, 1):\n",
    "        model = RandomForestClassifier(random_state=random_state, max_depth=depth, n_estimators=est,)\n",
    "        model.fit(features_train, target_train)\n",
    "        predicted_valid = model.predict(features_valid)\n",
    "        result = f1_score(target_valid, predicted_valid)\n",
    "        if result > best_result:\n",
    "            best_model = model\n",
    "            best_result = result\n",
    "            best_est = est\n",
    "            best_depth = depth\n",
    "print(\"F1 модели случайного леса на валидационной выборке без учёта дисбаланса:\", best_result,\n",
    "      \"\\nКоличество деревьев:\", best_est,\n",
    "      \"\\nМаксимальная глубина:\", best_depth)\n",
    "\n",
    "\n",
    "probabilities_valid = best_model.predict_proba(features_valid)\n",
    "probabilities_one_valid = probabilities_valid[:, 1]\n",
    "auc_roc = roc_auc_score(target_valid, probabilities_one_valid)\n",
    "print(f\"AUC-ROC модели случайного леса на валидационной выборке без учёта дисбаланса: {auc_roc}\")"
   ]
  },
  {
   "cell_type": "markdown",
   "metadata": {},
   "source": [
    "#### Логистическая регрессия"
   ]
  },
  {
   "cell_type": "code",
   "execution_count": 42,
   "metadata": {
    "scrolled": true
   },
   "outputs": [],
   "source": [
    "# model = LogisticRegression(random_state=random_state)\n",
    "# model.fit(features_train, target_train)\n",
    "# predicted_valid = model.predict(features_valid)\n",
    "\n",
    "# print('Матрица ошибок:')\n",
    "# print(confusion_matrix(target_valid, predicted_valid))\n",
    "# print()\n",
    "# print(f\"F1 модели логистичесмкой регрессии на валидационной выборке: {f1_score(target_valid, predicted_valid)}\")"
   ]
  },
  {
   "cell_type": "code",
   "execution_count": 43,
   "metadata": {},
   "outputs": [
    {
     "name": "stdout",
     "output_type": "stream",
     "text": [
      "F1 модели логистической регрессии на валидационной выборке без учёта дисбаланса: 0.30451127819548873\n",
      "AUC-ROC модели логистической регрессии на валидационной выборке без учёта дисбаланса: 0.7703169034793099\n"
     ]
    }
   ],
   "source": [
    "model = LogisticRegression(random_state=12345, solver='liblinear')\n",
    "model.fit(features_train, target_train)\n",
    "predicted_valid = model.predict(features_valid)\n",
    "print(\"F1 модели логистической регрессии на валидационной выборке без учёта дисбаланса:\",\n",
    "      f1_score(target_valid, predicted_valid))\n",
    "\n",
    "probabilities_valid = model.predict_proba(features_valid)\n",
    "probabilities_one_valid = probabilities_valid[:, 1]\n",
    "auc_roc = roc_auc_score(target_valid, probabilities_one_valid)\n",
    "print(f\"AUC-ROC модели логистической регрессии на валидационной выборке без учёта дисбаланса: {auc_roc}\")"
   ]
  },
  {
   "cell_type": "markdown",
   "metadata": {},
   "source": [
    "### Вывод по итогу исследования задачи\n"
   ]
  },
  {
   "cell_type": "markdown",
   "metadata": {},
   "source": [
    "- На данный момент ушедших клиентов в 4 раза больше тех, кто еще не ушел;\n",
    "- F1 наилучшей модели случайного леса на валидационной выборке без учёта дисбаланса: 0.5583596214511041 \n",
    "- Максимальная глубина: 7\n",
    "- AUC-ROC модели случайного леса на валидационной выборке без учёта дисбаланса: 0.8231010349393358\n",
    "---\n",
    "- F1 модели случайного леса на валидационной выборке без учёта дисбаланса: 0.5805422647527911 \n",
    "- Количество деревьев: 40 \n",
    "- Максимальная глубина: 14\n",
    "- AUC-ROC модели случайного леса на валидационной выборке без учёта дисбаланса: 0.8379050704238784\n",
    "---\n",
    "- F1 модели логистической регрессии на валидационной выборке без учёта дисбаланса: 0.30451127819548873\n",
    "- AUC-ROC модели логистической регрессии на валидационной выборке без учёта дисбаланса: 0.7703169034793099\n",
    "\n",
    "Доработаем данные путём балансировки классов."
   ]
  },
  {
   "cell_type": "markdown",
   "metadata": {},
   "source": [
    "## Борьба с дисбалансом"
   ]
  },
  {
   "cell_type": "code",
   "execution_count": 44,
   "metadata": {},
   "outputs": [],
   "source": [
    "# Функция увеличения выборки\n",
    "\n",
    "def upsample(features, target, repeat):\n",
    "    features_zeros = features[target == 0]\n",
    "    features_ones = features[target == 1]\n",
    "    target_zeros = target[target == 0]\n",
    "    target_ones = target[target == 1]\n",
    "\n",
    "    features_upsampled = pd.concat([features_zeros] + [features_ones] * repeat)\n",
    "    target_upsampled = pd.concat([target_zeros] + [target_ones] * repeat)\n",
    "    \n",
    "    features_upsampled, target_upsampled = shuffle(\n",
    "        features_upsampled, target_upsampled, random_state=random_state)\n",
    "    \n",
    "    return features_upsampled, target_upsampled\n",
    "\n",
    "features_upsampled, target_upsampled = upsample(features_train, target_train, 4)"
   ]
  },
  {
   "cell_type": "code",
   "execution_count": 45,
   "metadata": {},
   "outputs": [],
   "source": [
    "# Функция уменьшения выборки\n",
    "\n",
    "def downsample(features, target, fraction):\n",
    "    features_zeros = features[target == 0]\n",
    "    features_ones = features[target == 1]\n",
    "    target_zeros = target[target == 0]\n",
    "    target_ones = target[target == 1]\n",
    "\n",
    "    features_downsampled = pd.concat(\n",
    "        [features_zeros.sample(frac=fraction, random_state=random_state)] + [features_ones])\n",
    "    target_downsampled = pd.concat(\n",
    "        [target_zeros.sample(frac=fraction, random_state=random_state)] + [target_ones])\n",
    "    \n",
    "    features_downsampled, target_downsampled = shuffle(\n",
    "        features_downsampled, target_downsampled, random_state=random_state)\n",
    "    \n",
    "    return features_downsampled, target_downsampled\n",
    "\n",
    "features_downsampled, target_downsampled = downsample(features_train, target_train, 0.25)"
   ]
  },
  {
   "cell_type": "markdown",
   "metadata": {},
   "source": [
    "### Решающее дерево"
   ]
  },
  {
   "cell_type": "markdown",
   "metadata": {},
   "source": [
    "#### Взвешивание классов"
   ]
  },
  {
   "cell_type": "code",
   "execution_count": 46,
   "metadata": {},
   "outputs": [
    {
     "name": "stdout",
     "output_type": "stream",
     "text": [
      "F1 модели решающего дерева на валидационной выборке взвешиванием классов: 0.5587044534412956 \n",
      "Максимальная глубина: 6\n",
      "AUC-ROC решающего дерева леса на валидационной выборке взвешиванием классов: 0.8090671240258203\n",
      "CPU times: user 323 ms, sys: 0 ns, total: 323 ms\n",
      "Wall time: 321 ms\n"
     ]
    }
   ],
   "source": [
    "%%time\n",
    "\n",
    "# model = DecisionTreeClassifier(random_state=12345, class_weight='balanced')\n",
    "# model.fit(features_train, target_train)\n",
    "# predicted_valid = model.predict(features_valid)\n",
    "# print(\"F1 путем взвешивания классов:\", f1_score(target_valid, predicted_valid))\n",
    "\n",
    "best_model = None\n",
    "best_result = 0\n",
    "best_depth = 0\n",
    "\n",
    "for depth in range (1, 16, 1):\n",
    "    model = DecisionTreeClassifier(random_state=random_state, max_depth=depth, class_weight='balanced')\n",
    "    model.fit(features_train, target_train)\n",
    "    predicted_valid = model.predict(features_valid)\n",
    "    result = f1_score(target_valid, predicted_valid)\n",
    "    if result > best_result:\n",
    "        best_model = model\n",
    "        best_result = result\n",
    "        best_depth = depth\n",
    "\n",
    "print(\"F1 модели решающего дерева на валидационной выборке взвешиванием классов:\", best_result,\n",
    "      \"\\nМаксимальная глубина:\", best_depth)\n",
    "\n",
    "\n",
    "probabilities_valid = best_model.predict_proba(features_valid)\n",
    "probabilities_one_valid = probabilities_valid[:, 1]\n",
    "auc_roc = roc_auc_score(target_valid, probabilities_one_valid)\n",
    "\n",
    "print(f\"AUC-ROC решающего дерева леса на валидационной выборке взвешиванием классов: {auc_roc}\")"
   ]
  },
  {
   "cell_type": "markdown",
   "metadata": {},
   "source": [
    "#### Увеличение выборки"
   ]
  },
  {
   "cell_type": "code",
   "execution_count": 47,
   "metadata": {},
   "outputs": [
    {
     "name": "stdout",
     "output_type": "stream",
     "text": [
      "F1 модели решающего дерева на валидационной выборке увеличением выборки: 0.5587044534412956 \n",
      "Максимальная глубина: 6\n",
      "AUC-ROC модели решающего дерева на валидационной выборке увеличением выборки: 0.809054407830633\n",
      "CPU times: user 381 ms, sys: 0 ns, total: 381 ms\n",
      "Wall time: 388 ms\n"
     ]
    }
   ],
   "source": [
    "%%time\n",
    "\n",
    "# model = DecisionTreeClassifier(random_state=12345)\n",
    "# model.fit(features_upsampled, target_upsampled)\n",
    "# predicted_valid = model.predict(features_valid)\n",
    "# print(\"F1 путем увеличения выборки:\", f1_score(target_valid, predicted_valid))\n",
    "\n",
    "best_model = None\n",
    "best_result = 0\n",
    "best_depth = 0\n",
    "\n",
    "for depth in range (1, 16, 1):\n",
    "    model = DecisionTreeClassifier(random_state=random_state, max_depth=depth)\n",
    "    model.fit(features_upsampled, target_upsampled)\n",
    "    predicted_valid = model.predict(features_valid)\n",
    "    result = f1_score(target_valid, predicted_valid)\n",
    "    if result > best_result:\n",
    "        best_model = model\n",
    "        best_result = result\n",
    "        best_depth = depth\n",
    "\n",
    "print(\"F1 модели решающего дерева на валидационной выборке увеличением выборки:\", best_result,\n",
    "      \"\\nМаксимальная глубина:\", best_depth)\n",
    "\n",
    "\n",
    "probabilities_valid = best_model.predict_proba(features_valid)\n",
    "probabilities_one_valid = probabilities_valid[:, 1]\n",
    "auc_roc = roc_auc_score(target_valid, probabilities_one_valid)\n",
    "\n",
    "print(f\"AUC-ROC модели решающего дерева на валидационной выборке увеличением выборки: {auc_roc}\")"
   ]
  },
  {
   "cell_type": "markdown",
   "metadata": {},
   "source": [
    "#### Уменьшение выборки"
   ]
  },
  {
   "cell_type": "code",
   "execution_count": 48,
   "metadata": {},
   "outputs": [
    {
     "name": "stdout",
     "output_type": "stream",
     "text": [
      "F1 модели решающего дерева на валидационной выборке уменьшением выборки: 0.5493482309124766 \n",
      "Максимальная глубина: 7\n",
      "AUC-ROC модели решающего дерева на валидационной выборке уменьшением выборки: 0.8143546769371137\n",
      "CPU times: user 166 ms, sys: 4.35 ms, total: 170 ms\n",
      "Wall time: 177 ms\n"
     ]
    }
   ],
   "source": [
    "%%time\n",
    "\n",
    "# model = DecisionTreeClassifier(random_state=12345)\n",
    "# model.fit(features_downsampled, target_downsampled)\n",
    "\n",
    "# predicted_valid = model.predict(features_valid)\n",
    "\n",
    "# print(\"F1 путем уменьшения выборки:\", f1_score(target_valid, predicted_valid))\n",
    "\n",
    "\n",
    "best_model = None\n",
    "best_result = 0\n",
    "best_depth = 0\n",
    "\n",
    "for depth in range (1, 16, 1):\n",
    "    model = DecisionTreeClassifier(random_state=random_state, max_depth=depth)\n",
    "    model.fit(features_downsampled, target_downsampled)\n",
    "    predicted_valid = model.predict(features_valid)\n",
    "    result = f1_score(target_valid, predicted_valid)\n",
    "    if result > best_result:\n",
    "        best_model = model\n",
    "        best_result = result\n",
    "        best_depth = depth\n",
    "\n",
    "print(\"F1 модели решающего дерева на валидационной выборке уменьшением выборки:\", best_result,\n",
    "      \"\\nМаксимальная глубина:\", best_depth)\n",
    "\n",
    "\n",
    "probabilities_valid = best_model.predict_proba(features_valid)\n",
    "probabilities_one_valid = probabilities_valid[:, 1]\n",
    "auc_roc = roc_auc_score(target_valid, probabilities_one_valid)\n",
    "\n",
    "print(f\"AUC-ROC модели решающего дерева на валидационной выборке уменьшением выборки: {auc_roc}\")"
   ]
  },
  {
   "cell_type": "markdown",
   "metadata": {},
   "source": [
    "#### Вывод по решающему дереву"
   ]
  },
  {
   "cell_type": "markdown",
   "metadata": {},
   "source": [
    "Решающее дерево\n",
    "\n",
    "- F1 модели решающего дерева на валидационной выборке взвешиванием классов: 0.5587044534412956 \n",
    "- Максимальная глубина: 6\n",
    "- AUC-ROC модели решающего дерева на валидационной выборке взвешиванием классов: 0.8090671240258203\n",
    "\n",
    "---\n",
    "\n",
    "- F1 модели случайного леса на валидационной выборке увеличением выборки: 0.5587044534412956 \n",
    "- Максимальная глубина: 6\n",
    "- AUC-ROC модели случайного леса на валидационной выборке увеличением выборки: 0.809054407830633\n",
    "\n",
    "---\n",
    "\n",
    "- F1 модели случайного леса на валидационной выборке уменьшением выборки: 0.5493482309124766 \n",
    "- Максимальная глубина: 7\n",
    "- AUC-ROC модели случайного леса на валидационной выборке уменьшением выборки: 0.8143546769371137"
   ]
  },
  {
   "cell_type": "markdown",
   "metadata": {},
   "source": [
    "### Случайный лес"
   ]
  },
  {
   "cell_type": "markdown",
   "metadata": {},
   "source": [
    "#### Взвешивание классов"
   ]
  },
  {
   "cell_type": "code",
   "execution_count": 49,
   "metadata": {},
   "outputs": [
    {
     "name": "stdout",
     "output_type": "stream",
     "text": [
      "F1 модели случайного леса на валидационной выборке взвешиванием классов: 0.5989304812834224 \n",
      "Количество деревьев: 60 \n",
      "Максимальная глубина: 11\n",
      "AUC-ROC модели случайного леса на валидационной выборке взвешиванием классов: 0.8488457668580984\n",
      "CPU times: user 1min 27s, sys: 447 ms, total: 1min 27s\n",
      "Wall time: 1min 28s\n"
     ]
    }
   ],
   "source": [
    "%%time\n",
    "\n",
    "# model = RandomForestClassifier(random_state=12345, class_weight='balanced')\n",
    "# model.fit(features_train, target_train)\n",
    "# predicted_valid = model.predict(features_valid)\n",
    "# print(\"F1 путем взвешивания классов:\", f1_score(target_valid, predicted_valid))\n",
    "\n",
    "best_model = None\n",
    "best_result = 0\n",
    "best_est = 0\n",
    "best_depth = 0\n",
    "\n",
    "for est in range(10, 151, 10):\n",
    "    for depth in range (1, 16, 1):\n",
    "        model = RandomForestClassifier(random_state=random_state, max_depth=depth, n_estimators=est, class_weight='balanced')\n",
    "        model.fit(features_train, target_train)\n",
    "        predicted_valid = model.predict(features_valid)\n",
    "        result = f1_score(target_valid, predicted_valid)\n",
    "#         test_predictions = model.predict(features_test)\n",
    "#         result = f1_score(target_test, test_predictions)\n",
    "        if result > best_result:\n",
    "            best_model = model\n",
    "            best_result = result\n",
    "            best_est = est\n",
    "            best_depth = depth\n",
    "print(\"F1 модели случайного леса на валидационной выборке взвешиванием классов:\", best_result,\n",
    "      \"\\nКоличество деревьев:\", best_est,\n",
    "      \"\\nМаксимальная глубина:\", best_depth)\n",
    "\n",
    "probabilities_valid = best_model.predict_proba(features_valid)\n",
    "probabilities_one_valid = probabilities_valid[:, 1]\n",
    "\n",
    "auc_roc = roc_auc_score(target_valid, probabilities_one_valid)\n",
    "\n",
    "print(f\"AUC-ROC модели случайного леса на валидационной выборке взвешиванием классов: {auc_roc}\")"
   ]
  },
  {
   "cell_type": "markdown",
   "metadata": {},
   "source": [
    "#### Увеличение выборки"
   ]
  },
  {
   "cell_type": "code",
   "execution_count": 50,
   "metadata": {},
   "outputs": [
    {
     "name": "stdout",
     "output_type": "stream",
     "text": [
      "F1 модели случайного леса на валидационной выборке увеличением выборки: 0.6025 \n",
      "Количество деревьев: 80 \n",
      "Максимальная глубина: 13\n",
      "AUC-ROC модели случайного леса на валидационной выборке увеличением выборки: 0.848659792503485\n",
      "CPU times: user 1min 59s, sys: 507 ms, total: 2min\n",
      "Wall time: 2min\n"
     ]
    }
   ],
   "source": [
    "%%time\n",
    "\n",
    "# model = RandomForestClassifier(random_state=12345)\n",
    "# model.fit(features_upsampled, target_upsampled)\n",
    "# predicted_valid = model.predict(features_valid)\n",
    "# print(\"F1 путем увеличения выборки:\", f1_score(target_valid, predicted_valid))\n",
    "\n",
    "best_model = None\n",
    "best_result = 0\n",
    "best_est = 0\n",
    "best_depth = 0\n",
    "\n",
    "for est in range(10, 151, 10):\n",
    "    for depth in range (1, 16, 1):\n",
    "        model = RandomForestClassifier(random_state=random_state, max_depth=depth, n_estimators=est)\n",
    "        model.fit(features_upsampled, target_upsampled)\n",
    "        predicted_valid = model.predict(features_valid)\n",
    "        result = f1_score(target_valid, predicted_valid)\n",
    "#         test_predictions = model.predict(features_test)\n",
    "#         result = f1_score(target_test, test_predictions)\n",
    "        if result > best_result:\n",
    "            best_model = model\n",
    "            best_result = result\n",
    "            best_est = est\n",
    "            best_depth = depth\n",
    "print(\"F1 модели случайного леса на валидационной выборке увеличением выборки:\", best_result,\n",
    "      \"\\nКоличество деревьев:\", best_est,\n",
    "      \"\\nМаксимальная глубина:\", best_depth)\n",
    "\n",
    "probabilities_valid = best_model.predict_proba(features_valid)\n",
    "probabilities_one_valid = probabilities_valid[:, 1]\n",
    "auc_roc = roc_auc_score(target_valid, probabilities_one_valid)\n",
    "print(f\"AUC-ROC модели случайного леса на валидационной выборке увеличением выборки: {auc_roc}\")"
   ]
  },
  {
   "cell_type": "markdown",
   "metadata": {},
   "source": [
    "#### Уменьшение выборки"
   ]
  },
  {
   "cell_type": "code",
   "execution_count": 51,
   "metadata": {},
   "outputs": [
    {
     "name": "stdout",
     "output_type": "stream",
     "text": [
      "F1 модели случайного леса на валидационной выборке уменьшением выборки: 0.5711481844946026 \n",
      "Количество деревьев: 130 \n",
      "Максимальная глубина: 9\n",
      "AUC-ROC модели случайного леса на валидационной выборке уменьшением выборки: 0.8501237444744157\n",
      "CPU times: user 51.6 s, sys: 240 ms, total: 51.8 s\n",
      "Wall time: 51.9 s\n"
     ]
    }
   ],
   "source": [
    "%%time\n",
    "\n",
    "# model = RandomForestClassifier(random_state=12345)\n",
    "# model.fit(features_downsampled, target_downsampled)\n",
    "# predicted_valid = model.predict(features_valid)\n",
    "# print(\"F1 путем уменьшения выборки:\", f1_score(target_valid, predicted_valid))\n",
    "\n",
    "best_model = None\n",
    "best_result = 0\n",
    "best_est = 0\n",
    "best_depth = 0\n",
    "\n",
    "for est in range(10, 151, 10):\n",
    "    for depth in range (1, 16, 1):\n",
    "        model = RandomForestClassifier(random_state=random_state, max_depth=depth, n_estimators=est)\n",
    "        model.fit(features_downsampled, target_downsampled)\n",
    "        predicted_valid = model.predict(features_valid)\n",
    "        result = f1_score(target_valid, predicted_valid)\n",
    "#         test_predictions = model.predict(features_test)\n",
    "#         result = f1_score(target_test, test_predictions)\n",
    "        if result > best_result:\n",
    "            best_model = model\n",
    "            best_result = result\n",
    "            best_est = est\n",
    "            best_depth = depth\n",
    "print(\"F1 модели случайного леса на валидационной выборке уменьшением выборки:\", best_result,\n",
    "      \"\\nКоличество деревьев:\", best_est,\n",
    "      \"\\nМаксимальная глубина:\", best_depth)\n",
    "\n",
    "probabilities_valid = best_model.predict_proba(features_valid)\n",
    "probabilities_one_valid = probabilities_valid[:, 1]\n",
    "auc_roc = roc_auc_score(target_valid, probabilities_one_valid)\n",
    "print(f\"AUC-ROC модели случайного леса на валидационной выборке уменьшением выборки: {auc_roc}\")"
   ]
  },
  {
   "cell_type": "markdown",
   "metadata": {},
   "source": [
    "#### Вывод по случайному лесу"
   ]
  },
  {
   "cell_type": "markdown",
   "metadata": {},
   "source": [
    "Случайный лес\n",
    "\n",
    "- F1 модели решающего дерева на валидационной выборке взвешиванием классов: 0.5989304812834224 \n",
    "- Количество деревьев: 60 \n",
    "- Максимальная глубина: 11\n",
    "- AUC-ROC модели решающего дерева на валидационной выборке взвешиванием классов: 0.8488457668580984\n",
    "\n",
    "---\n",
    "\n",
    "- F1 модели случайного леса на валидационной выборке увеличением выборки: 0.6025 \n",
    "- Количество деревьев: 80 \n",
    "- Максимальная глубина: 13\n",
    "- AUC-ROC модели случайного леса на валидационной выборке увеличением выборки: 0.848659792503485\n",
    "\n",
    "---\n",
    "\n",
    "- F1 модели случайного леса на валидационной выборке уменьшением выборки: 0.5711481844946026 \n",
    "- Количество деревьев: 130 \n",
    "- Максимальная глубина: 9\n",
    "- AUC-ROC модели случайного леса на валидационной выборке уменьшением выборки: 0.8501237444744157"
   ]
  },
  {
   "cell_type": "markdown",
   "metadata": {},
   "source": [
    "### Логистическая регрессия"
   ]
  },
  {
   "cell_type": "markdown",
   "metadata": {},
   "source": [
    "#### Взвешивание классов"
   ]
  },
  {
   "cell_type": "code",
   "execution_count": 52,
   "metadata": {},
   "outputs": [
    {
     "name": "stdout",
     "output_type": "stream",
     "text": [
      "F1 путем взвешивания классов: 0.4767857142857143\n",
      "AUC-ROC модели случайного леса на валидационной выборке взвешиванием классов: 0.7725740281250447\n"
     ]
    }
   ],
   "source": [
    "model = LogisticRegression(random_state=12345, solver='liblinear', class_weight='balanced')\n",
    "model.fit(features_train, target_train)\n",
    "predicted_valid = model.predict(features_valid)\n",
    "print(\"F1 путем взвешивания классов:\", f1_score(target_valid, predicted_valid))\n",
    "\n",
    "probabilities_valid = model.predict_proba(features_valid)\n",
    "probabilities_one_valid = probabilities_valid[:, 1]\n",
    "auc_roc = roc_auc_score(target_valid, probabilities_one_valid)\n",
    "print(f\"AUC-ROC модели случайного леса на валидационной выборке взвешиванием классов: {auc_roc}\")"
   ]
  },
  {
   "cell_type": "markdown",
   "metadata": {},
   "source": [
    "#### Увеличение выборки"
   ]
  },
  {
   "cell_type": "code",
   "execution_count": 53,
   "metadata": {},
   "outputs": [
    {
     "name": "stdout",
     "output_type": "stream",
     "text": [
      "F1 путем увеличения выборки: 0.476274165202109\n",
      "AUC-ROC модели случайного леса на валидационной выборке увеличением выборки: 0.7725613119298576\n"
     ]
    }
   ],
   "source": [
    "model = LogisticRegression(random_state=12345, solver='liblinear')\n",
    "model.fit(features_upsampled, target_upsampled)\n",
    "predicted_valid = model.predict(features_valid)\n",
    "print(\"F1 путем увеличения выборки:\", f1_score(target_valid, predicted_valid))\n",
    "\n",
    "probabilities_valid = model.predict_proba(features_valid)\n",
    "probabilities_one_valid = probabilities_valid[:, 1]\n",
    "auc_roc = roc_auc_score(target_valid, probabilities_one_valid)\n",
    "print(f\"AUC-ROC модели случайного леса на валидационной выборке увеличением выборки: {auc_roc}\")"
   ]
  },
  {
   "cell_type": "markdown",
   "metadata": {},
   "source": [
    "#### Уменьшение выборки"
   ]
  },
  {
   "cell_type": "code",
   "execution_count": 54,
   "metadata": {},
   "outputs": [
    {
     "name": "stdout",
     "output_type": "stream",
     "text": [
      "F1 путем уменьшения выборки: 0.47368421052631576\n",
      "AUC-ROC модели случайного леса на валидационной выборке уменьшением выборки: 0.7737661714238483\n"
     ]
    }
   ],
   "source": [
    "model = LogisticRegression(random_state=12345, solver='liblinear')\n",
    "model.fit(features_downsampled, target_downsampled)\n",
    "predicted_valid = model.predict(features_valid)\n",
    "print(\"F1 путем уменьшения выборки:\", f1_score(target_valid, predicted_valid))\n",
    "\n",
    "probabilities_valid = model.predict_proba(features_valid)\n",
    "probabilities_one_valid = probabilities_valid[:, 1]\n",
    "auc_roc = roc_auc_score(target_valid, probabilities_one_valid)\n",
    "print(f\"AUC-ROC модели случайного леса на валидационной выборке уменьшением выборки: {auc_roc}\")"
   ]
  },
  {
   "cell_type": "markdown",
   "metadata": {},
   "source": [
    "#### Вывод по логистической регрессии"
   ]
  },
  {
   "cell_type": "markdown",
   "metadata": {},
   "source": [
    "Логистическая регрессия\n",
    "- F1 путем взвешивания классов: 0.4767857142857143\n",
    "- AUC-ROC модели случайного леса на валидационной выборке взвешиванием классов: 0.7725740281250447\n",
    "---\n",
    "- F1 путем увеличения выборки: 0.476274165202109\n",
    "- AUC-ROC модели случайного леса на валидационной выборке увеличением выборки: 0.7725613119298576\n",
    "---\n",
    "- F1 путем уменьшения выборки: 0.47368421052631576\n",
    "- AUC-ROC модели случайного леса на валидационной выборке уменьшением выборки: 0.7737661714238483"
   ]
  },
  {
   "cell_type": "markdown",
   "metadata": {},
   "source": [
    "### Вывод по изучению моделей\n",
    "\n",
    "- F1 наилучшей модели случайного леса на валидационной выборке увеличением выборки: 0.6025 \n",
    "- Количество деревьев: 80 \n",
    "- Максимальная глубина: 13\n",
    "- AUC-ROC модели случайного леса на валидационной выборке увеличением выборки: 0.848659792503485\n",
    "---\n",
    "- Модель случайного леса;\n",
    "- Устранение дисбаланса увеличением выборки"
   ]
  },
  {
   "cell_type": "markdown",
   "metadata": {},
   "source": [
    "### Подбор лучшей модели случайного леса\n"
   ]
  },
  {
   "cell_type": "code",
   "execution_count": 55,
   "metadata": {},
   "outputs": [],
   "source": [
    "# %%time\n",
    "\n",
    "# best_model = None\n",
    "# best_result = 0\n",
    "# best_est = 0\n",
    "# best_depth = 0\n",
    "\n",
    "# for est in range(10, 151, 10):\n",
    "#     for depth in range (1, 16, 1):\n",
    "#         model = RandomForestClassifier(random_state=12345, max_depth=depth, n_estimators=est)\n",
    "#         model.fit(features_upsampled, target_upsampled)\n",
    "#         predicted_valid = model.predict(features_valid)\n",
    "#         result = f1_score(target_valid, predicted_valid)\n",
    "# #         test_predictions = model.predict(features_test)\n",
    "# #         result = f1_score(target_test, test_predictions)\n",
    "#         if result > best_result:\n",
    "#             best_model = model\n",
    "#             best_result = result\n",
    "#             best_est = est\n",
    "#             best_depth = depth\n",
    "# print(\"F1 наилучшей модели на валидационной выборке:\", best_result,\n",
    "#       \"\\nКоличество деревьев:\", best_est,\n",
    "#       \"\\nМаксимальная глубина:\", best_depth)"
   ]
  },
  {
   "cell_type": "code",
   "execution_count": 56,
   "metadata": {},
   "outputs": [],
   "source": [
    "# probabilities_valid = best_model.predict_proba(features_valid)\n",
    "# probabilities_one_valid = probabilities_valid[:, 1]\n",
    "\n",
    "# auc_roc = roc_auc_score(target_valid, probabilities_one_valid)\n",
    "\n",
    "# print(f\"AUC-ROC модели случайного леса на валидационной выборке: {auc_roc}\")"
   ]
  },
  {
   "cell_type": "markdown",
   "metadata": {},
   "source": [
    "~~Расчет грубины в комментарии к этому тексту~~\n",
    "<!-- %%time\n",
    "\n",
    "best_model = None\n",
    "best_result = 0\n",
    "best_est = 0\n",
    "best_depth = 0\n",
    "\n",
    "for depth in range (1, 16, 1):\n",
    "    model = RandomForestClassifier(random_state=12345, max_depth=depth)\n",
    "    model.fit(features_upsampled, target_upsampled)\n",
    "    predicted_valid = model.predict(features_valid)\n",
    "    result = f1_score(target_valid, predicted_valid)\n",
    "    if result > best_result:\n",
    "            best_model = model\n",
    "            best_result = result\n",
    "            best_depth = depth\n",
    "\n",
    "print(f\"Максимальная глубина: {best_depth}; F1 модели на валидационной выборке: {best_result}\") -->"
   ]
  },
  {
   "cell_type": "markdown",
   "metadata": {},
   "source": [
    "~~Расчет количества деревьев в комментарии к этому тексту~~\n",
    "<!-- %%time\n",
    "\n",
    "best_model = None\n",
    "best_result = 0\n",
    "best_est = 0\n",
    "best_depth = 0\n",
    "\n",
    "for est in range(10, 151, 10):\n",
    "    model = RandomForestClassifier(random_state=12345, n_estimators=est, max_depth=11)\n",
    "    model.fit(features_upsampled, target_upsampled)\n",
    "    predicted_valid = model.predict(features_valid)\n",
    "    result = f1_score(target_valid, predicted_valid)\n",
    "    if result > best_result:\n",
    "            best_model = model\n",
    "            best_est = est\n",
    "            best_result = result\n",
    "            best_depth = depth\n",
    "\n",
    "print(f\"Количество деревьев: {best_est};\\nF1 модели на валидационной выборке: {best_result}\") -->"
   ]
  },
  {
   "cell_type": "markdown",
   "metadata": {},
   "source": [
    "### Вывод по итогу улучшения модели случайного леса\n",
    "<!--  -->\n",
    "<!-- - F1 наилучшей модели на валидационной выборке: 0.67430441898527 \n",
    "- Количество деревьев: 150 \n",
    "- Максимальная глубина: 15 -->"
   ]
  },
  {
   "cell_type": "markdown",
   "metadata": {},
   "source": [
    "## Тестирование модели"
   ]
  },
  {
   "cell_type": "code",
   "execution_count": 57,
   "metadata": {},
   "outputs": [
    {
     "data": {
      "text/plain": [
       "RandomForestClassifier(max_depth=13, n_estimators=80, random_state=12345)"
      ]
     },
     "execution_count": 57,
     "metadata": {},
     "output_type": "execute_result"
    }
   ],
   "source": [
    "best_model = RandomForestClassifier(random_state=random_state, max_depth=13, n_estimators=80)\n",
    "best_model.fit(features_upsampled, target_upsampled)"
   ]
  },
  {
   "cell_type": "code",
   "execution_count": 58,
   "metadata": {
    "scrolled": true
   },
   "outputs": [
    {
     "name": "stdout",
     "output_type": "stream",
     "text": [
      "F1 лучшей модели на тестовой выборке: 0.6251497005988024\n",
      "AUC-ROC лучшей модели на тестовой выборке: 0.855777605405027\n"
     ]
    }
   ],
   "source": [
    "test_predictions = best_model.predict(features_test)\n",
    "test_f1 = f1_score(target_test, test_predictions)\n",
    "print(\"F1 лучшей модели на тестовой выборке:\", test_f1)\n",
    "\n",
    "probabilities_valid = best_model.predict_proba(features_test)\n",
    "probabilities_one_valid = probabilities_valid[:, 1]\n",
    "auc_roc = roc_auc_score(target_test, probabilities_one_valid)\n",
    "print(f\"AUC-ROC лучшей модели на тестовой выборке: {auc_roc}\")"
   ]
  },
  {
   "cell_type": "code",
   "execution_count": 59,
   "metadata": {},
   "outputs": [
    {
     "name": "stdout",
     "output_type": "stream",
     "text": [
      "F1 лучшей модели на обучающей выборке: 0.9551886792452831\n",
      "AUC-ROC лучшей модели на обучающей выборке: 0.9994287958608375\n"
     ]
    }
   ],
   "source": [
    "test_predictions = best_model.predict(features_train)\n",
    "test_f1 = f1_score(target_train, test_predictions)\n",
    "print(\"F1 лучшей модели на обучающей выборке:\", test_f1)\n",
    "\n",
    "probabilities_valid = best_model.predict_proba(features_train)\n",
    "probabilities_one_valid = probabilities_valid[:, 1]\n",
    "auc_roc = roc_auc_score(target_train, probabilities_one_valid)\n",
    "print(f\"AUC-ROC лучшей модели на обучающей выборке: {auc_roc}\")"
   ]
  },
  {
   "cell_type": "code",
   "execution_count": 60,
   "metadata": {},
   "outputs": [
    {
     "name": "stdout",
     "output_type": "stream",
     "text": [
      "F1 лучшей модели на валидационной выборке: 0.6025\n",
      "AUC-ROC лучшей модели на валидационной выборке: 0.848659792503485\n"
     ]
    }
   ],
   "source": [
    "test_predictions = best_model.predict(features_valid)\n",
    "test_f1 = f1_score(target_valid, test_predictions)\n",
    "print(\"F1 лучшей модели на валидационной выборке:\", test_f1)\n",
    "\n",
    "probabilities_valid = best_model.predict_proba(features_valid)\n",
    "probabilities_one_valid = probabilities_valid[:, 1]\n",
    "auc_roc = roc_auc_score(target_valid, probabilities_one_valid)\n",
    "print(f\"AUC-ROC лучшей модели на валидационной выборке: {auc_roc}\")"
   ]
  },
  {
   "cell_type": "markdown",
   "metadata": {},
   "source": [
    "### Проверка модели на адекватность"
   ]
  },
  {
   "cell_type": "code",
   "execution_count": 61,
   "metadata": {},
   "outputs": [
    {
     "name": "stdout",
     "output_type": "stream",
     "text": [
      "F1 лучшей модели на приоритетной выборке: 0.3350676378772113\n",
      "AUC-ROC лучшей модели на приоритетной выборке: 0.5\n"
     ]
    }
   ],
   "source": [
    "dummy_clf = DummyClassifier(strategy=\"prior\")\n",
    "dummy_clf.fit(features_upsampled, target_upsampled)\n",
    "\n",
    "\n",
    "uniform_predictions = dummy_clf.predict(features_tv)\n",
    "uniform_f1_score = f1_score(target_tv, uniform_predictions)\n",
    "\n",
    "print(\"F1 лучшей модели на приоритетной выборке:\", uniform_f1_score)\n",
    "\n",
    "auc_roc = roc_auc_score(target_tv, uniform_predictions)\n",
    "print(f\"AUC-ROC лучшей модели на приоритетной выборке: {auc_roc}\")"
   ]
  },
  {
   "cell_type": "markdown",
   "metadata": {},
   "source": [
    "### Вывод по проверке модели на тестовой выборке\n",
    "\n",
    "- значения на обучениющей выборке довольно близкие к единице;\n",
    "- значения на тестовой выборке на 0.02 лучше, чем на валидационной выборке.\n",
    "\n",
    "Лучшая модель случайного леса при количество деревьев: 80 и максимальной глубине: 13:\n",
    "\n",
    "- F1 лучшей модели на тестовой выборке: 0.6251497005988024\n",
    "- AUC-ROC лучшей модели на тестовой выборке: 0.855777605405027\n",
    "---\n",
    "- F1 лучшей модели на обучающей выборке: 0.9551886792452831\n",
    "- AUC-ROC лучшей модели на обучающей выборке: 0.9994287958608375\n",
    "---\n",
    "- F1 лучшей модели на валидационной выборке: 0.6025\n",
    "- AUC-ROC лучшей модели на валидационной выборке: 0.848659792503485\n",
    "---\n",
    "- F1 лучшей модели на приоритетной выборке: 0.3350676378772113\n",
    "- AUC-ROC лучшей модели на приоритетной выборке: 0.5"
   ]
  },
  {
   "cell_type": "markdown",
   "metadata": {},
   "source": [
    "## Итоговый вывод"
   ]
  },
  {
   "cell_type": "markdown",
   "metadata": {},
   "source": [
    "###### Подготовка данных\n",
    "\n",
    "Удалены не важные признаки:\n",
    "- RowNumber;\n",
    "- CustomerId;\n",
    "- Surname.\n",
    "\n",
    "Информация по столбцам:\n",
    "\n",
    "- Коррелируемые данные не наблюдаются.\n",
    "\n",
    "\n",
    "- В столбце `Balance` пользователи с нулевым балансом. Их нельзя считать выбросами, поскольку это может быть временная ситуация. Удалено 40% пользователей с нулевым балансом.\n",
    "\n",
    "- В столбце `Tenure` имеются пропуски. Это могут быть новые пользователи или пользователи в процессе оформления документов. По ним следует уточнить информацию. Для проекта удалили их, чтобы не запутать модель.\n",
    "\n",
    "- В столбце `CreditScore` имеется пиковое значение, однако его трогать не будем.\n",
    "\n",
    "- В столбце `Exited` (целевой признак) присутствует дизбаланс классов. Эту проблему будем решать в соответствующем пункте.\n",
    "\n",
    "- В столбцах `Geography` `Gender` переведены категориальные признаки в численные техникой OHE.\n",
    "\n",
    "Приведены названия столбцов к змеиному регистру.\n",
    "\n",
    "Проведено масштабирование признаков\n",
    "\n",
    "---\n",
    "\n",
    "Ввиду отсутствия спрятанной тестовой выборки, данные разбиты на три части: обучающую, валидационную и тестовую.\n",
    "\n",
    "- пропорции разбиения: `3:1:1` `(60% обучающая):(20% валидационная):(20% тестовая)`\n",
    "- проверка размера подтвеждает правильность разбиения данных.\n",
    "\n",
    "---\n",
    "\n",
    "###### Исследование задачи\n",
    "\n",
    "- На данный момент ушедших клиентов в 4 раза больше тех, кто еще не ушел;\n",
    "- F1 наилучшей модели случайного леса на валидационной выборке без учёта дисбаланса: 0.5583596214511041 \n",
    "- Максимальная глубина: 7\n",
    "- AUC-ROC модели случайного леса на валидационной выборке без учёта дисбаланса: 0.8231010349393358\n",
    "---\n",
    "- F1 модели случайного леса на валидационной выборке без учёта дисбаланса: 0.5805422647527911 \n",
    "- Количество деревьев: 40 \n",
    "- Максимальная глубина: 14\n",
    "- AUC-ROC модели случайного леса на валидационной выборке без учёта дисбаланса: 0.8379050704238784\n",
    "---\n",
    "- F1 модели логистической регрессии на валидационной выборке без учёта дисбаланса: 0.30451127819548873\n",
    "- AUC-ROC модели логистической регрессии на валидационной выборке без учёта дисбаланса: 0.7703169034793099\n",
    "\n",
    "Доработаем данные путём балансировки классов.\n",
    "\n",
    "---\n",
    "\n",
    "<!-- ###### Борьба с дисбалансом\n",
    "\n",
    "Решающее дерево\n",
    "\n",
    "- F1 путем взвешивания классов: 0.5482388973966309;\n",
    "- F1 путем увеличения выборки: 0.5125786163522013;\n",
    "- F1 путем уменьшения выборки: 0.4756637168141593.\n",
    "\n",
    "Случайный лес\n",
    "\n",
    "- F1 путем взвешивания классов: 0.6150793650793651;\n",
    "- F1 путем увеличения выборки: 0.6457242582897034;\n",
    "- F1 путем уменьшения выборки: 0.6090133982947625.\n",
    "\n",
    "Логистическая регрессия\n",
    "\n",
    "- F1 путем взвешивания классов: 0.544392523364486;\n",
    "- F1 путем увеличения выборки: 0.5235042735042735;\n",
    "- F1 путем уменьшения выборки: 0.546236559139785.\n",
    "\n",
    "--- -->\n",
    "\n",
    "###### Вывод по изучению моделей\n",
    "\n",
    "- F1 наилучшей модели случайного леса на валидационной выборке увеличением выборки: 0.6025 \n",
    "- Количество деревьев: 80 \n",
    "- Максимальная глубина: 13\n",
    "- AUC-ROC модели случайного леса на валидационной выборке увеличением выборки: 0.848659792503485\n",
    "---\n",
    "- Модель случайного леса;\n",
    "- Устранение дисбаланса увеличением выборки\n",
    "\n",
    "---\n",
    "\n",
    "<!-- ###### Вывод по итогу улучшения модели случайного леса\n",
    "\n",
    "- F1 наилучшей модели на валидационной выборке: 0.67430441898527 \n",
    "- Количество деревьев: 150 \n",
    "- Максимальная глубина: 15\n",
    " -->\n",
    "---\n",
    "\n",
    "###### Вывод по итогу тестирования модели\n",
    "\n",
    "- значения на обучениющей выборке довольно близкие к единице;\n",
    "- значения на тестовой выборке на 0.02 лучше, чем на валидационной выборке.\n",
    "\n",
    "Лучшая модель случайного леса при количество деревьев: 80 и максимальной глубине: 13:\n",
    "\n",
    "- F1 лучшей модели на тестовой выборке: 0.6251497005988024\n",
    "- AUC-ROC лучшей модели на тестовой выборке: 0.855777605405027\n",
    "---\n",
    "- F1 лучшей модели на обучающей выборке: 0.9551886792452831\n",
    "- AUC-ROC лучшей модели на обучающей выборке: 0.9994287958608375\n",
    "---\n",
    "- F1 лучшей модели на валидационной выборке: 0.6025\n",
    "- AUC-ROC лучшей модели на валидационной выборке: 0.848659792503485\n",
    "---\n",
    "- F1 лучшей модели на приоритетной выборке: 0.3350676378772113\n",
    "- AUC-ROC лучшей модели на приоритетной выборке: 0.5"
   ]
  },
  {
   "cell_type": "markdown",
   "metadata": {},
   "source": [
    "## Чек-лист готовности проекта"
   ]
  },
  {
   "cell_type": "markdown",
   "metadata": {},
   "source": [
    "Поставьте 'x' в выполненных пунктах. Далее нажмите Shift+Enter."
   ]
  },
  {
   "cell_type": "markdown",
   "metadata": {},
   "source": [
    "- [x]  Jupyter Notebook открыт\n",
    "- [x]  Весь код выполняется без ошибок\n",
    "- [x]  Ячейки с кодом расположены в порядке исполнения\n",
    "- [x]  Выполнен шаг 1: данные подготовлены\n",
    "- [x]  Выполнен шаг 2: задача исследована\n",
    "    - [x]  Исследован баланс классов\n",
    "    - [x]  Изучены модели без учёта дисбаланса\n",
    "    - [x]  Написаны выводы по результатам исследования\n",
    "- [x]  Выполнен шаг 3: учтён дисбаланс\n",
    "    - [x]  Применено несколько способов борьбы с дисбалансом\n",
    "    - [x]  Написаны выводы по результатам исследования\n",
    "- [x]  Выполнен шаг 4: проведено тестирование\n",
    "- [x]  Удалось достичь *F1*-меры не менее 0.59\n",
    "- [x]  Исследована метрика *AUC-ROC*"
   ]
  },
  {
   "cell_type": "code",
   "execution_count": null,
   "metadata": {},
   "outputs": [],
   "source": []
  }
 ],
 "metadata": {
  "ExecuteTimeLog": [
   {
    "duration": 448,
    "start_time": "2023-07-11T11:58:47.106Z"
   },
   {
    "duration": 763,
    "start_time": "2023-07-11T11:58:47.559Z"
   },
   {
    "duration": 155,
    "start_time": "2023-07-11T11:59:23.707Z"
   },
   {
    "duration": 13,
    "start_time": "2023-07-11T12:01:43.461Z"
   },
   {
    "duration": 21,
    "start_time": "2023-07-11T12:02:30.614Z"
   },
   {
    "duration": 15,
    "start_time": "2023-07-11T12:02:40.228Z"
   },
   {
    "duration": 118,
    "start_time": "2023-07-11T12:04:32.621Z"
   },
   {
    "duration": 646,
    "start_time": "2023-07-11T12:04:45.921Z"
   },
   {
    "duration": 77832,
    "start_time": "2023-07-11T12:04:49.848Z"
   },
   {
    "duration": 6,
    "start_time": "2023-07-11T12:53:58.191Z"
   },
   {
    "duration": 35,
    "start_time": "2023-07-11T12:54:10.286Z"
   },
   {
    "duration": 1348,
    "start_time": "2023-07-11T12:54:23.950Z"
   },
   {
    "duration": 283,
    "start_time": "2023-07-11T12:54:25.300Z"
   },
   {
    "duration": 43,
    "start_time": "2023-07-11T12:54:25.584Z"
   },
   {
    "duration": 25,
    "start_time": "2023-07-11T12:54:25.630Z"
   },
   {
    "duration": 15,
    "start_time": "2023-07-11T12:54:25.657Z"
   },
   {
    "duration": 5,
    "start_time": "2023-07-11T12:54:27.424Z"
   },
   {
    "duration": 6,
    "start_time": "2023-07-11T12:56:12.439Z"
   },
   {
    "duration": 10,
    "start_time": "2023-07-11T12:56:13.296Z"
   },
   {
    "duration": 3,
    "start_time": "2023-07-11T12:56:15.105Z"
   },
   {
    "duration": 1528,
    "start_time": "2023-07-11T13:00:13.137Z"
   },
   {
    "duration": 1246,
    "start_time": "2023-07-11T13:00:35.520Z"
   },
   {
    "duration": 127,
    "start_time": "2023-07-11T13:36:12.366Z"
   },
   {
    "duration": 4,
    "start_time": "2023-07-11T13:36:16.036Z"
   },
   {
    "duration": 9,
    "start_time": "2023-07-11T13:37:02.395Z"
   },
   {
    "duration": 1245,
    "start_time": "2023-07-11T13:39:13.988Z"
   },
   {
    "duration": 271,
    "start_time": "2023-07-11T13:39:15.235Z"
   },
   {
    "duration": 42,
    "start_time": "2023-07-11T13:39:15.508Z"
   },
   {
    "duration": 19,
    "start_time": "2023-07-11T13:39:15.552Z"
   },
   {
    "duration": 15,
    "start_time": "2023-07-11T13:39:15.572Z"
   },
   {
    "duration": 1592,
    "start_time": "2023-07-11T13:39:15.588Z"
   },
   {
    "duration": 4,
    "start_time": "2023-07-11T13:39:17.182Z"
   },
   {
    "duration": 5,
    "start_time": "2023-07-11T13:39:51.871Z"
   },
   {
    "duration": 4,
    "start_time": "2023-07-11T13:40:00.510Z"
   },
   {
    "duration": 121,
    "start_time": "2023-07-11T13:40:37.070Z"
   },
   {
    "duration": 4,
    "start_time": "2023-07-11T13:40:58.889Z"
   },
   {
    "duration": 7,
    "start_time": "2023-07-11T13:41:06.853Z"
   },
   {
    "duration": 7,
    "start_time": "2023-07-11T13:41:21.488Z"
   },
   {
    "duration": 1365,
    "start_time": "2023-07-12T13:35:18.702Z"
   },
   {
    "duration": 234,
    "start_time": "2023-07-12T13:35:20.069Z"
   },
   {
    "duration": 154,
    "start_time": "2023-07-12T13:35:20.305Z"
   },
   {
    "duration": 17,
    "start_time": "2023-07-12T13:35:20.462Z"
   },
   {
    "duration": 15,
    "start_time": "2023-07-12T13:35:20.482Z"
   },
   {
    "duration": 1427,
    "start_time": "2023-07-12T13:35:20.499Z"
   },
   {
    "duration": 4,
    "start_time": "2023-07-12T13:35:21.928Z"
   },
   {
    "duration": 6,
    "start_time": "2023-07-12T13:35:21.933Z"
   },
   {
    "duration": 17,
    "start_time": "2023-07-12T13:35:21.940Z"
   },
   {
    "duration": 22,
    "start_time": "2023-07-12T13:35:21.959Z"
   },
   {
    "duration": 9,
    "start_time": "2023-07-12T13:35:21.982Z"
   },
   {
    "duration": 11,
    "start_time": "2023-07-12T13:35:21.993Z"
   },
   {
    "duration": 4,
    "start_time": "2023-07-12T13:35:24.536Z"
   },
   {
    "duration": 12,
    "start_time": "2023-07-12T13:47:01.696Z"
   },
   {
    "duration": 11,
    "start_time": "2023-07-12T13:47:12.518Z"
   },
   {
    "duration": 11,
    "start_time": "2023-07-12T13:53:19.990Z"
   },
   {
    "duration": 5,
    "start_time": "2023-07-12T13:53:35.326Z"
   },
   {
    "duration": 5,
    "start_time": "2023-07-12T13:53:52.330Z"
   },
   {
    "duration": 5,
    "start_time": "2023-07-12T13:55:19.137Z"
   },
   {
    "duration": 5,
    "start_time": "2023-07-12T13:55:19.473Z"
   },
   {
    "duration": 11,
    "start_time": "2023-07-12T13:55:58.106Z"
   },
   {
    "duration": 12,
    "start_time": "2023-07-12T13:56:13.131Z"
   },
   {
    "duration": 12,
    "start_time": "2023-07-12T13:56:19.368Z"
   },
   {
    "duration": 11,
    "start_time": "2023-07-12T13:57:12.145Z"
   },
   {
    "duration": 11,
    "start_time": "2023-07-12T13:57:13.749Z"
   },
   {
    "duration": 6,
    "start_time": "2023-07-12T13:58:17.222Z"
   },
   {
    "duration": 9,
    "start_time": "2023-07-12T13:58:22.003Z"
   },
   {
    "duration": 3,
    "start_time": "2023-07-12T13:58:22.305Z"
   },
   {
    "duration": 105,
    "start_time": "2023-07-12T14:15:35.286Z"
   },
   {
    "duration": 8,
    "start_time": "2023-07-12T14:15:40.504Z"
   },
   {
    "duration": 5,
    "start_time": "2023-07-12T14:19:35.609Z"
   },
   {
    "duration": 4,
    "start_time": "2023-07-12T14:19:36.110Z"
   },
   {
    "duration": 11,
    "start_time": "2023-07-12T14:19:37.922Z"
   },
   {
    "duration": 12,
    "start_time": "2023-07-12T14:19:38.313Z"
   },
   {
    "duration": 7,
    "start_time": "2023-07-12T14:19:41.507Z"
   },
   {
    "duration": 12,
    "start_time": "2023-07-12T14:19:43.422Z"
   },
   {
    "duration": 5,
    "start_time": "2023-07-12T14:19:43.805Z"
   },
   {
    "duration": 9,
    "start_time": "2023-07-12T14:27:51.773Z"
   },
   {
    "duration": 3,
    "start_time": "2023-07-12T14:40:44.606Z"
   },
   {
    "duration": 14,
    "start_time": "2023-07-12T14:46:56.209Z"
   },
   {
    "duration": 10,
    "start_time": "2023-07-12T14:49:16.897Z"
   },
   {
    "duration": 5,
    "start_time": "2023-07-12T14:49:45.897Z"
   },
   {
    "duration": 9,
    "start_time": "2023-07-12T14:49:53.208Z"
   },
   {
    "duration": 4,
    "start_time": "2023-07-12T14:51:09.735Z"
   },
   {
    "duration": 14,
    "start_time": "2023-07-12T14:51:40.152Z"
   },
   {
    "duration": 32,
    "start_time": "2023-07-12T14:51:45.097Z"
   },
   {
    "duration": 17,
    "start_time": "2023-07-12T14:51:53.732Z"
   },
   {
    "duration": 13,
    "start_time": "2023-07-12T14:52:05.036Z"
   },
   {
    "duration": 14,
    "start_time": "2023-07-12T14:52:50.807Z"
   },
   {
    "duration": 12,
    "start_time": "2023-07-12T14:53:06.257Z"
   },
   {
    "duration": 23,
    "start_time": "2023-07-12T16:04:57.219Z"
   },
   {
    "duration": 1198,
    "start_time": "2023-07-12T16:05:21.815Z"
   },
   {
    "duration": 274,
    "start_time": "2023-07-12T16:05:23.015Z"
   },
   {
    "duration": 48,
    "start_time": "2023-07-12T16:05:23.291Z"
   },
   {
    "duration": 16,
    "start_time": "2023-07-12T16:05:23.341Z"
   },
   {
    "duration": 12,
    "start_time": "2023-07-12T16:05:23.359Z"
   },
   {
    "duration": 1436,
    "start_time": "2023-07-12T16:05:23.373Z"
   },
   {
    "duration": 4,
    "start_time": "2023-07-12T16:05:24.811Z"
   },
   {
    "duration": 26,
    "start_time": "2023-07-12T16:05:24.817Z"
   },
   {
    "duration": 9,
    "start_time": "2023-07-12T16:05:24.844Z"
   },
   {
    "duration": 30,
    "start_time": "2023-07-12T16:05:24.854Z"
   },
   {
    "duration": 23,
    "start_time": "2023-07-12T16:05:24.886Z"
   },
   {
    "duration": 8,
    "start_time": "2023-07-12T16:05:24.911Z"
   },
   {
    "duration": 4,
    "start_time": "2023-07-12T16:05:24.921Z"
   },
   {
    "duration": 15,
    "start_time": "2023-07-12T16:05:24.927Z"
   },
   {
    "duration": 26,
    "start_time": "2023-07-12T16:05:24.944Z"
   },
   {
    "duration": 31,
    "start_time": "2023-07-12T16:05:24.972Z"
   },
   {
    "duration": 10,
    "start_time": "2023-07-12T16:05:25.005Z"
   },
   {
    "duration": 15,
    "start_time": "2023-07-12T16:05:25.016Z"
   },
   {
    "duration": 4,
    "start_time": "2023-07-12T16:05:25.032Z"
   },
   {
    "duration": 75,
    "start_time": "2023-07-12T16:05:25.038Z"
   },
   {
    "duration": 14,
    "start_time": "2023-07-12T16:15:56.051Z"
   },
   {
    "duration": 12,
    "start_time": "2023-07-12T16:15:58.277Z"
   },
   {
    "duration": 132,
    "start_time": "2023-07-12T16:16:27.253Z"
   },
   {
    "duration": 10,
    "start_time": "2023-07-12T16:16:52.560Z"
   },
   {
    "duration": 26,
    "start_time": "2023-07-12T16:17:00.336Z"
   },
   {
    "duration": 170,
    "start_time": "2023-07-12T16:18:21.577Z"
   },
   {
    "duration": 174,
    "start_time": "2023-07-12T16:19:53.211Z"
   },
   {
    "duration": 46,
    "start_time": "2023-07-12T16:22:56.879Z"
   },
   {
    "duration": 4,
    "start_time": "2023-07-12T16:23:35.478Z"
   },
   {
    "duration": 33,
    "start_time": "2023-07-12T16:24:05.425Z"
   },
   {
    "duration": 4,
    "start_time": "2023-07-12T16:24:41.666Z"
   },
   {
    "duration": 35,
    "start_time": "2023-07-12T16:25:46.007Z"
   },
   {
    "duration": 39,
    "start_time": "2023-07-12T16:26:01.330Z"
   },
   {
    "duration": 106,
    "start_time": "2023-07-12T16:26:51.079Z"
   },
   {
    "duration": 34,
    "start_time": "2023-07-12T16:26:55.411Z"
   },
   {
    "duration": 36,
    "start_time": "2023-07-12T16:29:28.036Z"
   },
   {
    "duration": 33,
    "start_time": "2023-07-12T16:30:31.608Z"
   },
   {
    "duration": 32,
    "start_time": "2023-07-12T16:30:36.733Z"
   },
   {
    "duration": 4,
    "start_time": "2023-07-12T16:31:09.016Z"
   },
   {
    "duration": 7,
    "start_time": "2023-07-12T16:31:35.240Z"
   },
   {
    "duration": 10,
    "start_time": "2023-07-12T16:31:40.007Z"
   },
   {
    "duration": 8,
    "start_time": "2023-07-12T16:32:16.572Z"
   },
   {
    "duration": 19,
    "start_time": "2023-07-12T16:37:18.737Z"
   },
   {
    "duration": 33,
    "start_time": "2023-07-12T16:38:34.530Z"
   },
   {
    "duration": 9,
    "start_time": "2023-07-12T16:38:40.638Z"
   },
   {
    "duration": 16,
    "start_time": "2023-07-12T16:38:52.413Z"
   },
   {
    "duration": 47,
    "start_time": "2023-07-12T16:39:15.911Z"
   },
   {
    "duration": 10,
    "start_time": "2023-07-12T16:39:16.099Z"
   },
   {
    "duration": 16,
    "start_time": "2023-07-12T16:39:33.572Z"
   },
   {
    "duration": 9,
    "start_time": "2023-07-12T16:39:47.866Z"
   },
   {
    "duration": 4,
    "start_time": "2023-07-12T16:40:33.316Z"
   },
   {
    "duration": 25,
    "start_time": "2023-07-12T16:40:42.227Z"
   },
   {
    "duration": 4,
    "start_time": "2023-07-12T16:41:02.414Z"
   },
   {
    "duration": 40,
    "start_time": "2023-07-12T16:41:05.851Z"
   },
   {
    "duration": 4,
    "start_time": "2023-07-12T16:41:49.314Z"
   },
   {
    "duration": 16,
    "start_time": "2023-07-12T16:41:55.828Z"
   },
   {
    "duration": 28,
    "start_time": "2023-07-12T16:42:43.855Z"
   },
   {
    "duration": 24,
    "start_time": "2023-07-12T16:42:45.920Z"
   },
   {
    "duration": 14,
    "start_time": "2023-07-12T16:44:08.105Z"
   },
   {
    "duration": 26,
    "start_time": "2023-07-12T16:44:18.179Z"
   },
   {
    "duration": 17,
    "start_time": "2023-07-12T16:44:26.026Z"
   },
   {
    "duration": 1222,
    "start_time": "2023-07-12T16:59:14.039Z"
   },
   {
    "duration": 305,
    "start_time": "2023-07-12T16:59:15.262Z"
   },
   {
    "duration": 41,
    "start_time": "2023-07-12T16:59:15.569Z"
   },
   {
    "duration": 17,
    "start_time": "2023-07-12T16:59:15.612Z"
   },
   {
    "duration": 14,
    "start_time": "2023-07-12T16:59:15.630Z"
   },
   {
    "duration": 1371,
    "start_time": "2023-07-12T16:59:15.646Z"
   },
   {
    "duration": 4,
    "start_time": "2023-07-12T16:59:17.019Z"
   },
   {
    "duration": 11,
    "start_time": "2023-07-12T16:59:17.024Z"
   },
   {
    "duration": 20,
    "start_time": "2023-07-12T16:59:17.037Z"
   },
   {
    "duration": 5,
    "start_time": "2023-07-12T16:59:17.060Z"
   },
   {
    "duration": 11,
    "start_time": "2023-07-12T16:59:17.066Z"
   },
   {
    "duration": 9,
    "start_time": "2023-07-12T16:59:17.078Z"
   },
   {
    "duration": 4,
    "start_time": "2023-07-12T16:59:17.089Z"
   },
   {
    "duration": 8,
    "start_time": "2023-07-12T16:59:17.094Z"
   },
   {
    "duration": 15,
    "start_time": "2023-07-12T16:59:17.103Z"
   },
   {
    "duration": 32,
    "start_time": "2023-07-12T16:59:17.119Z"
   },
   {
    "duration": 24,
    "start_time": "2023-07-12T16:59:17.153Z"
   },
   {
    "duration": 8,
    "start_time": "2023-07-12T16:59:17.179Z"
   },
   {
    "duration": 4,
    "start_time": "2023-07-12T16:59:17.188Z"
   },
   {
    "duration": 35,
    "start_time": "2023-07-12T16:59:17.194Z"
   },
   {
    "duration": 166,
    "start_time": "2023-07-12T16:59:17.230Z"
   },
   {
    "duration": 161,
    "start_time": "2023-07-12T16:59:17.398Z"
   },
   {
    "duration": 99,
    "start_time": "2023-07-12T16:59:17.561Z"
   },
   {
    "duration": 106,
    "start_time": "2023-07-12T16:59:17.662Z"
   },
   {
    "duration": 88,
    "start_time": "2023-07-12T16:59:17.770Z"
   },
   {
    "duration": 116,
    "start_time": "2023-07-12T16:59:17.860Z"
   },
   {
    "duration": 6,
    "start_time": "2023-07-12T16:59:18.058Z"
   },
   {
    "duration": 104,
    "start_time": "2023-07-12T16:59:18.069Z"
   },
   {
    "duration": 4,
    "start_time": "2023-07-12T17:03:00.743Z"
   },
   {
    "duration": 107,
    "start_time": "2023-07-12T17:07:16.320Z"
   },
   {
    "duration": 31,
    "start_time": "2023-07-12T17:07:20.919Z"
   },
   {
    "duration": 19,
    "start_time": "2023-07-12T17:07:47.423Z"
   },
   {
    "duration": 43,
    "start_time": "2023-07-12T17:07:50.747Z"
   },
   {
    "duration": 22,
    "start_time": "2023-07-12T17:08:42.724Z"
   },
   {
    "duration": 43,
    "start_time": "2023-07-12T17:08:45.508Z"
   },
   {
    "duration": 22,
    "start_time": "2023-07-12T17:08:46.507Z"
   },
   {
    "duration": 603,
    "start_time": "2023-07-12T17:09:46.464Z"
   },
   {
    "duration": 856,
    "start_time": "2023-07-12T17:09:54.413Z"
   },
   {
    "duration": 23,
    "start_time": "2023-07-12T17:09:59.346Z"
   },
   {
    "duration": 17,
    "start_time": "2023-07-12T17:10:04.508Z"
   },
   {
    "duration": 345,
    "start_time": "2023-07-12T17:10:10.644Z"
   },
   {
    "duration": 124,
    "start_time": "2023-07-12T17:10:27.641Z"
   },
   {
    "duration": 16,
    "start_time": "2023-07-12T17:10:39.624Z"
   },
   {
    "duration": 5,
    "start_time": "2023-07-12T17:19:36.116Z"
   },
   {
    "duration": 9200,
    "start_time": "2023-07-12T17:19:45.150Z"
   },
   {
    "duration": 8653,
    "start_time": "2023-07-12T17:20:31.898Z"
   },
   {
    "duration": 8940,
    "start_time": "2023-07-12T17:21:58.912Z"
   },
   {
    "duration": 8640,
    "start_time": "2023-07-12T17:22:19.963Z"
   },
   {
    "duration": 11527,
    "start_time": "2023-07-12T17:22:46.309Z"
   },
   {
    "duration": 7369,
    "start_time": "2023-07-12T17:23:00.034Z"
   },
   {
    "duration": 7848,
    "start_time": "2023-07-12T17:26:12.107Z"
   },
   {
    "duration": 9,
    "start_time": "2023-07-12T17:26:45.255Z"
   },
   {
    "duration": 7460,
    "start_time": "2023-07-12T17:26:47.860Z"
   },
   {
    "duration": 4823,
    "start_time": "2023-07-12T17:27:58.208Z"
   },
   {
    "duration": 1268,
    "start_time": "2023-07-12T17:29:27.903Z"
   },
   {
    "duration": 283,
    "start_time": "2023-07-12T17:29:29.174Z"
   },
   {
    "duration": 39,
    "start_time": "2023-07-12T17:29:29.458Z"
   },
   {
    "duration": 16,
    "start_time": "2023-07-12T17:29:29.499Z"
   },
   {
    "duration": 13,
    "start_time": "2023-07-12T17:29:29.519Z"
   },
   {
    "duration": 1498,
    "start_time": "2023-07-12T17:29:29.533Z"
   },
   {
    "duration": 5,
    "start_time": "2023-07-12T17:29:31.034Z"
   },
   {
    "duration": 60,
    "start_time": "2023-07-12T17:29:31.040Z"
   },
   {
    "duration": 52,
    "start_time": "2023-07-12T17:29:31.102Z"
   },
   {
    "duration": 140,
    "start_time": "2023-07-12T17:29:31.156Z"
   },
   {
    "duration": 72,
    "start_time": "2023-07-12T17:29:31.298Z"
   },
   {
    "duration": 46,
    "start_time": "2023-07-12T17:29:31.371Z"
   },
   {
    "duration": 65,
    "start_time": "2023-07-12T17:29:31.419Z"
   },
   {
    "duration": 97,
    "start_time": "2023-07-12T17:29:31.487Z"
   },
   {
    "duration": 32,
    "start_time": "2023-07-12T17:29:31.585Z"
   },
   {
    "duration": 24,
    "start_time": "2023-07-12T17:29:31.618Z"
   },
   {
    "duration": 13,
    "start_time": "2023-07-12T17:29:31.644Z"
   },
   {
    "duration": 37,
    "start_time": "2023-07-12T17:29:31.659Z"
   },
   {
    "duration": 23,
    "start_time": "2023-07-12T17:29:31.698Z"
   },
   {
    "duration": 55,
    "start_time": "2023-07-12T17:29:31.723Z"
   },
   {
    "duration": 156,
    "start_time": "2023-07-12T17:29:31.780Z"
   },
   {
    "duration": 131,
    "start_time": "2023-07-12T17:29:31.938Z"
   },
   {
    "duration": 94,
    "start_time": "2023-07-12T17:29:32.071Z"
   },
   {
    "duration": 14,
    "start_time": "2023-07-12T17:29:32.264Z"
   },
   {
    "duration": 78,
    "start_time": "2023-07-12T17:29:32.280Z"
   },
   {
    "duration": 46,
    "start_time": "2023-07-12T17:29:32.360Z"
   },
   {
    "duration": 51,
    "start_time": "2023-07-12T17:29:32.408Z"
   },
   {
    "duration": 24,
    "start_time": "2023-07-12T17:29:32.461Z"
   },
   {
    "duration": 629,
    "start_time": "2023-07-12T17:29:32.487Z"
   },
   {
    "duration": 856,
    "start_time": "2023-07-12T17:29:33.118Z"
   },
   {
    "duration": 354,
    "start_time": "2023-07-12T17:29:33.976Z"
   },
   {
    "duration": 25,
    "start_time": "2023-07-12T17:29:34.332Z"
   },
   {
    "duration": 213,
    "start_time": "2023-07-12T17:29:34.359Z"
   },
   {
    "duration": 111,
    "start_time": "2023-07-12T17:29:34.656Z"
   },
   {
    "duration": 90,
    "start_time": "2023-07-12T17:29:34.769Z"
   },
   {
    "duration": 7424,
    "start_time": "2023-07-12T17:29:34.863Z"
   },
   {
    "duration": 4606,
    "start_time": "2023-07-12T17:29:42.289Z"
   },
   {
    "duration": 16646,
    "start_time": "2023-07-12T17:31:22.400Z"
   },
   {
    "duration": 945,
    "start_time": "2023-07-12T17:34:14.343Z"
   },
   {
    "duration": 912,
    "start_time": "2023-07-12T17:34:27.675Z"
   },
   {
    "duration": 976,
    "start_time": "2023-07-12T17:34:38.805Z"
   },
   {
    "duration": 773,
    "start_time": "2023-07-12T17:37:03.079Z"
   },
   {
    "duration": 869,
    "start_time": "2023-07-12T17:37:19.406Z"
   },
   {
    "duration": 866,
    "start_time": "2023-07-12T17:37:56.942Z"
   },
   {
    "duration": 872,
    "start_time": "2023-07-12T17:38:01.948Z"
   },
   {
    "duration": 1646,
    "start_time": "2023-07-12T17:38:10.277Z"
   },
   {
    "duration": 840,
    "start_time": "2023-07-12T17:38:16.426Z"
   },
   {
    "duration": 82,
    "start_time": "2023-07-12T17:41:39.535Z"
   },
   {
    "duration": 42,
    "start_time": "2023-07-12T17:42:00.144Z"
   },
   {
    "duration": 43,
    "start_time": "2023-07-12T17:42:30.642Z"
   },
   {
    "duration": 53,
    "start_time": "2023-07-12T17:42:55.323Z"
   },
   {
    "duration": 42,
    "start_time": "2023-07-12T17:43:16.314Z"
   },
   {
    "duration": 1173,
    "start_time": "2023-07-12T17:43:39.067Z"
   },
   {
    "duration": 319,
    "start_time": "2023-07-12T17:43:40.243Z"
   },
   {
    "duration": 41,
    "start_time": "2023-07-12T17:43:40.564Z"
   },
   {
    "duration": 20,
    "start_time": "2023-07-12T17:43:40.608Z"
   },
   {
    "duration": 25,
    "start_time": "2023-07-12T17:43:40.630Z"
   },
   {
    "duration": 1464,
    "start_time": "2023-07-12T17:43:40.656Z"
   },
   {
    "duration": 4,
    "start_time": "2023-07-12T17:43:42.122Z"
   },
   {
    "duration": 6,
    "start_time": "2023-07-12T17:43:42.127Z"
   },
   {
    "duration": 9,
    "start_time": "2023-07-12T17:43:42.134Z"
   },
   {
    "duration": 5,
    "start_time": "2023-07-12T17:43:42.157Z"
   },
   {
    "duration": 9,
    "start_time": "2023-07-12T17:43:42.163Z"
   },
   {
    "duration": 19,
    "start_time": "2023-07-12T17:43:42.174Z"
   },
   {
    "duration": 5,
    "start_time": "2023-07-12T17:43:42.196Z"
   },
   {
    "duration": 5,
    "start_time": "2023-07-12T17:43:42.203Z"
   },
   {
    "duration": 11,
    "start_time": "2023-07-12T17:43:42.210Z"
   },
   {
    "duration": 37,
    "start_time": "2023-07-12T17:43:42.222Z"
   },
   {
    "duration": 6,
    "start_time": "2023-07-12T17:43:42.260Z"
   },
   {
    "duration": 17,
    "start_time": "2023-07-12T17:43:42.268Z"
   },
   {
    "duration": 4,
    "start_time": "2023-07-12T17:43:42.287Z"
   },
   {
    "duration": 35,
    "start_time": "2023-07-12T17:43:42.293Z"
   },
   {
    "duration": 187,
    "start_time": "2023-07-12T17:43:42.330Z"
   },
   {
    "duration": 438,
    "start_time": "2023-07-12T17:43:42.519Z"
   },
   {
    "duration": 10,
    "start_time": "2023-07-12T17:43:42.958Z"
   },
   {
    "duration": 95,
    "start_time": "2023-07-12T17:43:42.970Z"
   },
   {
    "duration": 98,
    "start_time": "2023-07-12T17:43:43.067Z"
   },
   {
    "duration": 57,
    "start_time": "2023-07-12T17:43:43.166Z"
   },
   {
    "duration": 47,
    "start_time": "2023-07-12T17:43:43.225Z"
   },
   {
    "duration": 23,
    "start_time": "2023-07-12T17:43:43.275Z"
   },
   {
    "duration": 628,
    "start_time": "2023-07-12T17:43:43.300Z"
   },
   {
    "duration": 844,
    "start_time": "2023-07-12T17:43:43.929Z"
   },
   {
    "duration": 333,
    "start_time": "2023-07-12T17:43:44.775Z"
   },
   {
    "duration": 50,
    "start_time": "2023-07-12T17:43:45.110Z"
   },
   {
    "duration": 107,
    "start_time": "2023-07-12T17:43:45.162Z"
   },
   {
    "duration": 192,
    "start_time": "2023-07-12T17:43:45.270Z"
   },
   {
    "duration": 93,
    "start_time": "2023-07-12T17:43:45.464Z"
   },
   {
    "duration": 7510,
    "start_time": "2023-07-12T17:45:16.014Z"
   },
   {
    "duration": 15894,
    "start_time": "2023-07-12T17:45:44.140Z"
   },
   {
    "duration": 37417,
    "start_time": "2023-07-12T17:46:01.922Z"
   },
   {
    "duration": 88293,
    "start_time": "2023-07-12T17:46:40.923Z"
   },
   {
    "duration": 2614,
    "start_time": "2023-07-12T17:49:37.414Z"
   },
   {
    "duration": 87689,
    "start_time": "2023-07-12T17:49:45.248Z"
   },
   {
    "duration": 88375,
    "start_time": "2023-07-12T18:05:31.845Z"
   },
   {
    "duration": 87884,
    "start_time": "2023-07-12T18:07:15.427Z"
   },
   {
    "duration": 1142,
    "start_time": "2023-07-12T18:09:43.851Z"
   },
   {
    "duration": 72642,
    "start_time": "2023-07-12T18:13:47.642Z"
   },
   {
    "duration": 23366,
    "start_time": "2023-07-12T18:15:02.017Z"
   },
   {
    "duration": 59237,
    "start_time": "2023-07-12T18:15:27.916Z"
   },
   {
    "duration": 104382,
    "start_time": "2023-07-12T18:18:00.242Z"
   },
   {
    "duration": 7285,
    "start_time": "2023-07-12T18:22:26.740Z"
   },
   {
    "duration": 7295,
    "start_time": "2023-07-12T18:22:41.972Z"
   },
   {
    "duration": 7308,
    "start_time": "2023-07-12T18:23:01.222Z"
   },
   {
    "duration": 7189,
    "start_time": "2023-07-12T18:23:19.624Z"
   },
   {
    "duration": 2529,
    "start_time": "2023-07-12T18:24:19.122Z"
   },
   {
    "duration": 4,
    "start_time": "2023-07-12T18:24:25.621Z"
   },
   {
    "duration": 16206,
    "start_time": "2023-07-12T18:24:29.692Z"
   },
   {
    "duration": 46,
    "start_time": "2023-07-12T18:25:27.953Z"
   },
   {
    "duration": 23,
    "start_time": "2023-07-12T18:25:40.357Z"
   },
   {
    "duration": 146,
    "start_time": "2023-07-12T18:25:54.644Z"
   },
   {
    "duration": 904,
    "start_time": "2023-07-12T18:25:58.015Z"
   },
   {
    "duration": 340,
    "start_time": "2023-07-12T18:26:05.336Z"
   },
   {
    "duration": 26,
    "start_time": "2023-07-12T18:26:25.997Z"
   },
   {
    "duration": 18,
    "start_time": "2023-07-12T18:26:30.074Z"
   },
   {
    "duration": 7290,
    "start_time": "2023-07-12T18:26:42.428Z"
   },
   {
    "duration": 7504,
    "start_time": "2023-07-12T18:26:52.163Z"
   },
   {
    "duration": 16825,
    "start_time": "2023-07-12T18:27:23.631Z"
   },
   {
    "duration": 7481,
    "start_time": "2023-07-12T18:27:53.564Z"
   },
   {
    "duration": 1190,
    "start_time": "2023-07-12T18:28:12.673Z"
   },
   {
    "duration": 1341,
    "start_time": "2023-07-12T18:28:44.733Z"
   },
   {
    "duration": 1479,
    "start_time": "2023-07-12T18:28:55.628Z"
   },
   {
    "duration": 1130,
    "start_time": "2023-07-12T18:29:05.375Z"
   },
   {
    "duration": 1189,
    "start_time": "2023-07-12T18:29:11.655Z"
   },
   {
    "duration": 38361,
    "start_time": "2023-07-12T18:29:37.610Z"
   },
   {
    "duration": 106664,
    "start_time": "2023-07-12T18:30:27.717Z"
   },
   {
    "duration": 105601,
    "start_time": "2023-07-12T18:32:35.519Z"
   },
   {
    "duration": 59,
    "start_time": "2023-07-12T18:35:53.876Z"
   },
   {
    "duration": 69,
    "start_time": "2023-07-12T18:36:51.472Z"
   },
   {
    "duration": 54,
    "start_time": "2023-07-12T18:36:57.395Z"
   },
   {
    "duration": 5087,
    "start_time": "2023-07-12T18:37:59.518Z"
   },
   {
    "duration": 8224,
    "start_time": "2023-07-12T18:38:09.426Z"
   },
   {
    "duration": 58,
    "start_time": "2023-07-12T18:39:12.454Z"
   },
   {
    "duration": 53,
    "start_time": "2023-07-12T18:39:13.941Z"
   },
   {
    "duration": 47,
    "start_time": "2023-07-12T18:39:45.754Z"
   },
   {
    "duration": 54,
    "start_time": "2023-07-12T18:40:05.519Z"
   },
   {
    "duration": 106832,
    "start_time": "2023-07-12T18:40:45.206Z"
   },
   {
    "duration": 8,
    "start_time": "2023-07-12T18:44:08.527Z"
   },
   {
    "duration": 20,
    "start_time": "2023-07-12T18:44:17.271Z"
   },
   {
    "duration": 7,
    "start_time": "2023-07-12T18:44:24.356Z"
   },
   {
    "duration": 1190,
    "start_time": "2023-07-12T18:44:32.466Z"
   },
   {
    "duration": 276,
    "start_time": "2023-07-12T18:44:33.659Z"
   },
   {
    "duration": 40,
    "start_time": "2023-07-12T18:44:33.937Z"
   },
   {
    "duration": 16,
    "start_time": "2023-07-12T18:44:33.979Z"
   },
   {
    "duration": 15,
    "start_time": "2023-07-12T18:44:34.000Z"
   },
   {
    "duration": 1459,
    "start_time": "2023-07-12T18:44:34.017Z"
   },
   {
    "duration": 5,
    "start_time": "2023-07-12T18:44:35.478Z"
   },
   {
    "duration": 18,
    "start_time": "2023-07-12T18:44:35.485Z"
   },
   {
    "duration": 17,
    "start_time": "2023-07-12T18:44:35.505Z"
   },
   {
    "duration": 33,
    "start_time": "2023-07-12T18:44:35.524Z"
   },
   {
    "duration": 21,
    "start_time": "2023-07-12T18:44:35.559Z"
   },
   {
    "duration": 16,
    "start_time": "2023-07-12T18:44:35.583Z"
   },
   {
    "duration": 7,
    "start_time": "2023-07-12T18:44:35.601Z"
   },
   {
    "duration": 15,
    "start_time": "2023-07-12T18:44:35.613Z"
   },
   {
    "duration": 9,
    "start_time": "2023-07-12T18:44:35.629Z"
   },
   {
    "duration": 17,
    "start_time": "2023-07-12T18:44:35.639Z"
   },
   {
    "duration": 28,
    "start_time": "2023-07-12T18:44:35.657Z"
   },
   {
    "duration": 20,
    "start_time": "2023-07-12T18:44:35.687Z"
   },
   {
    "duration": 10,
    "start_time": "2023-07-12T18:44:35.709Z"
   },
   {
    "duration": 14,
    "start_time": "2023-07-12T18:44:35.720Z"
   },
   {
    "duration": 16,
    "start_time": "2023-07-12T18:44:35.735Z"
   },
   {
    "duration": 80,
    "start_time": "2023-07-12T18:44:35.752Z"
   },
   {
    "duration": 151,
    "start_time": "2023-07-12T18:44:35.834Z"
   },
   {
    "duration": 171,
    "start_time": "2023-07-12T18:44:35.986Z"
   },
   {
    "duration": 106,
    "start_time": "2023-07-12T18:44:36.159Z"
   },
   {
    "duration": 102,
    "start_time": "2023-07-12T18:44:36.267Z"
   },
   {
    "duration": 91,
    "start_time": "2023-07-12T18:44:36.370Z"
   },
   {
    "duration": 51,
    "start_time": "2023-07-12T18:44:36.463Z"
   },
   {
    "duration": 81,
    "start_time": "2023-07-12T18:44:36.516Z"
   },
   {
    "duration": 25,
    "start_time": "2023-07-12T18:44:36.599Z"
   },
   {
    "duration": 698,
    "start_time": "2023-07-12T18:44:36.626Z"
   },
   {
    "duration": 951,
    "start_time": "2023-07-12T18:44:37.325Z"
   },
   {
    "duration": 392,
    "start_time": "2023-07-12T18:44:38.278Z"
   },
   {
    "duration": 185,
    "start_time": "2023-07-12T18:44:38.672Z"
   },
   {
    "duration": 31,
    "start_time": "2023-07-12T18:44:38.859Z"
   },
   {
    "duration": 170,
    "start_time": "2023-07-12T18:44:38.892Z"
   },
   {
    "duration": 92,
    "start_time": "2023-07-12T18:44:39.065Z"
   },
   {
    "duration": 8025,
    "start_time": "2023-07-12T18:44:39.160Z"
   },
   {
    "duration": 9143,
    "start_time": "2023-07-12T18:44:47.186Z"
   },
   {
    "duration": 115298,
    "start_time": "2023-07-12T18:44:56.331Z"
   },
   {
    "duration": 10,
    "start_time": "2023-07-12T18:46:51.632Z"
   },
   {
    "duration": 12,
    "start_time": "2023-07-12T18:46:51.657Z"
   },
   {
    "duration": 256,
    "start_time": "2023-07-12T18:47:45.393Z"
   },
   {
    "duration": 35483,
    "start_time": "2023-07-12T18:48:04.199Z"
   },
   {
    "duration": 10448,
    "start_time": "2023-07-12T18:48:41.693Z"
   },
   {
    "duration": 654,
    "start_time": "2023-07-12T18:53:11.428Z"
   },
   {
    "duration": 705,
    "start_time": "2023-07-12T18:53:21.657Z"
   },
   {
    "duration": 884,
    "start_time": "2023-07-12T18:53:26.001Z"
   },
   {
    "duration": 359,
    "start_time": "2023-07-12T18:53:29.150Z"
   },
   {
    "duration": 25,
    "start_time": "2023-07-12T18:53:34.691Z"
   },
   {
    "duration": 50,
    "start_time": "2023-07-12T18:53:37.709Z"
   },
   {
    "duration": 977,
    "start_time": "2023-07-12T18:53:58.504Z"
   },
   {
    "duration": 419,
    "start_time": "2023-07-12T18:53:59.483Z"
   },
   {
    "duration": 1222,
    "start_time": "2023-07-12T18:54:07.047Z"
   },
   {
    "duration": 300,
    "start_time": "2023-07-12T18:54:08.271Z"
   },
   {
    "duration": 42,
    "start_time": "2023-07-12T18:54:08.573Z"
   },
   {
    "duration": 19,
    "start_time": "2023-07-12T18:54:08.618Z"
   },
   {
    "duration": 14,
    "start_time": "2023-07-12T18:54:08.638Z"
   },
   {
    "duration": 1582,
    "start_time": "2023-07-12T18:54:08.657Z"
   },
   {
    "duration": 5,
    "start_time": "2023-07-12T18:54:10.241Z"
   },
   {
    "duration": 4,
    "start_time": "2023-07-12T18:54:10.257Z"
   },
   {
    "duration": 8,
    "start_time": "2023-07-12T18:54:10.263Z"
   },
   {
    "duration": 5,
    "start_time": "2023-07-12T18:54:10.274Z"
   },
   {
    "duration": 4,
    "start_time": "2023-07-12T18:54:10.281Z"
   },
   {
    "duration": 8,
    "start_time": "2023-07-12T18:54:10.287Z"
   },
   {
    "duration": 8,
    "start_time": "2023-07-12T18:54:10.297Z"
   },
   {
    "duration": 13,
    "start_time": "2023-07-12T18:54:10.306Z"
   },
   {
    "duration": 37,
    "start_time": "2023-07-12T18:54:10.321Z"
   },
   {
    "duration": 5,
    "start_time": "2023-07-12T18:54:10.360Z"
   },
   {
    "duration": 14,
    "start_time": "2023-07-12T18:54:10.366Z"
   },
   {
    "duration": 11,
    "start_time": "2023-07-12T18:54:10.382Z"
   },
   {
    "duration": 9,
    "start_time": "2023-07-12T18:54:10.394Z"
   },
   {
    "duration": 12,
    "start_time": "2023-07-12T18:54:10.405Z"
   },
   {
    "duration": 39,
    "start_time": "2023-07-12T18:54:10.419Z"
   },
   {
    "duration": 38,
    "start_time": "2023-07-12T18:54:10.460Z"
   },
   {
    "duration": 178,
    "start_time": "2023-07-12T18:54:10.500Z"
   },
   {
    "duration": 79,
    "start_time": "2023-07-12T18:54:10.680Z"
   },
   {
    "duration": 97,
    "start_time": "2023-07-12T18:54:10.761Z"
   },
   {
    "duration": 5,
    "start_time": "2023-07-12T18:54:10.860Z"
   },
   {
    "duration": 93,
    "start_time": "2023-07-12T18:54:10.868Z"
   },
   {
    "duration": 48,
    "start_time": "2023-07-12T18:54:10.965Z"
   },
   {
    "duration": 46,
    "start_time": "2023-07-12T18:54:11.015Z"
   },
   {
    "duration": 25,
    "start_time": "2023-07-12T18:54:11.063Z"
   },
   {
    "duration": 705,
    "start_time": "2023-07-12T18:54:11.091Z"
   },
   {
    "duration": 921,
    "start_time": "2023-07-12T18:54:11.799Z"
   },
   {
    "duration": 364,
    "start_time": "2023-07-12T18:54:13.915Z"
   },
   {
    "duration": 20,
    "start_time": "2023-07-12T18:54:32.676Z"
   },
   {
    "duration": 23,
    "start_time": "2023-07-12T18:54:33.786Z"
   },
   {
    "duration": 35,
    "start_time": "2023-07-12T18:54:34.381Z"
   },
   {
    "duration": 19,
    "start_time": "2023-07-12T18:54:34.985Z"
   },
   {
    "duration": 105,
    "start_time": "2023-07-12T18:55:05.699Z"
   },
   {
    "duration": 14,
    "start_time": "2023-07-12T18:55:09.722Z"
   },
   {
    "duration": 10,
    "start_time": "2023-07-12T18:55:29.439Z"
   },
   {
    "duration": 1218,
    "start_time": "2023-07-12T18:56:18.498Z"
   },
   {
    "duration": 319,
    "start_time": "2023-07-12T18:56:19.718Z"
   },
   {
    "duration": 47,
    "start_time": "2023-07-12T18:56:20.039Z"
   },
   {
    "duration": 20,
    "start_time": "2023-07-12T18:56:20.088Z"
   },
   {
    "duration": 30,
    "start_time": "2023-07-12T18:56:20.112Z"
   },
   {
    "duration": 1523,
    "start_time": "2023-07-12T18:56:20.144Z"
   },
   {
    "duration": 4,
    "start_time": "2023-07-12T18:56:21.671Z"
   },
   {
    "duration": 5,
    "start_time": "2023-07-12T18:56:21.677Z"
   },
   {
    "duration": 11,
    "start_time": "2023-07-12T18:56:21.684Z"
   },
   {
    "duration": 28,
    "start_time": "2023-07-12T18:56:21.696Z"
   },
   {
    "duration": 12,
    "start_time": "2023-07-12T18:56:21.726Z"
   },
   {
    "duration": 17,
    "start_time": "2023-07-12T18:56:21.740Z"
   },
   {
    "duration": 20,
    "start_time": "2023-07-12T18:56:21.758Z"
   },
   {
    "duration": 5,
    "start_time": "2023-07-12T18:56:21.781Z"
   },
   {
    "duration": 16,
    "start_time": "2023-07-12T18:56:21.788Z"
   },
   {
    "duration": 20,
    "start_time": "2023-07-12T18:56:21.806Z"
   },
   {
    "duration": 11,
    "start_time": "2023-07-12T18:56:21.828Z"
   },
   {
    "duration": 15,
    "start_time": "2023-07-12T18:56:21.841Z"
   },
   {
    "duration": 7,
    "start_time": "2023-07-12T18:56:21.858Z"
   },
   {
    "duration": 4,
    "start_time": "2023-07-12T18:56:21.867Z"
   },
   {
    "duration": 46,
    "start_time": "2023-07-12T18:56:21.873Z"
   },
   {
    "duration": 182,
    "start_time": "2023-07-12T18:56:21.921Z"
   },
   {
    "duration": 63,
    "start_time": "2023-07-12T18:56:22.104Z"
   },
   {
    "duration": 96,
    "start_time": "2023-07-12T18:56:22.169Z"
   },
   {
    "duration": 6,
    "start_time": "2023-07-12T18:56:22.267Z"
   },
   {
    "duration": 87,
    "start_time": "2023-07-12T18:56:22.275Z"
   },
   {
    "duration": 110,
    "start_time": "2023-07-12T18:56:22.364Z"
   },
   {
    "duration": 132,
    "start_time": "2023-07-12T18:56:22.476Z"
   },
   {
    "duration": 21,
    "start_time": "2023-07-12T18:56:22.610Z"
   },
   {
    "duration": 634,
    "start_time": "2023-07-12T18:56:22.633Z"
   },
   {
    "duration": 863,
    "start_time": "2023-07-12T18:56:23.270Z"
   },
   {
    "duration": 365,
    "start_time": "2023-07-12T18:56:24.135Z"
   },
   {
    "duration": 18,
    "start_time": "2023-07-12T18:56:24.502Z"
   },
   {
    "duration": 99,
    "start_time": "2023-07-12T18:56:24.657Z"
   },
   {
    "duration": 104,
    "start_time": "2023-07-12T18:56:24.758Z"
   },
   {
    "duration": 9,
    "start_time": "2023-07-12T18:56:29.027Z"
   },
   {
    "duration": 5079,
    "start_time": "2023-07-12T18:57:11.222Z"
   },
   {
    "duration": 7257,
    "start_time": "2023-07-12T18:57:20.328Z"
   },
   {
    "duration": 23501,
    "start_time": "2023-07-12T18:58:33.024Z"
   },
   {
    "duration": 23480,
    "start_time": "2023-07-12T19:00:03.627Z"
   },
   {
    "duration": 93,
    "start_time": "2023-07-12T19:01:13.816Z"
   },
   {
    "duration": 93,
    "start_time": "2023-07-12T19:01:16.801Z"
   },
   {
    "duration": 91,
    "start_time": "2023-07-12T19:01:34.508Z"
   },
   {
    "duration": 8678,
    "start_time": "2023-07-12T19:02:26.958Z"
   },
   {
    "duration": 45,
    "start_time": "2023-07-12T19:03:02.872Z"
   },
   {
    "duration": 5081,
    "start_time": "2023-07-12T19:03:44.665Z"
   },
   {
    "duration": 106056,
    "start_time": "2023-07-12T19:03:56.512Z"
   },
   {
    "duration": 8649,
    "start_time": "2023-07-12T19:07:03.636Z"
   },
   {
    "duration": 78267,
    "start_time": "2023-07-12T19:08:38.971Z"
   },
   {
    "duration": 32595,
    "start_time": "2023-07-12T19:11:27.196Z"
   },
   {
    "duration": 33082,
    "start_time": "2023-07-12T19:13:42.292Z"
   },
   {
    "duration": 4,
    "start_time": "2023-07-12T19:23:35.923Z"
   },
   {
    "duration": 1207,
    "start_time": "2023-07-12T19:23:51.649Z"
   },
   {
    "duration": 325,
    "start_time": "2023-07-12T19:23:52.858Z"
   },
   {
    "duration": 41,
    "start_time": "2023-07-12T19:23:53.185Z"
   },
   {
    "duration": 60,
    "start_time": "2023-07-12T19:23:53.228Z"
   },
   {
    "duration": 20,
    "start_time": "2023-07-12T19:23:53.290Z"
   },
   {
    "duration": 1597,
    "start_time": "2023-07-12T19:23:53.313Z"
   },
   {
    "duration": 4,
    "start_time": "2023-07-12T19:23:54.912Z"
   },
   {
    "duration": 7,
    "start_time": "2023-07-12T19:23:54.918Z"
   },
   {
    "duration": 17,
    "start_time": "2023-07-12T19:23:54.927Z"
   },
   {
    "duration": 5,
    "start_time": "2023-07-12T19:23:54.959Z"
   },
   {
    "duration": 14,
    "start_time": "2023-07-12T19:23:54.966Z"
   },
   {
    "duration": 11,
    "start_time": "2023-07-12T19:23:54.982Z"
   },
   {
    "duration": 27,
    "start_time": "2023-07-12T19:23:54.995Z"
   },
   {
    "duration": 26,
    "start_time": "2023-07-12T19:23:55.025Z"
   },
   {
    "duration": 7,
    "start_time": "2023-07-12T19:23:55.053Z"
   },
   {
    "duration": 12,
    "start_time": "2023-07-12T19:23:55.062Z"
   },
   {
    "duration": 15,
    "start_time": "2023-07-12T19:23:55.076Z"
   },
   {
    "duration": 24,
    "start_time": "2023-07-12T19:23:55.092Z"
   },
   {
    "duration": 24,
    "start_time": "2023-07-12T19:23:55.118Z"
   },
   {
    "duration": 10,
    "start_time": "2023-07-12T19:23:55.144Z"
   },
   {
    "duration": 14,
    "start_time": "2023-07-12T19:23:55.156Z"
   },
   {
    "duration": 36,
    "start_time": "2023-07-12T19:23:57.606Z"
   },
   {
    "duration": 168,
    "start_time": "2023-07-12T19:31:34.382Z"
   },
   {
    "duration": 59,
    "start_time": "2023-07-12T19:31:41.709Z"
   },
   {
    "duration": 9,
    "start_time": "2023-07-12T19:31:43.130Z"
   },
   {
    "duration": 4,
    "start_time": "2023-07-12T19:32:22.011Z"
   },
   {
    "duration": 4,
    "start_time": "2023-07-12T19:32:22.256Z"
   },
   {
    "duration": 10,
    "start_time": "2023-07-12T19:32:39.814Z"
   },
   {
    "duration": 104,
    "start_time": "2023-07-12T19:32:57.704Z"
   },
   {
    "duration": 12,
    "start_time": "2023-07-12T19:33:15.050Z"
   },
   {
    "duration": 5,
    "start_time": "2023-07-12T19:33:27.802Z"
   },
   {
    "duration": 4,
    "start_time": "2023-07-12T19:33:32.779Z"
   },
   {
    "duration": 14,
    "start_time": "2023-07-12T19:35:07.895Z"
   },
   {
    "duration": 5,
    "start_time": "2023-07-12T19:35:20.277Z"
   },
   {
    "duration": 6,
    "start_time": "2023-07-12T19:35:30.792Z"
   },
   {
    "duration": 105239,
    "start_time": "2023-07-12T19:37:57.478Z"
   },
   {
    "duration": 103141,
    "start_time": "2023-07-12T19:40:52.496Z"
   },
   {
    "duration": 61,
    "start_time": "2023-07-12T19:44:43.046Z"
   },
   {
    "duration": 102462,
    "start_time": "2023-07-12T19:45:00.376Z"
   },
   {
    "duration": 76927,
    "start_time": "2023-07-12T19:48:46.425Z"
   },
   {
    "duration": 59,
    "start_time": "2023-07-12T19:52:46.215Z"
   },
   {
    "duration": 103376,
    "start_time": "2023-07-12T19:52:50.657Z"
   },
   {
    "duration": 21,
    "start_time": "2023-07-12T19:55:25.795Z"
   },
   {
    "duration": 24,
    "start_time": "2023-07-12T19:55:26.931Z"
   },
   {
    "duration": 8,
    "start_time": "2023-07-12T19:59:07.393Z"
   },
   {
    "duration": 5,
    "start_time": "2023-07-12T19:59:08.837Z"
   },
   {
    "duration": 9,
    "start_time": "2023-07-12T19:59:44.086Z"
   },
   {
    "duration": 9,
    "start_time": "2023-07-12T19:59:44.757Z"
   },
   {
    "duration": 4,
    "start_time": "2023-07-12T19:59:44.943Z"
   },
   {
    "duration": 8,
    "start_time": "2023-07-12T19:59:56.827Z"
   },
   {
    "duration": 4,
    "start_time": "2023-07-12T19:59:57.832Z"
   },
   {
    "duration": 9,
    "start_time": "2023-07-12T20:00:01.282Z"
   },
   {
    "duration": 10,
    "start_time": "2023-07-12T20:00:10.403Z"
   },
   {
    "duration": 4,
    "start_time": "2023-07-12T20:00:10.599Z"
   },
   {
    "duration": 10,
    "start_time": "2023-07-12T20:00:38.925Z"
   },
   {
    "duration": 43,
    "start_time": "2023-07-12T20:00:43.960Z"
   },
   {
    "duration": 186,
    "start_time": "2023-07-12T20:00:48.815Z"
   },
   {
    "duration": 81,
    "start_time": "2023-07-12T20:00:54.179Z"
   },
   {
    "duration": 12,
    "start_time": "2023-07-12T20:00:54.389Z"
   },
   {
    "duration": 10,
    "start_time": "2023-07-12T20:01:06.776Z"
   },
   {
    "duration": 102581,
    "start_time": "2023-07-12T20:01:12.179Z"
   },
   {
    "duration": 101231,
    "start_time": "2023-07-12T20:09:16.289Z"
   },
   {
    "duration": 21,
    "start_time": "2023-07-12T20:11:12.594Z"
   },
   {
    "duration": 10,
    "start_time": "2023-07-12T20:19:25.701Z"
   },
   {
    "duration": 6,
    "start_time": "2023-07-12T20:24:16.708Z"
   },
   {
    "duration": 137,
    "start_time": "2023-07-12T20:24:42.651Z"
   },
   {
    "duration": 12,
    "start_time": "2023-07-12T20:25:17.049Z"
   },
   {
    "duration": 120,
    "start_time": "2023-07-12T20:25:18.248Z"
   },
   {
    "duration": 25,
    "start_time": "2023-07-12T20:25:34.663Z"
   },
   {
    "duration": 4,
    "start_time": "2023-07-12T20:28:16.631Z"
   },
   {
    "duration": 22,
    "start_time": "2023-07-12T20:28:23.595Z"
   },
   {
    "duration": 117,
    "start_time": "2023-07-12T20:41:56.624Z"
   },
   {
    "duration": 7,
    "start_time": "2023-07-12T20:42:06.326Z"
   },
   {
    "duration": 16,
    "start_time": "2023-07-12T20:42:11.292Z"
   },
   {
    "duration": 5,
    "start_time": "2023-07-12T20:42:32.146Z"
   },
   {
    "duration": 15,
    "start_time": "2023-07-12T20:44:30.406Z"
   },
   {
    "duration": 16,
    "start_time": "2023-07-12T20:44:33.770Z"
   },
   {
    "duration": 17,
    "start_time": "2023-07-12T20:44:42.013Z"
   },
   {
    "duration": 16,
    "start_time": "2023-07-12T20:44:49.316Z"
   },
   {
    "duration": 1677,
    "start_time": "2023-07-12T20:45:33.512Z"
   },
   {
    "duration": 5,
    "start_time": "2023-07-12T20:54:42.805Z"
   },
   {
    "duration": 18,
    "start_time": "2023-07-12T20:54:47.078Z"
   },
   {
    "duration": 4,
    "start_time": "2023-07-12T20:55:01.694Z"
   },
   {
    "duration": 9,
    "start_time": "2023-07-12T21:19:50.408Z"
   },
   {
    "duration": 25,
    "start_time": "2023-07-12T21:19:58.822Z"
   },
   {
    "duration": 15,
    "start_time": "2023-07-12T21:20:33.838Z"
   },
   {
    "duration": 19,
    "start_time": "2023-07-12T21:20:35.241Z"
   },
   {
    "duration": 141,
    "start_time": "2023-07-12T21:20:49.348Z"
   },
   {
    "duration": 132,
    "start_time": "2023-07-12T21:21:02.826Z"
   },
   {
    "duration": 11,
    "start_time": "2023-07-12T21:21:55.481Z"
   },
   {
    "duration": 148,
    "start_time": "2023-07-12T21:21:59.083Z"
   },
   {
    "duration": 131,
    "start_time": "2023-07-12T21:23:13.917Z"
   },
   {
    "duration": 10,
    "start_time": "2023-07-12T21:23:51.950Z"
   },
   {
    "duration": 11,
    "start_time": "2023-07-12T21:23:52.350Z"
   },
   {
    "duration": 7,
    "start_time": "2023-07-12T21:23:58.914Z"
   },
   {
    "duration": 9,
    "start_time": "2023-07-12T21:24:00.815Z"
   },
   {
    "duration": 9,
    "start_time": "2023-07-12T21:24:02.042Z"
   },
   {
    "duration": 32,
    "start_time": "2023-07-12T21:24:12.445Z"
   },
   {
    "duration": 148,
    "start_time": "2023-07-12T21:24:17.216Z"
   },
   {
    "duration": 4,
    "start_time": "2023-07-12T21:24:25.635Z"
   },
   {
    "duration": 5,
    "start_time": "2023-07-12T21:24:25.821Z"
   },
   {
    "duration": 10,
    "start_time": "2023-07-12T21:24:33.812Z"
   },
   {
    "duration": 11288,
    "start_time": "2023-07-12T21:24:44.516Z"
   },
   {
    "duration": 4,
    "start_time": "2023-07-12T21:25:07.916Z"
   },
   {
    "duration": 82220,
    "start_time": "2023-07-12T21:25:18.943Z"
   },
   {
    "duration": 54,
    "start_time": "2023-07-12T21:26:54.922Z"
   },
   {
    "duration": 80786,
    "start_time": "2023-07-12T21:27:21.444Z"
   },
   {
    "duration": 1062,
    "start_time": "2023-07-12T21:29:23.417Z"
   },
   {
    "duration": 267,
    "start_time": "2023-07-12T21:29:24.481Z"
   },
   {
    "duration": 40,
    "start_time": "2023-07-12T21:29:24.750Z"
   },
   {
    "duration": 16,
    "start_time": "2023-07-12T21:29:24.792Z"
   },
   {
    "duration": 13,
    "start_time": "2023-07-12T21:29:24.813Z"
   },
   {
    "duration": 1302,
    "start_time": "2023-07-12T21:29:24.828Z"
   },
   {
    "duration": 4,
    "start_time": "2023-07-12T21:29:26.131Z"
   },
   {
    "duration": 7,
    "start_time": "2023-07-12T21:29:26.137Z"
   },
   {
    "duration": 12,
    "start_time": "2023-07-12T21:29:26.145Z"
   },
   {
    "duration": 8,
    "start_time": "2023-07-12T21:29:26.158Z"
   },
   {
    "duration": 8,
    "start_time": "2023-07-12T21:29:26.167Z"
   },
   {
    "duration": 6,
    "start_time": "2023-07-12T21:29:26.177Z"
   },
   {
    "duration": 9,
    "start_time": "2023-07-12T21:29:26.184Z"
   },
   {
    "duration": 133,
    "start_time": "2023-07-12T21:29:26.196Z"
   },
   {
    "duration": 13,
    "start_time": "2023-07-12T21:29:26.331Z"
   },
   {
    "duration": 161,
    "start_time": "2023-07-12T21:29:26.345Z"
   },
   {
    "duration": 9,
    "start_time": "2023-07-12T21:29:26.508Z"
   },
   {
    "duration": 8,
    "start_time": "2023-07-12T21:29:26.519Z"
   },
   {
    "duration": 6,
    "start_time": "2023-07-12T21:29:26.529Z"
   },
   {
    "duration": 27,
    "start_time": "2023-07-12T21:29:26.536Z"
   },
   {
    "duration": 10,
    "start_time": "2023-07-12T21:29:26.565Z"
   },
   {
    "duration": 5,
    "start_time": "2023-07-12T21:29:26.576Z"
   },
   {
    "duration": 7,
    "start_time": "2023-07-12T21:29:26.583Z"
   },
   {
    "duration": 3,
    "start_time": "2023-07-12T21:29:26.591Z"
   },
   {
    "duration": 6,
    "start_time": "2023-07-12T21:29:26.596Z"
   },
   {
    "duration": 59,
    "start_time": "2023-07-12T21:29:26.604Z"
   },
   {
    "duration": 142,
    "start_time": "2023-07-12T21:29:26.665Z"
   },
   {
    "duration": 150,
    "start_time": "2023-07-12T21:29:26.808Z"
   },
   {
    "duration": 102,
    "start_time": "2023-07-12T21:29:26.959Z"
   },
   {
    "duration": 94,
    "start_time": "2023-07-12T21:29:27.063Z"
   },
   {
    "duration": 5,
    "start_time": "2023-07-12T21:29:27.159Z"
   },
   {
    "duration": 31,
    "start_time": "2023-07-12T21:29:27.165Z"
   },
   {
    "duration": 80,
    "start_time": "2023-07-12T21:29:27.197Z"
   },
   {
    "duration": 18,
    "start_time": "2023-07-12T21:29:27.279Z"
   },
   {
    "duration": 481,
    "start_time": "2023-07-12T21:29:27.298Z"
   },
   {
    "duration": 634,
    "start_time": "2023-07-12T21:29:27.780Z"
   },
   {
    "duration": 284,
    "start_time": "2023-07-12T21:29:28.416Z"
   },
   {
    "duration": 56,
    "start_time": "2023-07-12T21:29:28.701Z"
   },
   {
    "duration": 113,
    "start_time": "2023-07-12T21:29:28.759Z"
   },
   {
    "duration": 187,
    "start_time": "2023-07-12T21:29:28.873Z"
   },
   {
    "duration": 99,
    "start_time": "2023-07-12T21:29:29.064Z"
   },
   {
    "duration": 78175,
    "start_time": "2023-07-12T21:29:29.164Z"
   },
   {
    "duration": 21,
    "start_time": "2023-07-12T21:30:55.440Z"
   },
   {
    "duration": 21,
    "start_time": "2023-07-12T21:30:55.607Z"
   },
   {
    "duration": 1177,
    "start_time": "2023-07-12T21:31:54.221Z"
   },
   {
    "duration": 272,
    "start_time": "2023-07-12T21:31:55.400Z"
   },
   {
    "duration": 40,
    "start_time": "2023-07-12T21:31:55.674Z"
   },
   {
    "duration": 16,
    "start_time": "2023-07-12T21:31:55.716Z"
   },
   {
    "duration": 12,
    "start_time": "2023-07-12T21:31:55.736Z"
   },
   {
    "duration": 1362,
    "start_time": "2023-07-12T21:31:55.749Z"
   },
   {
    "duration": 4,
    "start_time": "2023-07-12T21:31:57.112Z"
   },
   {
    "duration": 8,
    "start_time": "2023-07-12T21:31:57.118Z"
   },
   {
    "duration": 6,
    "start_time": "2023-07-12T21:31:57.128Z"
   },
   {
    "duration": 7,
    "start_time": "2023-07-12T21:31:57.135Z"
   },
   {
    "duration": 10,
    "start_time": "2023-07-12T21:31:57.155Z"
   },
   {
    "duration": 4,
    "start_time": "2023-07-12T21:31:57.167Z"
   },
   {
    "duration": 5,
    "start_time": "2023-07-12T21:31:57.173Z"
   },
   {
    "duration": 146,
    "start_time": "2023-07-12T21:31:57.181Z"
   },
   {
    "duration": 14,
    "start_time": "2023-07-12T21:31:57.328Z"
   },
   {
    "duration": 172,
    "start_time": "2023-07-12T21:31:57.344Z"
   },
   {
    "duration": 8,
    "start_time": "2023-07-12T21:31:57.518Z"
   },
   {
    "duration": 12,
    "start_time": "2023-07-12T21:31:57.527Z"
   },
   {
    "duration": 23,
    "start_time": "2023-07-12T21:31:57.541Z"
   },
   {
    "duration": 12,
    "start_time": "2023-07-12T21:31:57.566Z"
   },
   {
    "duration": 21,
    "start_time": "2023-07-12T21:31:57.580Z"
   },
   {
    "duration": 5,
    "start_time": "2023-07-12T21:31:57.603Z"
   },
   {
    "duration": 4,
    "start_time": "2023-07-12T21:31:57.609Z"
   },
   {
    "duration": 12,
    "start_time": "2023-07-12T21:31:57.614Z"
   },
   {
    "duration": 4,
    "start_time": "2023-07-12T21:31:57.627Z"
   },
   {
    "duration": 31,
    "start_time": "2023-07-12T21:31:57.632Z"
   },
   {
    "duration": 147,
    "start_time": "2023-07-12T21:31:57.664Z"
   },
   {
    "duration": 147,
    "start_time": "2023-07-12T21:31:57.812Z"
   },
   {
    "duration": 98,
    "start_time": "2023-07-12T21:31:57.960Z"
   },
   {
    "duration": 97,
    "start_time": "2023-07-12T21:31:58.061Z"
   },
   {
    "duration": 8,
    "start_time": "2023-07-12T21:31:58.160Z"
   },
   {
    "duration": 27,
    "start_time": "2023-07-12T21:31:58.170Z"
   },
   {
    "duration": 35,
    "start_time": "2023-07-12T21:31:58.199Z"
   },
   {
    "duration": 20,
    "start_time": "2023-07-12T21:31:58.256Z"
   },
   {
    "duration": 501,
    "start_time": "2023-07-12T21:31:58.278Z"
   },
   {
    "duration": 697,
    "start_time": "2023-07-12T21:31:58.780Z"
   },
   {
    "duration": 278,
    "start_time": "2023-07-12T21:31:59.478Z"
   },
   {
    "duration": 13,
    "start_time": "2023-07-12T21:31:59.758Z"
   },
   {
    "duration": 189,
    "start_time": "2023-07-12T21:31:59.773Z"
   },
   {
    "duration": 192,
    "start_time": "2023-07-12T21:31:59.964Z"
   },
   {
    "duration": 115,
    "start_time": "2023-07-12T21:32:00.163Z"
   },
   {
    "duration": 79198,
    "start_time": "2023-07-12T21:32:00.280Z"
   },
   {
    "duration": 27,
    "start_time": "2023-07-12T21:34:39.915Z"
   },
   {
    "duration": 35,
    "start_time": "2023-07-12T21:34:40.134Z"
   },
   {
    "duration": 1141,
    "start_time": "2023-07-12T21:35:59.032Z"
   },
   {
    "duration": 275,
    "start_time": "2023-07-12T21:36:00.175Z"
   },
   {
    "duration": 43,
    "start_time": "2023-07-12T21:36:00.452Z"
   },
   {
    "duration": 16,
    "start_time": "2023-07-12T21:36:00.497Z"
   },
   {
    "duration": 40,
    "start_time": "2023-07-12T21:36:00.517Z"
   },
   {
    "duration": 1401,
    "start_time": "2023-07-12T21:36:00.559Z"
   },
   {
    "duration": 4,
    "start_time": "2023-07-12T21:36:01.961Z"
   },
   {
    "duration": 65,
    "start_time": "2023-07-12T21:36:01.966Z"
   },
   {
    "duration": 67,
    "start_time": "2023-07-12T21:36:02.033Z"
   },
   {
    "duration": 30,
    "start_time": "2023-07-12T21:36:02.102Z"
   },
   {
    "duration": 35,
    "start_time": "2023-07-12T21:36:02.134Z"
   },
   {
    "duration": 41,
    "start_time": "2023-07-12T21:36:02.171Z"
   },
   {
    "duration": 16,
    "start_time": "2023-07-12T21:36:02.213Z"
   },
   {
    "duration": 147,
    "start_time": "2023-07-12T21:36:02.233Z"
   },
   {
    "duration": 12,
    "start_time": "2023-07-12T21:36:02.382Z"
   },
   {
    "duration": 175,
    "start_time": "2023-07-12T21:36:02.395Z"
   },
   {
    "duration": 8,
    "start_time": "2023-07-12T21:36:02.572Z"
   },
   {
    "duration": 16,
    "start_time": "2023-07-12T21:36:02.582Z"
   },
   {
    "duration": 49,
    "start_time": "2023-07-12T21:36:02.599Z"
   },
   {
    "duration": 24,
    "start_time": "2023-07-12T21:36:02.649Z"
   },
   {
    "duration": 26,
    "start_time": "2023-07-12T21:36:02.675Z"
   },
   {
    "duration": 19,
    "start_time": "2023-07-12T21:36:02.703Z"
   },
   {
    "duration": 17,
    "start_time": "2023-07-12T21:36:02.724Z"
   },
   {
    "duration": 31,
    "start_time": "2023-07-12T21:36:02.743Z"
   },
   {
    "duration": 12,
    "start_time": "2023-07-12T21:36:02.776Z"
   },
   {
    "duration": 44,
    "start_time": "2023-07-12T21:36:02.789Z"
   },
   {
    "duration": 142,
    "start_time": "2023-07-12T21:36:02.836Z"
   },
   {
    "duration": 83,
    "start_time": "2023-07-12T21:36:02.979Z"
   },
   {
    "duration": 193,
    "start_time": "2023-07-12T21:36:03.064Z"
   },
   {
    "duration": 99,
    "start_time": "2023-07-12T21:36:03.259Z"
   },
   {
    "duration": 95,
    "start_time": "2023-07-12T21:36:03.360Z"
   },
   {
    "duration": 121,
    "start_time": "2023-07-12T21:36:03.457Z"
   },
   {
    "duration": 137,
    "start_time": "2023-07-12T21:36:03.579Z"
   },
   {
    "duration": 20,
    "start_time": "2023-07-12T21:36:03.718Z"
   },
   {
    "duration": 505,
    "start_time": "2023-07-12T21:36:03.739Z"
   },
   {
    "duration": 680,
    "start_time": "2023-07-12T21:36:04.245Z"
   },
   {
    "duration": 291,
    "start_time": "2023-07-12T21:36:04.927Z"
   },
   {
    "duration": 39,
    "start_time": "2023-07-12T21:36:05.220Z"
   },
   {
    "duration": 113,
    "start_time": "2023-07-12T21:36:05.260Z"
   },
   {
    "duration": 187,
    "start_time": "2023-07-12T21:36:05.375Z"
   },
   {
    "duration": 96,
    "start_time": "2023-07-12T21:36:05.566Z"
   },
   {
    "duration": 83437,
    "start_time": "2023-07-12T21:36:05.664Z"
   },
   {
    "duration": 59,
    "start_time": "2023-07-12T21:38:19.256Z"
   },
   {
    "duration": 82844,
    "start_time": "2023-07-12T21:46:55.262Z"
   },
   {
    "duration": 6820,
    "start_time": "2023-07-12T21:49:16.830Z"
   },
   {
    "duration": 308877,
    "start_time": "2023-07-12T21:49:31.942Z"
   },
   {
    "duration": 86,
    "start_time": "2023-07-12T21:55:29.815Z"
   },
   {
    "duration": 85,
    "start_time": "2023-07-12T21:55:40.153Z"
   },
   {
    "duration": 1085,
    "start_time": "2023-07-12T21:58:26.306Z"
   },
   {
    "duration": 266,
    "start_time": "2023-07-12T21:58:27.393Z"
   },
   {
    "duration": 40,
    "start_time": "2023-07-12T21:58:27.660Z"
   },
   {
    "duration": 15,
    "start_time": "2023-07-12T21:58:27.702Z"
   },
   {
    "duration": 11,
    "start_time": "2023-07-12T21:58:27.720Z"
   },
   {
    "duration": 1383,
    "start_time": "2023-07-12T21:58:27.733Z"
   },
   {
    "duration": 4,
    "start_time": "2023-07-12T21:58:29.118Z"
   },
   {
    "duration": 8,
    "start_time": "2023-07-12T21:58:29.123Z"
   },
   {
    "duration": 8,
    "start_time": "2023-07-12T21:58:29.133Z"
   },
   {
    "duration": 17,
    "start_time": "2023-07-12T21:58:29.142Z"
   },
   {
    "duration": 16,
    "start_time": "2023-07-12T21:58:29.161Z"
   },
   {
    "duration": 15,
    "start_time": "2023-07-12T21:58:29.178Z"
   },
   {
    "duration": 5,
    "start_time": "2023-07-12T21:58:29.194Z"
   },
   {
    "duration": 130,
    "start_time": "2023-07-12T21:58:29.202Z"
   },
   {
    "duration": 11,
    "start_time": "2023-07-12T21:58:29.334Z"
   },
   {
    "duration": 144,
    "start_time": "2023-07-12T21:58:29.356Z"
   },
   {
    "duration": 8,
    "start_time": "2023-07-12T21:58:29.501Z"
   },
   {
    "duration": 7,
    "start_time": "2023-07-12T21:58:29.510Z"
   },
   {
    "duration": 7,
    "start_time": "2023-07-12T21:58:29.518Z"
   },
   {
    "duration": 11,
    "start_time": "2023-07-12T21:58:29.526Z"
   },
   {
    "duration": 25,
    "start_time": "2023-07-12T21:58:29.538Z"
   },
   {
    "duration": 24,
    "start_time": "2023-07-12T21:58:29.565Z"
   },
   {
    "duration": 32,
    "start_time": "2023-07-12T21:58:29.591Z"
   },
   {
    "duration": 18,
    "start_time": "2023-07-12T21:58:29.624Z"
   },
   {
    "duration": 41,
    "start_time": "2023-07-12T21:58:29.644Z"
   },
   {
    "duration": 141,
    "start_time": "2023-07-12T21:58:29.686Z"
   },
   {
    "duration": 130,
    "start_time": "2023-07-12T21:58:29.829Z"
   },
   {
    "duration": 98,
    "start_time": "2023-07-12T21:58:29.962Z"
   },
   {
    "duration": 103,
    "start_time": "2023-07-12T21:58:30.062Z"
   },
   {
    "duration": 45,
    "start_time": "2023-07-12T21:58:30.167Z"
   },
   {
    "duration": 66,
    "start_time": "2023-07-12T21:58:30.214Z"
   },
   {
    "duration": 83,
    "start_time": "2023-07-12T21:58:30.282Z"
   },
   {
    "duration": 44,
    "start_time": "2023-07-12T21:58:30.367Z"
   },
   {
    "duration": 530,
    "start_time": "2023-07-12T21:58:30.413Z"
   },
   {
    "duration": 673,
    "start_time": "2023-07-12T21:58:30.945Z"
   },
   {
    "duration": 274,
    "start_time": "2023-07-12T21:58:31.620Z"
   },
   {
    "duration": 14,
    "start_time": "2023-07-12T21:58:31.896Z"
   },
   {
    "duration": 117,
    "start_time": "2023-07-12T21:58:31.957Z"
   },
   {
    "duration": 183,
    "start_time": "2023-07-12T21:58:32.077Z"
   },
   {
    "duration": 98,
    "start_time": "2023-07-12T21:58:32.262Z"
   },
   {
    "duration": 294909,
    "start_time": "2023-07-12T21:58:32.364Z"
   },
   {
    "duration": 107,
    "start_time": "2023-07-12T22:03:27.274Z"
   },
   {
    "duration": 17,
    "start_time": "2023-07-12T22:03:27.383Z"
   },
   {
    "duration": 15,
    "start_time": "2023-07-12T22:04:35.393Z"
   },
   {
    "duration": 1136,
    "start_time": "2023-07-12T22:05:03.810Z"
   },
   {
    "duration": 284,
    "start_time": "2023-07-12T22:05:04.948Z"
   },
   {
    "duration": 41,
    "start_time": "2023-07-12T22:05:05.234Z"
   },
   {
    "duration": 18,
    "start_time": "2023-07-12T22:05:05.278Z"
   },
   {
    "duration": 14,
    "start_time": "2023-07-12T22:05:05.297Z"
   },
   {
    "duration": 1306,
    "start_time": "2023-07-12T22:05:05.312Z"
   },
   {
    "duration": 3,
    "start_time": "2023-07-12T22:05:06.620Z"
   },
   {
    "duration": 26,
    "start_time": "2023-07-12T22:05:06.625Z"
   },
   {
    "duration": 24,
    "start_time": "2023-07-12T22:05:06.652Z"
   },
   {
    "duration": 11,
    "start_time": "2023-07-12T22:05:06.678Z"
   },
   {
    "duration": 14,
    "start_time": "2023-07-12T22:05:06.690Z"
   },
   {
    "duration": 41,
    "start_time": "2023-07-12T22:05:06.705Z"
   },
   {
    "duration": 24,
    "start_time": "2023-07-12T22:05:06.748Z"
   },
   {
    "duration": 136,
    "start_time": "2023-07-12T22:05:06.774Z"
   },
   {
    "duration": 12,
    "start_time": "2023-07-12T22:05:06.912Z"
   },
   {
    "duration": 154,
    "start_time": "2023-07-12T22:05:06.926Z"
   },
   {
    "duration": 8,
    "start_time": "2023-07-12T22:05:07.081Z"
   },
   {
    "duration": 4,
    "start_time": "2023-07-12T22:05:07.090Z"
   },
   {
    "duration": 7,
    "start_time": "2023-07-12T22:05:07.096Z"
   },
   {
    "duration": 9,
    "start_time": "2023-07-12T22:05:07.105Z"
   },
   {
    "duration": 12,
    "start_time": "2023-07-12T22:05:07.116Z"
   },
   {
    "duration": 31,
    "start_time": "2023-07-12T22:05:07.129Z"
   },
   {
    "duration": 9,
    "start_time": "2023-07-12T22:05:07.163Z"
   },
   {
    "duration": 4,
    "start_time": "2023-07-12T22:05:07.174Z"
   },
   {
    "duration": 57,
    "start_time": "2023-07-12T22:05:07.179Z"
   },
   {
    "duration": 160,
    "start_time": "2023-07-12T22:05:07.238Z"
   },
   {
    "duration": 168,
    "start_time": "2023-07-12T22:05:07.399Z"
   },
   {
    "duration": 9,
    "start_time": "2023-07-12T22:05:07.656Z"
   },
   {
    "duration": 93,
    "start_time": "2023-07-12T22:05:07.666Z"
   },
   {
    "duration": 96,
    "start_time": "2023-07-12T22:05:07.761Z"
   },
   {
    "duration": 28,
    "start_time": "2023-07-12T22:05:07.859Z"
   },
   {
    "duration": 36,
    "start_time": "2023-07-12T22:05:07.889Z"
   },
   {
    "duration": 45,
    "start_time": "2023-07-12T22:05:07.927Z"
   },
   {
    "duration": 546,
    "start_time": "2023-07-12T22:05:07.974Z"
   },
   {
    "duration": 730,
    "start_time": "2023-07-12T22:05:08.522Z"
   },
   {
    "duration": 292,
    "start_time": "2023-07-12T22:05:09.255Z"
   },
   {
    "duration": 23,
    "start_time": "2023-07-12T22:05:09.548Z"
   },
   {
    "duration": 189,
    "start_time": "2023-07-12T22:05:09.573Z"
   },
   {
    "duration": 193,
    "start_time": "2023-07-12T22:05:09.764Z"
   },
   {
    "duration": 9,
    "start_time": "2023-07-12T22:05:09.959Z"
   },
   {
    "duration": 315290,
    "start_time": "2023-07-12T22:05:10.057Z"
   },
   {
    "duration": 48,
    "start_time": "2023-07-12T22:10:25.349Z"
   },
   {
    "duration": 58,
    "start_time": "2023-07-12T22:10:25.399Z"
   },
   {
    "duration": 1087,
    "start_time": "2023-07-12T22:21:12.515Z"
   },
   {
    "duration": 338,
    "start_time": "2023-07-12T22:21:13.604Z"
   },
   {
    "duration": 40,
    "start_time": "2023-07-12T22:21:13.944Z"
   },
   {
    "duration": 16,
    "start_time": "2023-07-12T22:21:13.986Z"
   },
   {
    "duration": 24,
    "start_time": "2023-07-12T22:21:14.004Z"
   },
   {
    "duration": 1310,
    "start_time": "2023-07-12T22:21:14.029Z"
   },
   {
    "duration": 5,
    "start_time": "2023-07-12T22:21:15.340Z"
   },
   {
    "duration": 12,
    "start_time": "2023-07-12T22:21:15.346Z"
   },
   {
    "duration": 18,
    "start_time": "2023-07-12T22:21:15.359Z"
   },
   {
    "duration": 17,
    "start_time": "2023-07-12T22:21:15.379Z"
   },
   {
    "duration": 9,
    "start_time": "2023-07-12T22:21:15.398Z"
   },
   {
    "duration": 11,
    "start_time": "2023-07-12T22:21:15.408Z"
   },
   {
    "duration": 34,
    "start_time": "2023-07-12T22:21:15.421Z"
   },
   {
    "duration": 144,
    "start_time": "2023-07-12T22:21:15.456Z"
   },
   {
    "duration": 11,
    "start_time": "2023-07-12T22:21:15.601Z"
   },
   {
    "duration": 143,
    "start_time": "2023-07-12T22:21:15.613Z"
   },
   {
    "duration": 9,
    "start_time": "2023-07-12T22:21:15.758Z"
   },
   {
    "duration": 4,
    "start_time": "2023-07-12T22:21:15.768Z"
   },
   {
    "duration": 6,
    "start_time": "2023-07-12T22:21:15.773Z"
   },
   {
    "duration": 10,
    "start_time": "2023-07-12T22:21:15.780Z"
   },
   {
    "duration": 26,
    "start_time": "2023-07-12T22:21:15.792Z"
   },
   {
    "duration": 21,
    "start_time": "2023-07-12T22:21:15.820Z"
   },
   {
    "duration": 14,
    "start_time": "2023-07-12T22:21:15.842Z"
   },
   {
    "duration": 3,
    "start_time": "2023-07-12T22:21:15.858Z"
   },
   {
    "duration": 32,
    "start_time": "2023-07-12T22:21:15.863Z"
   },
   {
    "duration": 153,
    "start_time": "2023-07-12T22:21:15.897Z"
   },
   {
    "duration": 108,
    "start_time": "2023-07-12T22:21:16.051Z"
   },
   {
    "duration": 98,
    "start_time": "2023-07-12T22:21:16.163Z"
   },
   {
    "duration": 101,
    "start_time": "2023-07-12T22:21:16.262Z"
   },
   {
    "duration": 96,
    "start_time": "2023-07-12T22:21:16.365Z"
   },
   {
    "duration": 31,
    "start_time": "2023-07-12T22:21:16.463Z"
   },
   {
    "duration": 34,
    "start_time": "2023-07-12T22:21:16.496Z"
   },
   {
    "duration": 36,
    "start_time": "2023-07-12T22:21:16.532Z"
   },
   {
    "duration": 501,
    "start_time": "2023-07-12T22:21:16.570Z"
   },
   {
    "duration": 703,
    "start_time": "2023-07-12T22:21:17.073Z"
   },
   {
    "duration": 292,
    "start_time": "2023-07-12T22:21:17.777Z"
   },
   {
    "duration": 15,
    "start_time": "2023-07-12T22:21:18.071Z"
   },
   {
    "duration": 178,
    "start_time": "2023-07-12T22:21:18.088Z"
   },
   {
    "duration": 190,
    "start_time": "2023-07-12T22:21:18.268Z"
   },
   {
    "duration": 98,
    "start_time": "2023-07-12T22:21:18.460Z"
   },
   {
    "duration": 76090,
    "start_time": "2023-07-12T22:21:18.560Z"
   },
   {
    "duration": 43,
    "start_time": "2023-07-12T22:22:34.651Z"
   },
   {
    "duration": 42,
    "start_time": "2023-07-12T22:22:34.695Z"
   },
   {
    "duration": 84206,
    "start_time": "2023-07-12T22:22:40.596Z"
   },
   {
    "duration": 57,
    "start_time": "2023-07-12T22:24:16.823Z"
   },
   {
    "duration": 58,
    "start_time": "2023-07-12T22:24:17.018Z"
   },
   {
    "duration": 84013,
    "start_time": "2023-07-12T22:24:33.874Z"
   },
   {
    "duration": 7051,
    "start_time": "2023-07-12T22:26:11.730Z"
   },
   {
    "duration": 42,
    "start_time": "2023-07-12T22:36:48.610Z"
   },
   {
    "duration": 40,
    "start_time": "2023-07-12T22:37:49.635Z"
   },
   {
    "duration": 83127,
    "start_time": "2023-07-12T22:38:19.896Z"
   },
   {
    "duration": 56,
    "start_time": "2023-07-12T22:40:20.629Z"
   },
   {
    "duration": 61,
    "start_time": "2023-07-12T22:40:30.061Z"
   },
   {
    "duration": 113,
    "start_time": "2023-07-12T22:41:20.588Z"
   },
   {
    "duration": 115,
    "start_time": "2023-07-12T22:45:47.711Z"
   },
   {
    "duration": 57,
    "start_time": "2023-07-12T22:46:16.540Z"
   },
   {
    "duration": 58,
    "start_time": "2023-07-12T23:01:29.885Z"
   },
   {
    "duration": 116,
    "start_time": "2023-07-12T23:01:43.730Z"
   },
   {
    "duration": 58,
    "start_time": "2023-07-12T23:01:55.986Z"
   },
   {
    "duration": 61,
    "start_time": "2023-07-12T23:06:51.015Z"
   },
   {
    "duration": 1077,
    "start_time": "2023-07-12T23:10:35.792Z"
   },
   {
    "duration": 263,
    "start_time": "2023-07-12T23:10:36.871Z"
   },
   {
    "duration": 39,
    "start_time": "2023-07-12T23:10:37.136Z"
   },
   {
    "duration": 17,
    "start_time": "2023-07-12T23:10:37.177Z"
   },
   {
    "duration": 13,
    "start_time": "2023-07-12T23:10:37.198Z"
   },
   {
    "duration": 1375,
    "start_time": "2023-07-12T23:10:37.212Z"
   },
   {
    "duration": 4,
    "start_time": "2023-07-12T23:10:38.589Z"
   },
   {
    "duration": 6,
    "start_time": "2023-07-12T23:10:38.594Z"
   },
   {
    "duration": 6,
    "start_time": "2023-07-12T23:10:38.601Z"
   },
   {
    "duration": 8,
    "start_time": "2023-07-12T23:10:38.609Z"
   },
   {
    "duration": 14,
    "start_time": "2023-07-12T23:10:38.619Z"
   },
   {
    "duration": 22,
    "start_time": "2023-07-12T23:10:38.635Z"
   },
   {
    "duration": 2,
    "start_time": "2023-07-12T23:10:38.659Z"
   },
   {
    "duration": 144,
    "start_time": "2023-07-12T23:10:38.664Z"
   },
   {
    "duration": 13,
    "start_time": "2023-07-12T23:10:38.810Z"
   },
   {
    "duration": 163,
    "start_time": "2023-07-12T23:10:38.825Z"
   },
   {
    "duration": 10,
    "start_time": "2023-07-12T23:10:38.989Z"
   },
   {
    "duration": 6,
    "start_time": "2023-07-12T23:10:39.001Z"
   },
   {
    "duration": 6,
    "start_time": "2023-07-12T23:10:39.008Z"
   },
   {
    "duration": 11,
    "start_time": "2023-07-12T23:10:39.016Z"
   },
   {
    "duration": 36,
    "start_time": "2023-07-12T23:10:39.028Z"
   },
   {
    "duration": 6,
    "start_time": "2023-07-12T23:10:39.066Z"
   },
   {
    "duration": 8,
    "start_time": "2023-07-12T23:10:39.073Z"
   },
   {
    "duration": 4,
    "start_time": "2023-07-12T23:10:39.083Z"
   },
   {
    "duration": 34,
    "start_time": "2023-07-12T23:10:39.088Z"
   },
   {
    "duration": 170,
    "start_time": "2023-07-12T23:10:39.124Z"
   },
   {
    "duration": 69,
    "start_time": "2023-07-12T23:10:39.296Z"
   },
   {
    "duration": 197,
    "start_time": "2023-07-12T23:10:39.366Z"
   },
   {
    "duration": 92,
    "start_time": "2023-07-12T23:10:39.565Z"
   },
   {
    "duration": 5,
    "start_time": "2023-07-12T23:10:39.659Z"
   },
   {
    "duration": 30,
    "start_time": "2023-07-12T23:10:39.756Z"
   },
   {
    "duration": 35,
    "start_time": "2023-07-12T23:10:39.787Z"
   },
   {
    "duration": 35,
    "start_time": "2023-07-12T23:10:39.823Z"
   },
   {
    "duration": 497,
    "start_time": "2023-07-12T23:10:39.860Z"
   },
   {
    "duration": 673,
    "start_time": "2023-07-12T23:10:40.359Z"
   },
   {
    "duration": 288,
    "start_time": "2023-07-12T23:10:41.033Z"
   },
   {
    "duration": 134,
    "start_time": "2023-07-12T23:10:41.322Z"
   },
   {
    "duration": 98,
    "start_time": "2023-07-12T23:10:41.459Z"
   },
   {
    "duration": 102,
    "start_time": "2023-07-12T23:10:41.560Z"
   },
   {
    "duration": 7,
    "start_time": "2023-07-12T23:10:41.664Z"
   },
   {
    "duration": 83107,
    "start_time": "2023-07-12T23:10:41.674Z"
   },
   {
    "duration": 61,
    "start_time": "2023-07-12T23:12:04.783Z"
   },
   {
    "duration": 60,
    "start_time": "2023-07-12T23:12:04.857Z"
   },
   {
    "duration": 128,
    "start_time": "2023-07-12T23:12:04.918Z"
   },
   {
    "duration": 64,
    "start_time": "2023-07-12T23:12:05.048Z"
   },
   {
    "duration": 85,
    "start_time": "2023-07-12T23:12:05.113Z"
   },
   {
    "duration": 120,
    "start_time": "2023-07-12T23:12:05.200Z"
   },
   {
    "duration": 69,
    "start_time": "2023-07-12T23:12:05.322Z"
   },
   {
    "duration": 1089,
    "start_time": "2023-07-13T20:27:40.947Z"
   },
   {
    "duration": 120,
    "start_time": "2023-07-13T20:27:42.144Z"
   },
   {
    "duration": 79,
    "start_time": "2023-07-13T20:28:12.277Z"
   },
   {
    "duration": 15,
    "start_time": "2023-07-13T20:28:32.508Z"
   },
   {
    "duration": 13,
    "start_time": "2023-07-13T20:28:33.833Z"
   },
   {
    "duration": 1340,
    "start_time": "2023-07-13T20:28:34.856Z"
   },
   {
    "duration": 4,
    "start_time": "2023-07-13T20:28:39.918Z"
   },
   {
    "duration": 4,
    "start_time": "2023-07-13T20:28:40.140Z"
   },
   {
    "duration": 4,
    "start_time": "2023-07-13T20:28:41.509Z"
   },
   {
    "duration": 5,
    "start_time": "2023-07-13T20:28:46.880Z"
   },
   {
    "duration": 7,
    "start_time": "2023-07-13T20:28:58.901Z"
   },
   {
    "duration": 3,
    "start_time": "2023-07-13T20:28:59.110Z"
   },
   {
    "duration": 2,
    "start_time": "2023-07-13T20:28:59.297Z"
   },
   {
    "duration": 121,
    "start_time": "2023-07-13T20:31:42.491Z"
   },
   {
    "duration": 10,
    "start_time": "2023-07-13T20:31:44.077Z"
   },
   {
    "duration": 133,
    "start_time": "2023-07-13T20:31:45.261Z"
   },
   {
    "duration": 4,
    "start_time": "2023-07-13T20:31:53.526Z"
   },
   {
    "duration": 4,
    "start_time": "2023-07-13T20:32:36.168Z"
   },
   {
    "duration": 9,
    "start_time": "2023-07-13T20:36:10.392Z"
   },
   {
    "duration": 6,
    "start_time": "2023-07-13T20:36:31.130Z"
   },
   {
    "duration": 4,
    "start_time": "2023-07-13T20:36:31.407Z"
   },
   {
    "duration": 9,
    "start_time": "2023-07-13T20:36:32.350Z"
   },
   {
    "duration": 16,
    "start_time": "2023-07-13T20:36:34.623Z"
   },
   {
    "duration": 122,
    "start_time": "2023-07-13T20:37:49.791Z"
   },
   {
    "duration": 22,
    "start_time": "2023-07-13T20:38:04.696Z"
   },
   {
    "duration": 31,
    "start_time": "2023-07-13T20:38:13.870Z"
   },
   {
    "duration": 6,
    "start_time": "2023-07-13T20:38:42.310Z"
   },
   {
    "duration": 10,
    "start_time": "2023-07-13T20:38:43.744Z"
   },
   {
    "duration": 4,
    "start_time": "2023-07-13T20:39:30.713Z"
   },
   {
    "duration": 49,
    "start_time": "2023-07-13T20:39:34.504Z"
   },
   {
    "duration": 296,
    "start_time": "2023-07-13T20:39:37.290Z"
   },
   {
    "duration": 29,
    "start_time": "2023-07-13T20:39:58.907Z"
   },
   {
    "duration": 102,
    "start_time": "2023-07-13T20:39:59.132Z"
   },
   {
    "duration": 1016,
    "start_time": "2023-07-13T21:20:33.487Z"
   },
   {
    "duration": 523,
    "start_time": "2023-07-13T21:20:36.653Z"
   },
   {
    "duration": 3,
    "start_time": "2023-07-13T21:26:44.933Z"
   },
   {
    "duration": 1294,
    "start_time": "2023-07-13T21:26:59.237Z"
   },
   {
    "duration": 306,
    "start_time": "2023-07-13T21:27:00.534Z"
   },
   {
    "duration": 161,
    "start_time": "2023-07-13T21:27:00.842Z"
   },
   {
    "duration": 20,
    "start_time": "2023-07-13T21:27:01.005Z"
   },
   {
    "duration": 27,
    "start_time": "2023-07-13T21:27:01.026Z"
   },
   {
    "duration": 1528,
    "start_time": "2023-07-13T21:27:01.054Z"
   },
   {
    "duration": 4,
    "start_time": "2023-07-13T21:27:02.584Z"
   },
   {
    "duration": 32,
    "start_time": "2023-07-13T21:27:02.590Z"
   },
   {
    "duration": 35,
    "start_time": "2023-07-13T21:27:02.624Z"
   },
   {
    "duration": 26,
    "start_time": "2023-07-13T21:27:02.663Z"
   },
   {
    "duration": 35,
    "start_time": "2023-07-13T21:27:02.691Z"
   },
   {
    "duration": 150,
    "start_time": "2023-07-13T21:27:02.728Z"
   },
   {
    "duration": 0,
    "start_time": "2023-07-13T21:27:02.880Z"
   },
   {
    "duration": 0,
    "start_time": "2023-07-13T21:27:02.881Z"
   },
   {
    "duration": 0,
    "start_time": "2023-07-13T21:27:02.882Z"
   },
   {
    "duration": 0,
    "start_time": "2023-07-13T21:27:02.883Z"
   },
   {
    "duration": 0,
    "start_time": "2023-07-13T21:27:02.884Z"
   },
   {
    "duration": 0,
    "start_time": "2023-07-13T21:27:02.885Z"
   },
   {
    "duration": 0,
    "start_time": "2023-07-13T21:27:02.886Z"
   },
   {
    "duration": 0,
    "start_time": "2023-07-13T21:27:02.888Z"
   },
   {
    "duration": 0,
    "start_time": "2023-07-13T21:27:02.889Z"
   },
   {
    "duration": 0,
    "start_time": "2023-07-13T21:27:02.890Z"
   },
   {
    "duration": 0,
    "start_time": "2023-07-13T21:27:02.892Z"
   },
   {
    "duration": 0,
    "start_time": "2023-07-13T21:27:02.893Z"
   },
   {
    "duration": 0,
    "start_time": "2023-07-13T21:27:02.894Z"
   },
   {
    "duration": 7,
    "start_time": "2023-07-13T21:27:31.537Z"
   },
   {
    "duration": 4,
    "start_time": "2023-07-13T21:27:32.315Z"
   },
   {
    "duration": 2,
    "start_time": "2023-07-13T21:27:33.440Z"
   },
   {
    "duration": 3,
    "start_time": "2023-07-13T21:27:33.990Z"
   },
   {
    "duration": 2,
    "start_time": "2023-07-13T21:27:34.140Z"
   },
   {
    "duration": 10,
    "start_time": "2023-07-13T21:27:34.308Z"
   },
   {
    "duration": 12,
    "start_time": "2023-07-13T21:27:34.810Z"
   },
   {
    "duration": 5,
    "start_time": "2023-07-13T21:27:35.215Z"
   },
   {
    "duration": 5,
    "start_time": "2023-07-13T21:27:35.418Z"
   },
   {
    "duration": 2,
    "start_time": "2023-07-13T21:27:36.570Z"
   },
   {
    "duration": 2,
    "start_time": "2023-07-13T21:27:36.748Z"
   },
   {
    "duration": 3,
    "start_time": "2023-07-13T21:27:37.114Z"
   },
   {
    "duration": 10,
    "start_time": "2023-07-13T21:27:37.916Z"
   },
   {
    "duration": 6,
    "start_time": "2023-07-13T21:27:46.032Z"
   },
   {
    "duration": 5,
    "start_time": "2023-07-13T21:27:47.019Z"
   },
   {
    "duration": 6,
    "start_time": "2023-07-13T21:27:48.156Z"
   },
   {
    "duration": 3,
    "start_time": "2023-07-13T21:27:48.424Z"
   },
   {
    "duration": 22,
    "start_time": "2023-07-13T21:36:06.367Z"
   },
   {
    "duration": 5,
    "start_time": "2023-07-13T21:37:16.579Z"
   },
   {
    "duration": 3,
    "start_time": "2023-07-13T21:37:17.078Z"
   },
   {
    "duration": 9,
    "start_time": "2023-07-13T21:37:24.571Z"
   },
   {
    "duration": 4,
    "start_time": "2023-07-13T21:37:27.385Z"
   },
   {
    "duration": 24,
    "start_time": "2023-07-13T22:07:22.833Z"
   },
   {
    "duration": 1198,
    "start_time": "2023-07-13T22:07:36.137Z"
   },
   {
    "duration": 287,
    "start_time": "2023-07-13T22:07:37.337Z"
   },
   {
    "duration": 43,
    "start_time": "2023-07-13T22:07:37.626Z"
   },
   {
    "duration": 18,
    "start_time": "2023-07-13T22:07:37.672Z"
   },
   {
    "duration": 15,
    "start_time": "2023-07-13T22:07:37.692Z"
   },
   {
    "duration": 1546,
    "start_time": "2023-07-13T22:07:37.709Z"
   },
   {
    "duration": 4,
    "start_time": "2023-07-13T22:07:39.258Z"
   },
   {
    "duration": 11,
    "start_time": "2023-07-13T22:07:39.266Z"
   },
   {
    "duration": 9,
    "start_time": "2023-07-13T22:07:39.279Z"
   },
   {
    "duration": 12,
    "start_time": "2023-07-13T22:07:39.292Z"
   },
   {
    "duration": 7,
    "start_time": "2023-07-13T22:07:39.306Z"
   },
   {
    "duration": 12,
    "start_time": "2023-07-13T22:07:39.314Z"
   },
   {
    "duration": 10,
    "start_time": "2023-07-13T22:07:39.328Z"
   },
   {
    "duration": 7,
    "start_time": "2023-07-13T22:07:39.339Z"
   },
   {
    "duration": 26,
    "start_time": "2023-07-13T22:07:39.348Z"
   },
   {
    "duration": 6,
    "start_time": "2023-07-13T22:07:39.376Z"
   },
   {
    "duration": 119,
    "start_time": "2023-07-13T22:07:39.384Z"
   },
   {
    "duration": 0,
    "start_time": "2023-07-13T22:07:39.504Z"
   },
   {
    "duration": 0,
    "start_time": "2023-07-13T22:07:39.506Z"
   },
   {
    "duration": 0,
    "start_time": "2023-07-13T22:07:39.507Z"
   },
   {
    "duration": 0,
    "start_time": "2023-07-13T22:07:39.508Z"
   },
   {
    "duration": 0,
    "start_time": "2023-07-13T22:07:39.509Z"
   },
   {
    "duration": 0,
    "start_time": "2023-07-13T22:07:39.510Z"
   },
   {
    "duration": 2,
    "start_time": "2023-07-13T22:08:02.418Z"
   },
   {
    "duration": 11,
    "start_time": "2023-07-13T22:08:03.042Z"
   },
   {
    "duration": 5,
    "start_time": "2023-07-13T22:08:03.499Z"
   },
   {
    "duration": 5,
    "start_time": "2023-07-13T22:08:03.739Z"
   },
   {
    "duration": 2,
    "start_time": "2023-07-13T22:08:04.660Z"
   },
   {
    "duration": 3,
    "start_time": "2023-07-13T22:08:04.865Z"
   },
   {
    "duration": 23,
    "start_time": "2023-07-13T22:08:05.706Z"
   },
   {
    "duration": 24,
    "start_time": "2023-07-13T22:08:28.337Z"
   },
   {
    "duration": 22,
    "start_time": "2023-07-13T22:08:34.973Z"
   },
   {
    "duration": 4,
    "start_time": "2023-07-13T22:15:35.815Z"
   },
   {
    "duration": 11,
    "start_time": "2023-07-13T22:19:59.448Z"
   },
   {
    "duration": 5,
    "start_time": "2023-07-13T22:20:04.251Z"
   },
   {
    "duration": 3,
    "start_time": "2023-07-13T22:20:04.412Z"
   },
   {
    "duration": 6,
    "start_time": "2023-07-13T22:20:05.899Z"
   },
   {
    "duration": 5,
    "start_time": "2023-07-13T22:20:25.451Z"
   },
   {
    "duration": 5,
    "start_time": "2023-07-13T22:20:27.064Z"
   },
   {
    "duration": 4,
    "start_time": "2023-07-13T22:20:44.817Z"
   },
   {
    "duration": 22,
    "start_time": "2023-07-13T22:22:01.260Z"
   },
   {
    "duration": 11,
    "start_time": "2023-07-13T22:28:35.208Z"
   },
   {
    "duration": 10,
    "start_time": "2023-07-13T22:29:13.689Z"
   },
   {
    "duration": 14,
    "start_time": "2023-07-13T22:29:41.088Z"
   },
   {
    "duration": 17,
    "start_time": "2023-07-13T22:29:45.908Z"
   },
   {
    "duration": 19,
    "start_time": "2023-07-13T22:29:49.948Z"
   },
   {
    "duration": 19,
    "start_time": "2023-07-13T22:30:50.963Z"
   },
   {
    "duration": 20,
    "start_time": "2023-07-13T22:31:09.995Z"
   },
   {
    "duration": 17,
    "start_time": "2023-07-13T22:31:13.984Z"
   },
   {
    "duration": 14,
    "start_time": "2023-07-13T22:34:16.344Z"
   },
   {
    "duration": 11,
    "start_time": "2023-07-13T22:35:19.501Z"
   },
   {
    "duration": 16,
    "start_time": "2023-07-13T22:35:26.116Z"
   },
   {
    "duration": 9,
    "start_time": "2023-07-13T22:35:34.418Z"
   },
   {
    "duration": 10,
    "start_time": "2023-07-13T22:35:43.454Z"
   },
   {
    "duration": 12,
    "start_time": "2023-07-13T22:35:49.252Z"
   },
   {
    "duration": 20,
    "start_time": "2023-07-13T22:36:02.283Z"
   },
   {
    "duration": 13,
    "start_time": "2023-07-13T22:37:59.209Z"
   },
   {
    "duration": 23,
    "start_time": "2023-07-13T22:38:02.845Z"
   },
   {
    "duration": 12,
    "start_time": "2023-07-13T22:38:18.778Z"
   },
   {
    "duration": 12,
    "start_time": "2023-07-13T22:40:13.839Z"
   },
   {
    "duration": 18,
    "start_time": "2023-07-13T22:40:23.031Z"
   },
   {
    "duration": 24,
    "start_time": "2023-07-13T22:40:32.710Z"
   },
   {
    "duration": 21,
    "start_time": "2023-07-13T22:40:39.222Z"
   },
   {
    "duration": 12,
    "start_time": "2023-07-13T22:40:45.526Z"
   },
   {
    "duration": 21,
    "start_time": "2023-07-13T22:40:58.200Z"
   },
   {
    "duration": 1177,
    "start_time": "2023-07-13T22:41:08.644Z"
   },
   {
    "duration": 287,
    "start_time": "2023-07-13T22:41:09.823Z"
   },
   {
    "duration": 43,
    "start_time": "2023-07-13T22:41:10.112Z"
   },
   {
    "duration": 19,
    "start_time": "2023-07-13T22:41:10.158Z"
   },
   {
    "duration": 52,
    "start_time": "2023-07-13T22:41:10.179Z"
   },
   {
    "duration": 1465,
    "start_time": "2023-07-13T22:41:10.232Z"
   },
   {
    "duration": 4,
    "start_time": "2023-07-13T22:41:11.698Z"
   },
   {
    "duration": 5,
    "start_time": "2023-07-13T22:41:11.704Z"
   },
   {
    "duration": 17,
    "start_time": "2023-07-13T22:41:11.711Z"
   },
   {
    "duration": 5,
    "start_time": "2023-07-13T22:41:11.731Z"
   },
   {
    "duration": 5,
    "start_time": "2023-07-13T22:41:11.737Z"
   },
   {
    "duration": 7,
    "start_time": "2023-07-13T22:41:11.743Z"
   },
   {
    "duration": 17,
    "start_time": "2023-07-13T22:41:11.751Z"
   },
   {
    "duration": 5,
    "start_time": "2023-07-13T22:41:11.770Z"
   },
   {
    "duration": 6,
    "start_time": "2023-07-13T22:41:11.776Z"
   },
   {
    "duration": 4,
    "start_time": "2023-07-13T22:41:11.784Z"
   },
   {
    "duration": 6,
    "start_time": "2023-07-13T22:41:11.790Z"
   },
   {
    "duration": 4,
    "start_time": "2023-07-13T22:41:11.798Z"
   },
   {
    "duration": 13,
    "start_time": "2023-07-13T22:41:11.804Z"
   },
   {
    "duration": 5,
    "start_time": "2023-07-13T22:41:11.819Z"
   },
   {
    "duration": 12,
    "start_time": "2023-07-13T22:41:11.825Z"
   },
   {
    "duration": 3,
    "start_time": "2023-07-13T22:41:11.838Z"
   },
   {
    "duration": 2,
    "start_time": "2023-07-13T22:41:11.868Z"
   },
   {
    "duration": 129,
    "start_time": "2023-07-13T22:41:11.872Z"
   },
   {
    "duration": 0,
    "start_time": "2023-07-13T22:41:12.003Z"
   },
   {
    "duration": 0,
    "start_time": "2023-07-13T22:41:12.004Z"
   },
   {
    "duration": 0,
    "start_time": "2023-07-13T22:41:12.005Z"
   },
   {
    "duration": 0,
    "start_time": "2023-07-13T22:41:12.006Z"
   },
   {
    "duration": 0,
    "start_time": "2023-07-13T22:41:12.007Z"
   },
   {
    "duration": 3,
    "start_time": "2023-07-13T22:41:22.209Z"
   },
   {
    "duration": 6,
    "start_time": "2023-07-13T22:41:22.850Z"
   },
   {
    "duration": 2,
    "start_time": "2023-07-13T22:41:23.004Z"
   },
   {
    "duration": 7,
    "start_time": "2023-07-13T22:41:23.486Z"
   },
   {
    "duration": 10,
    "start_time": "2023-07-13T22:41:25.605Z"
   },
   {
    "duration": 13,
    "start_time": "2023-07-13T22:41:31.158Z"
   },
   {
    "duration": 12,
    "start_time": "2023-07-13T22:41:32.651Z"
   },
   {
    "duration": 23,
    "start_time": "2023-07-13T22:41:33.260Z"
   },
   {
    "duration": 14,
    "start_time": "2023-07-13T22:46:01.224Z"
   },
   {
    "duration": 21,
    "start_time": "2023-07-13T22:46:02.208Z"
   },
   {
    "duration": 15,
    "start_time": "2023-07-13T22:46:02.750Z"
   },
   {
    "duration": 33,
    "start_time": "2023-07-13T22:46:16.582Z"
   },
   {
    "duration": 14,
    "start_time": "2023-07-13T22:46:16.882Z"
   },
   {
    "duration": 27,
    "start_time": "2023-07-13T22:46:17.312Z"
   },
   {
    "duration": 89,
    "start_time": "2023-07-13T22:46:34.667Z"
   },
   {
    "duration": 18,
    "start_time": "2023-07-13T22:46:34.853Z"
   },
   {
    "duration": 1256,
    "start_time": "2023-07-13T22:46:58.202Z"
   },
   {
    "duration": 302,
    "start_time": "2023-07-13T22:46:59.460Z"
   },
   {
    "duration": 44,
    "start_time": "2023-07-13T22:46:59.765Z"
   },
   {
    "duration": 22,
    "start_time": "2023-07-13T22:46:59.811Z"
   },
   {
    "duration": 14,
    "start_time": "2023-07-13T22:46:59.838Z"
   },
   {
    "duration": 1597,
    "start_time": "2023-07-13T22:46:59.854Z"
   },
   {
    "duration": 4,
    "start_time": "2023-07-13T22:47:01.453Z"
   },
   {
    "duration": 42,
    "start_time": "2023-07-13T22:47:01.459Z"
   },
   {
    "duration": 43,
    "start_time": "2023-07-13T22:47:01.503Z"
   },
   {
    "duration": 43,
    "start_time": "2023-07-13T22:47:01.548Z"
   },
   {
    "duration": 44,
    "start_time": "2023-07-13T22:47:01.593Z"
   },
   {
    "duration": 44,
    "start_time": "2023-07-13T22:47:01.639Z"
   },
   {
    "duration": 34,
    "start_time": "2023-07-13T22:47:01.685Z"
   },
   {
    "duration": 36,
    "start_time": "2023-07-13T22:47:01.722Z"
   },
   {
    "duration": 71,
    "start_time": "2023-07-13T22:47:01.760Z"
   },
   {
    "duration": 49,
    "start_time": "2023-07-13T22:47:01.833Z"
   },
   {
    "duration": 80,
    "start_time": "2023-07-13T22:47:01.884Z"
   },
   {
    "duration": 80,
    "start_time": "2023-07-13T22:47:01.967Z"
   },
   {
    "duration": 74,
    "start_time": "2023-07-13T22:47:02.049Z"
   },
   {
    "duration": 46,
    "start_time": "2023-07-13T22:47:02.125Z"
   },
   {
    "duration": 44,
    "start_time": "2023-07-13T22:47:02.173Z"
   },
   {
    "duration": 62,
    "start_time": "2023-07-13T22:47:02.220Z"
   },
   {
    "duration": 57,
    "start_time": "2023-07-13T22:47:02.283Z"
   },
   {
    "duration": 35,
    "start_time": "2023-07-13T22:47:02.342Z"
   },
   {
    "duration": 79,
    "start_time": "2023-07-13T22:47:02.379Z"
   },
   {
    "duration": 72,
    "start_time": "2023-07-13T22:47:02.460Z"
   },
   {
    "duration": 61,
    "start_time": "2023-07-13T22:47:02.534Z"
   },
   {
    "duration": 79,
    "start_time": "2023-07-13T22:47:02.597Z"
   },
   {
    "duration": 16,
    "start_time": "2023-07-13T22:47:32.996Z"
   },
   {
    "duration": 13,
    "start_time": "2023-07-13T22:47:33.346Z"
   },
   {
    "duration": 27,
    "start_time": "2023-07-13T22:47:34.621Z"
   },
   {
    "duration": 3,
    "start_time": "2023-07-13T22:47:53.467Z"
   },
   {
    "duration": 18,
    "start_time": "2023-07-13T22:48:43.620Z"
   },
   {
    "duration": 15,
    "start_time": "2023-07-13T22:48:44.124Z"
   },
   {
    "duration": 1299,
    "start_time": "2023-07-13T22:48:51.978Z"
   },
   {
    "duration": 299,
    "start_time": "2023-07-13T22:48:53.279Z"
   },
   {
    "duration": 43,
    "start_time": "2023-07-13T22:48:53.579Z"
   },
   {
    "duration": 17,
    "start_time": "2023-07-13T22:48:53.624Z"
   },
   {
    "duration": 19,
    "start_time": "2023-07-13T22:48:53.643Z"
   },
   {
    "duration": 1581,
    "start_time": "2023-07-13T22:48:53.664Z"
   },
   {
    "duration": 5,
    "start_time": "2023-07-13T22:48:55.246Z"
   },
   {
    "duration": 36,
    "start_time": "2023-07-13T22:48:55.252Z"
   },
   {
    "duration": 10,
    "start_time": "2023-07-13T22:48:55.290Z"
   },
   {
    "duration": 11,
    "start_time": "2023-07-13T22:48:55.303Z"
   },
   {
    "duration": 12,
    "start_time": "2023-07-13T22:48:55.316Z"
   },
   {
    "duration": 13,
    "start_time": "2023-07-13T22:48:55.330Z"
   },
   {
    "duration": 14,
    "start_time": "2023-07-13T22:48:55.345Z"
   },
   {
    "duration": 35,
    "start_time": "2023-07-13T22:48:55.361Z"
   },
   {
    "duration": 19,
    "start_time": "2023-07-13T22:48:55.398Z"
   },
   {
    "duration": 15,
    "start_time": "2023-07-13T22:48:55.419Z"
   },
   {
    "duration": 8,
    "start_time": "2023-07-13T22:48:55.435Z"
   },
   {
    "duration": 9,
    "start_time": "2023-07-13T22:48:55.445Z"
   },
   {
    "duration": 15,
    "start_time": "2023-07-13T22:48:55.456Z"
   },
   {
    "duration": 5,
    "start_time": "2023-07-13T22:48:55.473Z"
   },
   {
    "duration": 20,
    "start_time": "2023-07-13T22:48:55.480Z"
   },
   {
    "duration": 10,
    "start_time": "2023-07-13T22:48:55.502Z"
   },
   {
    "duration": 6,
    "start_time": "2023-07-13T22:48:55.514Z"
   },
   {
    "duration": 32,
    "start_time": "2023-07-13T22:48:55.522Z"
   },
   {
    "duration": 28,
    "start_time": "2023-07-13T22:48:55.555Z"
   },
   {
    "duration": 14,
    "start_time": "2023-07-13T22:48:55.584Z"
   },
   {
    "duration": 16,
    "start_time": "2023-07-13T22:48:55.600Z"
   },
   {
    "duration": 3,
    "start_time": "2023-07-13T22:48:55.620Z"
   },
   {
    "duration": 21,
    "start_time": "2023-07-13T22:48:55.625Z"
   },
   {
    "duration": 13,
    "start_time": "2023-07-13T22:48:55.648Z"
   },
   {
    "duration": 25,
    "start_time": "2023-07-13T22:48:58.173Z"
   },
   {
    "duration": 119,
    "start_time": "2023-07-13T22:52:11.109Z"
   },
   {
    "duration": 12,
    "start_time": "2023-07-13T22:52:11.459Z"
   },
   {
    "duration": 1329,
    "start_time": "2023-07-13T22:52:20.038Z"
   },
   {
    "duration": 302,
    "start_time": "2023-07-13T22:52:21.369Z"
   },
   {
    "duration": 43,
    "start_time": "2023-07-13T22:52:21.672Z"
   },
   {
    "duration": 20,
    "start_time": "2023-07-13T22:52:21.717Z"
   },
   {
    "duration": 13,
    "start_time": "2023-07-13T22:52:21.739Z"
   },
   {
    "duration": 1615,
    "start_time": "2023-07-13T22:52:21.754Z"
   },
   {
    "duration": 5,
    "start_time": "2023-07-13T22:52:23.371Z"
   },
   {
    "duration": 40,
    "start_time": "2023-07-13T22:52:23.377Z"
   },
   {
    "duration": 15,
    "start_time": "2023-07-13T22:52:23.419Z"
   },
   {
    "duration": 13,
    "start_time": "2023-07-13T22:52:23.438Z"
   },
   {
    "duration": 27,
    "start_time": "2023-07-13T22:52:23.453Z"
   },
   {
    "duration": 31,
    "start_time": "2023-07-13T22:52:23.482Z"
   },
   {
    "duration": 19,
    "start_time": "2023-07-13T22:52:23.515Z"
   },
   {
    "duration": 12,
    "start_time": "2023-07-13T22:52:23.536Z"
   },
   {
    "duration": 15,
    "start_time": "2023-07-13T22:52:23.550Z"
   },
   {
    "duration": 15,
    "start_time": "2023-07-13T22:52:23.567Z"
   },
   {
    "duration": 30,
    "start_time": "2023-07-13T22:52:23.584Z"
   },
   {
    "duration": 41,
    "start_time": "2023-07-13T22:52:23.616Z"
   },
   {
    "duration": 43,
    "start_time": "2023-07-13T22:52:23.658Z"
   },
   {
    "duration": 28,
    "start_time": "2023-07-13T22:52:23.703Z"
   },
   {
    "duration": 21,
    "start_time": "2023-07-13T22:52:23.733Z"
   },
   {
    "duration": 12,
    "start_time": "2023-07-13T22:52:23.756Z"
   },
   {
    "duration": 17,
    "start_time": "2023-07-13T22:52:23.770Z"
   },
   {
    "duration": 25,
    "start_time": "2023-07-13T22:52:23.789Z"
   },
   {
    "duration": 23,
    "start_time": "2023-07-13T22:52:23.816Z"
   },
   {
    "duration": 37,
    "start_time": "2023-07-13T22:52:23.841Z"
   },
   {
    "duration": 26,
    "start_time": "2023-07-13T22:52:23.880Z"
   },
   {
    "duration": 33,
    "start_time": "2023-07-13T22:52:23.910Z"
   },
   {
    "duration": 60,
    "start_time": "2023-07-13T22:52:23.946Z"
   },
   {
    "duration": 29,
    "start_time": "2023-07-13T22:52:24.008Z"
   },
   {
    "duration": 27,
    "start_time": "2023-07-13T22:52:33.312Z"
   },
   {
    "duration": 127,
    "start_time": "2023-07-13T22:54:14.870Z"
   },
   {
    "duration": 1335,
    "start_time": "2023-07-13T22:55:59.439Z"
   },
   {
    "duration": 305,
    "start_time": "2023-07-13T22:56:00.777Z"
   },
   {
    "duration": 44,
    "start_time": "2023-07-13T22:56:01.084Z"
   },
   {
    "duration": 19,
    "start_time": "2023-07-13T22:56:01.131Z"
   },
   {
    "duration": 33,
    "start_time": "2023-07-13T22:56:01.151Z"
   },
   {
    "duration": 1617,
    "start_time": "2023-07-13T22:56:01.186Z"
   },
   {
    "duration": 4,
    "start_time": "2023-07-13T22:56:02.805Z"
   },
   {
    "duration": 44,
    "start_time": "2023-07-13T22:56:02.810Z"
   },
   {
    "duration": 58,
    "start_time": "2023-07-13T22:56:02.856Z"
   },
   {
    "duration": 59,
    "start_time": "2023-07-13T22:56:02.917Z"
   },
   {
    "duration": 51,
    "start_time": "2023-07-13T22:56:02.978Z"
   },
   {
    "duration": 40,
    "start_time": "2023-07-13T22:56:03.031Z"
   },
   {
    "duration": 23,
    "start_time": "2023-07-13T22:56:03.072Z"
   },
   {
    "duration": 13,
    "start_time": "2023-07-13T22:56:03.096Z"
   },
   {
    "duration": 14,
    "start_time": "2023-07-13T22:56:03.111Z"
   },
   {
    "duration": 13,
    "start_time": "2023-07-13T22:56:03.128Z"
   },
   {
    "duration": 20,
    "start_time": "2023-07-13T22:56:03.143Z"
   },
   {
    "duration": 26,
    "start_time": "2023-07-13T22:56:03.165Z"
   },
   {
    "duration": 24,
    "start_time": "2023-07-13T22:56:03.193Z"
   },
   {
    "duration": 6,
    "start_time": "2023-07-13T22:56:03.219Z"
   },
   {
    "duration": 18,
    "start_time": "2023-07-13T22:56:03.227Z"
   },
   {
    "duration": 26,
    "start_time": "2023-07-13T22:56:03.247Z"
   },
   {
    "duration": 13,
    "start_time": "2023-07-13T22:56:03.275Z"
   },
   {
    "duration": 30,
    "start_time": "2023-07-13T22:56:03.290Z"
   },
   {
    "duration": 12,
    "start_time": "2023-07-13T22:56:03.323Z"
   },
   {
    "duration": 23,
    "start_time": "2023-07-13T22:56:03.337Z"
   },
   {
    "duration": 14,
    "start_time": "2023-07-13T22:56:03.362Z"
   },
   {
    "duration": 11,
    "start_time": "2023-07-13T22:56:03.380Z"
   },
   {
    "duration": 148,
    "start_time": "2023-07-13T22:56:03.393Z"
   },
   {
    "duration": 14,
    "start_time": "2023-07-13T22:57:54.449Z"
   },
   {
    "duration": 12,
    "start_time": "2023-07-13T22:57:55.666Z"
   },
   {
    "duration": 28,
    "start_time": "2023-07-13T22:57:57.914Z"
   },
   {
    "duration": 3,
    "start_time": "2023-07-13T22:59:27.373Z"
   },
   {
    "duration": 11,
    "start_time": "2023-07-13T22:59:27.378Z"
   },
   {
    "duration": 49,
    "start_time": "2023-07-13T22:59:27.391Z"
   },
   {
    "duration": 14,
    "start_time": "2023-07-13T22:59:27.443Z"
   },
   {
    "duration": 21,
    "start_time": "2023-07-13T22:59:27.459Z"
   },
   {
    "duration": 1468,
    "start_time": "2023-07-13T22:59:27.482Z"
   },
   {
    "duration": 4,
    "start_time": "2023-07-13T22:59:28.952Z"
   },
   {
    "duration": 21,
    "start_time": "2023-07-13T22:59:28.968Z"
   },
   {
    "duration": 22,
    "start_time": "2023-07-13T22:59:28.992Z"
   },
   {
    "duration": 15,
    "start_time": "2023-07-13T22:59:29.016Z"
   },
   {
    "duration": 5,
    "start_time": "2023-07-13T22:59:29.033Z"
   },
   {
    "duration": 8,
    "start_time": "2023-07-13T22:59:29.039Z"
   },
   {
    "duration": 5,
    "start_time": "2023-07-13T22:59:29.048Z"
   },
   {
    "duration": 10,
    "start_time": "2023-07-13T22:59:29.054Z"
   },
   {
    "duration": 13,
    "start_time": "2023-07-13T22:59:29.066Z"
   },
   {
    "duration": 11,
    "start_time": "2023-07-13T22:59:29.081Z"
   },
   {
    "duration": 5,
    "start_time": "2023-07-13T22:59:29.094Z"
   },
   {
    "duration": 9,
    "start_time": "2023-07-13T22:59:29.101Z"
   },
   {
    "duration": 13,
    "start_time": "2023-07-13T22:59:29.112Z"
   },
   {
    "duration": 207,
    "start_time": "2023-07-13T22:59:29.127Z"
   },
   {
    "duration": 24,
    "start_time": "2023-07-13T22:59:29.336Z"
   },
   {
    "duration": 11,
    "start_time": "2023-07-13T22:59:29.362Z"
   },
   {
    "duration": 15,
    "start_time": "2023-07-13T22:59:29.375Z"
   },
   {
    "duration": 8,
    "start_time": "2023-07-13T22:59:29.393Z"
   },
   {
    "duration": 11,
    "start_time": "2023-07-13T22:59:29.403Z"
   },
   {
    "duration": 3,
    "start_time": "2023-07-13T22:59:29.416Z"
   },
   {
    "duration": 28,
    "start_time": "2023-07-13T22:59:29.421Z"
   },
   {
    "duration": 3,
    "start_time": "2023-07-13T22:59:29.451Z"
   },
   {
    "duration": 16,
    "start_time": "2023-07-13T22:59:29.455Z"
   },
   {
    "duration": 12,
    "start_time": "2023-07-13T22:59:29.473Z"
   },
   {
    "duration": 25,
    "start_time": "2023-07-13T22:59:32.995Z"
   },
   {
    "duration": 1248,
    "start_time": "2023-07-13T22:59:40.395Z"
   },
   {
    "duration": 291,
    "start_time": "2023-07-13T22:59:41.645Z"
   },
   {
    "duration": 43,
    "start_time": "2023-07-13T22:59:41.937Z"
   },
   {
    "duration": 20,
    "start_time": "2023-07-13T22:59:41.982Z"
   },
   {
    "duration": 16,
    "start_time": "2023-07-13T22:59:42.004Z"
   },
   {
    "duration": 1609,
    "start_time": "2023-07-13T22:59:42.022Z"
   },
   {
    "duration": 6,
    "start_time": "2023-07-13T22:59:43.632Z"
   },
   {
    "duration": 7,
    "start_time": "2023-07-13T22:59:43.640Z"
   },
   {
    "duration": 30,
    "start_time": "2023-07-13T22:59:43.649Z"
   },
   {
    "duration": 18,
    "start_time": "2023-07-13T22:59:43.682Z"
   },
   {
    "duration": 5,
    "start_time": "2023-07-13T22:59:43.702Z"
   },
   {
    "duration": 8,
    "start_time": "2023-07-13T22:59:43.708Z"
   },
   {
    "duration": 7,
    "start_time": "2023-07-13T22:59:43.718Z"
   },
   {
    "duration": 9,
    "start_time": "2023-07-13T22:59:43.727Z"
   },
   {
    "duration": 4,
    "start_time": "2023-07-13T22:59:43.738Z"
   },
   {
    "duration": 4,
    "start_time": "2023-07-13T22:59:43.744Z"
   },
   {
    "duration": 8,
    "start_time": "2023-07-13T22:59:43.750Z"
   },
   {
    "duration": 7,
    "start_time": "2023-07-13T22:59:43.760Z"
   },
   {
    "duration": 13,
    "start_time": "2023-07-13T22:59:43.768Z"
   },
   {
    "duration": 5,
    "start_time": "2023-07-13T22:59:43.783Z"
   },
   {
    "duration": 12,
    "start_time": "2023-07-13T22:59:43.789Z"
   },
   {
    "duration": 2,
    "start_time": "2023-07-13T22:59:43.803Z"
   },
   {
    "duration": 5,
    "start_time": "2023-07-13T22:59:43.806Z"
   },
   {
    "duration": 4,
    "start_time": "2023-07-13T22:59:43.813Z"
   },
   {
    "duration": 8,
    "start_time": "2023-07-13T22:59:43.818Z"
   },
   {
    "duration": 3,
    "start_time": "2023-07-13T22:59:43.827Z"
   },
   {
    "duration": 38,
    "start_time": "2023-07-13T22:59:43.832Z"
   },
   {
    "duration": 2,
    "start_time": "2023-07-13T22:59:43.874Z"
   },
   {
    "duration": 27,
    "start_time": "2023-07-13T22:59:43.878Z"
   },
   {
    "duration": 15,
    "start_time": "2023-07-13T22:59:43.907Z"
   },
   {
    "duration": 27,
    "start_time": "2023-07-13T22:59:45.479Z"
   },
   {
    "duration": 131,
    "start_time": "2023-07-13T23:00:25.789Z"
   },
   {
    "duration": 25,
    "start_time": "2023-07-13T23:01:03.667Z"
   },
   {
    "duration": 22,
    "start_time": "2023-07-13T23:01:38.780Z"
   },
   {
    "duration": 23,
    "start_time": "2023-07-13T23:01:59.537Z"
   },
   {
    "duration": 7,
    "start_time": "2023-07-13T23:05:45.320Z"
   },
   {
    "duration": 13,
    "start_time": "2023-07-13T23:06:16.739Z"
   },
   {
    "duration": 8,
    "start_time": "2023-07-13T23:06:23.438Z"
   },
   {
    "duration": 8,
    "start_time": "2023-07-13T23:06:33.098Z"
   },
   {
    "duration": 15,
    "start_time": "2023-07-13T23:06:48.653Z"
   },
   {
    "duration": 14,
    "start_time": "2023-07-13T23:06:50.280Z"
   },
   {
    "duration": 12,
    "start_time": "2023-07-13T23:06:50.616Z"
   },
   {
    "duration": 25,
    "start_time": "2023-07-13T23:06:51.343Z"
   },
   {
    "duration": 14,
    "start_time": "2023-07-13T23:08:02.971Z"
   },
   {
    "duration": 13,
    "start_time": "2023-07-13T23:08:03.501Z"
   },
   {
    "duration": 20,
    "start_time": "2023-07-13T23:08:03.656Z"
   },
   {
    "duration": 18,
    "start_time": "2023-07-13T23:08:23.969Z"
   },
   {
    "duration": 17,
    "start_time": "2023-07-13T23:08:24.759Z"
   },
   {
    "duration": 19,
    "start_time": "2023-07-13T23:08:25.093Z"
   },
   {
    "duration": 16,
    "start_time": "2023-07-13T23:08:32.726Z"
   },
   {
    "duration": 1290,
    "start_time": "2023-07-13T23:08:43.554Z"
   },
   {
    "duration": 311,
    "start_time": "2023-07-13T23:08:44.846Z"
   },
   {
    "duration": 44,
    "start_time": "2023-07-13T23:08:45.159Z"
   },
   {
    "duration": 20,
    "start_time": "2023-07-13T23:08:45.204Z"
   },
   {
    "duration": 14,
    "start_time": "2023-07-13T23:08:45.229Z"
   },
   {
    "duration": 1582,
    "start_time": "2023-07-13T23:08:45.245Z"
   },
   {
    "duration": 5,
    "start_time": "2023-07-13T23:08:46.829Z"
   },
   {
    "duration": 28,
    "start_time": "2023-07-13T23:08:46.836Z"
   },
   {
    "duration": 9,
    "start_time": "2023-07-13T23:08:46.866Z"
   },
   {
    "duration": 24,
    "start_time": "2023-07-13T23:08:46.877Z"
   },
   {
    "duration": 25,
    "start_time": "2023-07-13T23:08:46.903Z"
   },
   {
    "duration": 12,
    "start_time": "2023-07-13T23:08:46.930Z"
   },
   {
    "duration": 22,
    "start_time": "2023-07-13T23:08:46.944Z"
   },
   {
    "duration": 10,
    "start_time": "2023-07-13T23:08:46.969Z"
   },
   {
    "duration": 24,
    "start_time": "2023-07-13T23:08:46.981Z"
   },
   {
    "duration": 26,
    "start_time": "2023-07-13T23:08:47.007Z"
   },
   {
    "duration": 11,
    "start_time": "2023-07-13T23:08:47.035Z"
   },
   {
    "duration": 38,
    "start_time": "2023-07-13T23:08:47.048Z"
   },
   {
    "duration": 19,
    "start_time": "2023-07-13T23:08:47.088Z"
   },
   {
    "duration": 16,
    "start_time": "2023-07-13T23:08:47.109Z"
   },
   {
    "duration": 30,
    "start_time": "2023-07-13T23:08:47.126Z"
   },
   {
    "duration": 14,
    "start_time": "2023-07-13T23:08:47.158Z"
   },
   {
    "duration": 22,
    "start_time": "2023-07-13T23:08:47.173Z"
   },
   {
    "duration": 10,
    "start_time": "2023-07-13T23:08:47.197Z"
   },
   {
    "duration": 34,
    "start_time": "2023-07-13T23:08:47.209Z"
   },
   {
    "duration": 23,
    "start_time": "2023-07-13T23:08:47.245Z"
   },
   {
    "duration": 10,
    "start_time": "2023-07-13T23:08:47.270Z"
   },
   {
    "duration": 8,
    "start_time": "2023-07-13T23:08:47.282Z"
   },
   {
    "duration": 3,
    "start_time": "2023-07-13T23:08:47.291Z"
   },
   {
    "duration": 20,
    "start_time": "2023-07-13T23:08:47.295Z"
   },
   {
    "duration": 15,
    "start_time": "2023-07-13T23:08:48.226Z"
   },
   {
    "duration": 117,
    "start_time": "2023-07-13T23:09:12.390Z"
   },
   {
    "duration": 3,
    "start_time": "2023-07-13T23:09:19.089Z"
   },
   {
    "duration": 15,
    "start_time": "2023-07-13T23:09:19.094Z"
   },
   {
    "duration": 58,
    "start_time": "2023-07-13T23:09:19.111Z"
   },
   {
    "duration": 14,
    "start_time": "2023-07-13T23:09:19.171Z"
   },
   {
    "duration": 19,
    "start_time": "2023-07-13T23:09:19.187Z"
   },
   {
    "duration": 1612,
    "start_time": "2023-07-13T23:09:19.208Z"
   },
   {
    "duration": 6,
    "start_time": "2023-07-13T23:09:20.822Z"
   },
   {
    "duration": 25,
    "start_time": "2023-07-13T23:09:20.829Z"
   },
   {
    "duration": 18,
    "start_time": "2023-07-13T23:09:20.857Z"
   },
   {
    "duration": 24,
    "start_time": "2023-07-13T23:09:20.877Z"
   },
   {
    "duration": 11,
    "start_time": "2023-07-13T23:09:20.903Z"
   },
   {
    "duration": 22,
    "start_time": "2023-07-13T23:09:20.916Z"
   },
   {
    "duration": 16,
    "start_time": "2023-07-13T23:09:20.940Z"
   },
   {
    "duration": 14,
    "start_time": "2023-07-13T23:09:20.958Z"
   },
   {
    "duration": 16,
    "start_time": "2023-07-13T23:09:20.974Z"
   },
   {
    "duration": 7,
    "start_time": "2023-07-13T23:09:20.992Z"
   },
   {
    "duration": 16,
    "start_time": "2023-07-13T23:09:21.000Z"
   },
   {
    "duration": 23,
    "start_time": "2023-07-13T23:09:21.018Z"
   },
   {
    "duration": 13,
    "start_time": "2023-07-13T23:09:21.042Z"
   },
   {
    "duration": 57,
    "start_time": "2023-07-13T23:09:21.056Z"
   },
   {
    "duration": 24,
    "start_time": "2023-07-13T23:09:21.115Z"
   },
   {
    "duration": 12,
    "start_time": "2023-07-13T23:09:21.140Z"
   },
   {
    "duration": 35,
    "start_time": "2023-07-13T23:09:21.154Z"
   },
   {
    "duration": 26,
    "start_time": "2023-07-13T23:09:21.193Z"
   },
   {
    "duration": 30,
    "start_time": "2023-07-13T23:09:21.221Z"
   },
   {
    "duration": 7,
    "start_time": "2023-07-13T23:09:21.253Z"
   },
   {
    "duration": 30,
    "start_time": "2023-07-13T23:09:21.262Z"
   },
   {
    "duration": 38,
    "start_time": "2023-07-13T23:09:21.294Z"
   },
   {
    "duration": 8,
    "start_time": "2023-07-13T23:09:21.334Z"
   },
   {
    "duration": 25,
    "start_time": "2023-07-13T23:09:21.343Z"
   },
   {
    "duration": 1218,
    "start_time": "2023-07-13T23:09:49.337Z"
   },
   {
    "duration": 306,
    "start_time": "2023-07-13T23:09:50.557Z"
   },
   {
    "duration": 42,
    "start_time": "2023-07-13T23:09:50.865Z"
   },
   {
    "duration": 21,
    "start_time": "2023-07-13T23:09:50.909Z"
   },
   {
    "duration": 15,
    "start_time": "2023-07-13T23:09:50.932Z"
   },
   {
    "duration": 1535,
    "start_time": "2023-07-13T23:09:50.949Z"
   },
   {
    "duration": 5,
    "start_time": "2023-07-13T23:09:52.487Z"
   },
   {
    "duration": 25,
    "start_time": "2023-07-13T23:09:52.495Z"
   },
   {
    "duration": 14,
    "start_time": "2023-07-13T23:09:52.521Z"
   },
   {
    "duration": 9,
    "start_time": "2023-07-13T23:09:52.539Z"
   },
   {
    "duration": 18,
    "start_time": "2023-07-13T23:09:52.550Z"
   },
   {
    "duration": 9,
    "start_time": "2023-07-13T23:09:52.570Z"
   },
   {
    "duration": 19,
    "start_time": "2023-07-13T23:09:52.581Z"
   },
   {
    "duration": 21,
    "start_time": "2023-07-13T23:09:52.602Z"
   },
   {
    "duration": 27,
    "start_time": "2023-07-13T23:09:52.625Z"
   },
   {
    "duration": 15,
    "start_time": "2023-07-13T23:09:52.654Z"
   },
   {
    "duration": 15,
    "start_time": "2023-07-13T23:09:52.671Z"
   },
   {
    "duration": 22,
    "start_time": "2023-07-13T23:09:52.688Z"
   },
   {
    "duration": 28,
    "start_time": "2023-07-13T23:09:52.711Z"
   },
   {
    "duration": 17,
    "start_time": "2023-07-13T23:09:52.741Z"
   },
   {
    "duration": 7,
    "start_time": "2023-07-13T23:09:52.761Z"
   },
   {
    "duration": 15,
    "start_time": "2023-07-13T23:09:52.770Z"
   },
   {
    "duration": 10,
    "start_time": "2023-07-13T23:09:52.787Z"
   },
   {
    "duration": 15,
    "start_time": "2023-07-13T23:09:52.799Z"
   },
   {
    "duration": 30,
    "start_time": "2023-07-13T23:09:52.816Z"
   },
   {
    "duration": 12,
    "start_time": "2023-07-13T23:09:52.849Z"
   },
   {
    "duration": 14,
    "start_time": "2023-07-13T23:09:52.863Z"
   },
   {
    "duration": 13,
    "start_time": "2023-07-13T23:09:52.880Z"
   },
   {
    "duration": 8,
    "start_time": "2023-07-13T23:09:52.894Z"
   },
   {
    "duration": 25,
    "start_time": "2023-07-13T23:09:52.904Z"
   },
   {
    "duration": 7,
    "start_time": "2023-07-13T23:09:52.931Z"
   },
   {
    "duration": 20,
    "start_time": "2023-07-13T23:09:56.387Z"
   },
   {
    "duration": 132,
    "start_time": "2023-07-13T23:11:03.195Z"
   },
   {
    "duration": 15,
    "start_time": "2023-07-13T23:11:29.296Z"
   },
   {
    "duration": 1224,
    "start_time": "2023-07-13T23:11:36.228Z"
   },
   {
    "duration": 309,
    "start_time": "2023-07-13T23:11:37.454Z"
   },
   {
    "duration": 42,
    "start_time": "2023-07-13T23:11:37.765Z"
   },
   {
    "duration": 21,
    "start_time": "2023-07-13T23:11:37.810Z"
   },
   {
    "duration": 15,
    "start_time": "2023-07-13T23:11:37.833Z"
   },
   {
    "duration": 1539,
    "start_time": "2023-07-13T23:11:37.849Z"
   },
   {
    "duration": 5,
    "start_time": "2023-07-13T23:11:39.390Z"
   },
   {
    "duration": 18,
    "start_time": "2023-07-13T23:11:39.397Z"
   },
   {
    "duration": 9,
    "start_time": "2023-07-13T23:11:39.416Z"
   },
   {
    "duration": 17,
    "start_time": "2023-07-13T23:11:39.427Z"
   },
   {
    "duration": 21,
    "start_time": "2023-07-13T23:11:39.445Z"
   },
   {
    "duration": 7,
    "start_time": "2023-07-13T23:11:39.468Z"
   },
   {
    "duration": 13,
    "start_time": "2023-07-13T23:11:39.478Z"
   },
   {
    "duration": 12,
    "start_time": "2023-07-13T23:11:39.493Z"
   },
   {
    "duration": 5,
    "start_time": "2023-07-13T23:11:39.507Z"
   },
   {
    "duration": 7,
    "start_time": "2023-07-13T23:11:39.513Z"
   },
   {
    "duration": 9,
    "start_time": "2023-07-13T23:11:39.522Z"
   },
   {
    "duration": 14,
    "start_time": "2023-07-13T23:11:39.533Z"
   },
   {
    "duration": 24,
    "start_time": "2023-07-13T23:11:39.550Z"
   },
   {
    "duration": 5,
    "start_time": "2023-07-13T23:11:39.576Z"
   },
   {
    "duration": 8,
    "start_time": "2023-07-13T23:11:39.583Z"
   },
   {
    "duration": 4,
    "start_time": "2023-07-13T23:11:39.593Z"
   },
   {
    "duration": 7,
    "start_time": "2023-07-13T23:11:39.599Z"
   },
   {
    "duration": 12,
    "start_time": "2023-07-13T23:11:39.607Z"
   },
   {
    "duration": 24,
    "start_time": "2023-07-13T23:11:39.621Z"
   },
   {
    "duration": 6,
    "start_time": "2023-07-13T23:11:39.647Z"
   },
   {
    "duration": 13,
    "start_time": "2023-07-13T23:11:39.654Z"
   },
   {
    "duration": 8,
    "start_time": "2023-07-13T23:11:39.669Z"
   },
   {
    "duration": 7,
    "start_time": "2023-07-13T23:11:39.679Z"
   },
   {
    "duration": 137,
    "start_time": "2023-07-13T23:11:39.688Z"
   },
   {
    "duration": 17,
    "start_time": "2023-07-13T23:11:55.933Z"
   },
   {
    "duration": 12,
    "start_time": "2023-07-13T23:12:22.290Z"
   },
   {
    "duration": 13,
    "start_time": "2023-07-13T23:12:26.337Z"
   },
   {
    "duration": 1309,
    "start_time": "2023-07-13T23:13:34.838Z"
   },
   {
    "duration": 298,
    "start_time": "2023-07-13T23:13:36.149Z"
   },
   {
    "duration": 43,
    "start_time": "2023-07-13T23:13:36.449Z"
   },
   {
    "duration": 18,
    "start_time": "2023-07-13T23:13:36.494Z"
   },
   {
    "duration": 25,
    "start_time": "2023-07-13T23:13:36.516Z"
   },
   {
    "duration": 1557,
    "start_time": "2023-07-13T23:13:36.542Z"
   },
   {
    "duration": 4,
    "start_time": "2023-07-13T23:13:38.100Z"
   },
   {
    "duration": 15,
    "start_time": "2023-07-13T23:13:38.106Z"
   },
   {
    "duration": 17,
    "start_time": "2023-07-13T23:13:38.123Z"
   },
   {
    "duration": 59,
    "start_time": "2023-07-13T23:13:38.142Z"
   },
   {
    "duration": 9,
    "start_time": "2023-07-13T23:13:38.203Z"
   },
   {
    "duration": 13,
    "start_time": "2023-07-13T23:13:38.213Z"
   },
   {
    "duration": 20,
    "start_time": "2023-07-13T23:13:38.227Z"
   },
   {
    "duration": 15,
    "start_time": "2023-07-13T23:13:38.250Z"
   },
   {
    "duration": 34,
    "start_time": "2023-07-13T23:13:38.267Z"
   },
   {
    "duration": 20,
    "start_time": "2023-07-13T23:13:38.303Z"
   },
   {
    "duration": 27,
    "start_time": "2023-07-13T23:13:38.325Z"
   },
   {
    "duration": 6,
    "start_time": "2023-07-13T23:13:38.354Z"
   },
   {
    "duration": 23,
    "start_time": "2023-07-13T23:13:38.361Z"
   },
   {
    "duration": 5,
    "start_time": "2023-07-13T23:13:38.386Z"
   },
   {
    "duration": 9,
    "start_time": "2023-07-13T23:13:38.392Z"
   },
   {
    "duration": 4,
    "start_time": "2023-07-13T23:13:38.403Z"
   },
   {
    "duration": 9,
    "start_time": "2023-07-13T23:13:38.409Z"
   },
   {
    "duration": 10,
    "start_time": "2023-07-13T23:13:38.420Z"
   },
   {
    "duration": 17,
    "start_time": "2023-07-13T23:13:38.432Z"
   },
   {
    "duration": 15,
    "start_time": "2023-07-13T23:13:38.451Z"
   },
   {
    "duration": 9,
    "start_time": "2023-07-13T23:13:38.468Z"
   },
   {
    "duration": 17,
    "start_time": "2023-07-13T23:13:38.478Z"
   },
   {
    "duration": 3,
    "start_time": "2023-07-13T23:13:38.496Z"
   },
   {
    "duration": 17,
    "start_time": "2023-07-13T23:13:38.500Z"
   },
   {
    "duration": 25,
    "start_time": "2023-07-13T23:13:38.519Z"
   },
   {
    "duration": 19,
    "start_time": "2023-07-13T23:13:55.685Z"
   },
   {
    "duration": 7,
    "start_time": "2023-07-13T23:14:53.797Z"
   },
   {
    "duration": 9,
    "start_time": "2023-07-13T23:14:53.926Z"
   },
   {
    "duration": 7,
    "start_time": "2023-07-13T23:14:56.586Z"
   },
   {
    "duration": 5,
    "start_time": "2023-07-13T23:15:01.155Z"
   },
   {
    "duration": 124,
    "start_time": "2023-07-13T23:22:35.547Z"
   },
   {
    "duration": 19,
    "start_time": "2023-07-13T23:22:56.694Z"
   },
   {
    "duration": 17,
    "start_time": "2023-07-13T23:23:22.853Z"
   },
   {
    "duration": 4,
    "start_time": "2023-07-13T23:23:46.363Z"
   },
   {
    "duration": 3,
    "start_time": "2023-07-13T23:26:46.149Z"
   },
   {
    "duration": 44,
    "start_time": "2023-07-13T23:28:09.690Z"
   },
   {
    "duration": 15,
    "start_time": "2023-07-13T23:29:17.417Z"
   },
   {
    "duration": 169,
    "start_time": "2023-07-13T23:29:39.371Z"
   },
   {
    "duration": 22,
    "start_time": "2023-07-13T23:29:45.625Z"
   },
   {
    "duration": 14,
    "start_time": "2023-07-13T23:29:46.039Z"
   },
   {
    "duration": 18,
    "start_time": "2023-07-13T23:30:29.501Z"
   },
   {
    "duration": 10,
    "start_time": "2023-07-13T23:30:49.593Z"
   },
   {
    "duration": 9,
    "start_time": "2023-07-13T23:31:14.579Z"
   },
   {
    "duration": 10,
    "start_time": "2023-07-13T23:32:00.120Z"
   },
   {
    "duration": 8,
    "start_time": "2023-07-13T23:33:46.969Z"
   },
   {
    "duration": 4,
    "start_time": "2023-07-13T23:33:54.749Z"
   },
   {
    "duration": 8,
    "start_time": "2023-07-13T23:33:56.523Z"
   },
   {
    "duration": 19,
    "start_time": "2023-07-13T23:34:22.926Z"
   },
   {
    "duration": 1299,
    "start_time": "2023-07-13T23:34:31.192Z"
   },
   {
    "duration": 298,
    "start_time": "2023-07-13T23:34:32.493Z"
   },
   {
    "duration": 45,
    "start_time": "2023-07-13T23:34:32.793Z"
   },
   {
    "duration": 22,
    "start_time": "2023-07-13T23:34:32.840Z"
   },
   {
    "duration": 29,
    "start_time": "2023-07-13T23:34:32.864Z"
   },
   {
    "duration": 1570,
    "start_time": "2023-07-13T23:34:32.894Z"
   },
   {
    "duration": 5,
    "start_time": "2023-07-13T23:34:34.467Z"
   },
   {
    "duration": 14,
    "start_time": "2023-07-13T23:34:34.473Z"
   },
   {
    "duration": 7,
    "start_time": "2023-07-13T23:34:34.488Z"
   },
   {
    "duration": 9,
    "start_time": "2023-07-13T23:34:34.498Z"
   },
   {
    "duration": 10,
    "start_time": "2023-07-13T23:34:34.509Z"
   },
   {
    "duration": 16,
    "start_time": "2023-07-13T23:34:34.521Z"
   },
   {
    "duration": 6,
    "start_time": "2023-07-13T23:34:34.539Z"
   },
   {
    "duration": 10,
    "start_time": "2023-07-13T23:34:34.546Z"
   },
   {
    "duration": 6,
    "start_time": "2023-07-13T23:34:34.557Z"
   },
   {
    "duration": 31,
    "start_time": "2023-07-13T23:34:34.567Z"
   },
   {
    "duration": 13,
    "start_time": "2023-07-13T23:34:34.600Z"
   },
   {
    "duration": 9,
    "start_time": "2023-07-13T23:34:34.614Z"
   },
   {
    "duration": 12,
    "start_time": "2023-07-13T23:34:34.625Z"
   },
   {
    "duration": 4,
    "start_time": "2023-07-13T23:34:34.639Z"
   },
   {
    "duration": 7,
    "start_time": "2023-07-13T23:34:34.644Z"
   },
   {
    "duration": 3,
    "start_time": "2023-07-13T23:34:34.652Z"
   },
   {
    "duration": 4,
    "start_time": "2023-07-13T23:34:34.657Z"
   },
   {
    "duration": 5,
    "start_time": "2023-07-13T23:34:34.663Z"
   },
   {
    "duration": 11,
    "start_time": "2023-07-13T23:34:34.669Z"
   },
   {
    "duration": 3,
    "start_time": "2023-07-13T23:34:34.681Z"
   },
   {
    "duration": 19,
    "start_time": "2023-07-13T23:34:34.686Z"
   },
   {
    "duration": 7,
    "start_time": "2023-07-13T23:34:34.709Z"
   },
   {
    "duration": 7,
    "start_time": "2023-07-13T23:34:34.717Z"
   },
   {
    "duration": 5,
    "start_time": "2023-07-13T23:34:34.726Z"
   },
   {
    "duration": 16,
    "start_time": "2023-07-13T23:34:34.732Z"
   },
   {
    "duration": 20,
    "start_time": "2023-07-13T23:34:34.750Z"
   },
   {
    "duration": 11,
    "start_time": "2023-07-13T23:34:34.773Z"
   },
   {
    "duration": 8,
    "start_time": "2023-07-13T23:34:34.785Z"
   },
   {
    "duration": 5,
    "start_time": "2023-07-13T23:34:34.795Z"
   },
   {
    "duration": 7,
    "start_time": "2023-07-13T23:34:34.801Z"
   },
   {
    "duration": 41,
    "start_time": "2023-07-13T23:34:36.661Z"
   },
   {
    "duration": 164,
    "start_time": "2023-07-13T23:34:39.106Z"
   },
   {
    "duration": 835,
    "start_time": "2023-07-13T23:34:41.333Z"
   },
   {
    "duration": 196,
    "start_time": "2023-07-13T23:34:42.172Z"
   },
   {
    "duration": 93,
    "start_time": "2023-07-13T23:36:07.984Z"
   },
   {
    "duration": 89,
    "start_time": "2023-07-13T23:36:21.511Z"
   },
   {
    "duration": 8,
    "start_time": "2023-07-13T23:38:22.994Z"
   },
   {
    "duration": 247,
    "start_time": "2023-07-13T23:38:34.950Z"
   },
   {
    "duration": 1268,
    "start_time": "2023-07-13T23:43:32.494Z"
   },
   {
    "duration": 310,
    "start_time": "2023-07-13T23:43:33.764Z"
   },
   {
    "duration": 41,
    "start_time": "2023-07-13T23:43:34.076Z"
   },
   {
    "duration": 19,
    "start_time": "2023-07-13T23:43:34.120Z"
   },
   {
    "duration": 14,
    "start_time": "2023-07-13T23:43:34.141Z"
   },
   {
    "duration": 1536,
    "start_time": "2023-07-13T23:43:34.157Z"
   },
   {
    "duration": 4,
    "start_time": "2023-07-13T23:43:35.695Z"
   },
   {
    "duration": 9,
    "start_time": "2023-07-13T23:43:35.701Z"
   },
   {
    "duration": 16,
    "start_time": "2023-07-13T23:43:35.712Z"
   },
   {
    "duration": 11,
    "start_time": "2023-07-13T23:43:35.730Z"
   },
   {
    "duration": 8,
    "start_time": "2023-07-13T23:43:35.742Z"
   },
   {
    "duration": 16,
    "start_time": "2023-07-13T23:43:35.752Z"
   },
   {
    "duration": 4,
    "start_time": "2023-07-13T23:43:35.770Z"
   },
   {
    "duration": 11,
    "start_time": "2023-07-13T23:43:35.776Z"
   },
   {
    "duration": 6,
    "start_time": "2023-07-13T23:43:35.789Z"
   },
   {
    "duration": 10,
    "start_time": "2023-07-13T23:43:35.797Z"
   },
   {
    "duration": 12,
    "start_time": "2023-07-13T23:43:35.809Z"
   },
   {
    "duration": 13,
    "start_time": "2023-07-13T23:43:35.823Z"
   },
   {
    "duration": 32,
    "start_time": "2023-07-13T23:43:35.838Z"
   },
   {
    "duration": 8,
    "start_time": "2023-07-13T23:43:35.871Z"
   },
   {
    "duration": 15,
    "start_time": "2023-07-13T23:43:35.881Z"
   },
   {
    "duration": 103,
    "start_time": "2023-07-13T23:43:35.898Z"
   },
   {
    "duration": 0,
    "start_time": "2023-07-13T23:43:36.004Z"
   },
   {
    "duration": 0,
    "start_time": "2023-07-13T23:43:36.006Z"
   },
   {
    "duration": 0,
    "start_time": "2023-07-13T23:43:36.008Z"
   },
   {
    "duration": 0,
    "start_time": "2023-07-13T23:43:36.010Z"
   },
   {
    "duration": 0,
    "start_time": "2023-07-13T23:43:36.011Z"
   },
   {
    "duration": 0,
    "start_time": "2023-07-13T23:43:36.013Z"
   },
   {
    "duration": 0,
    "start_time": "2023-07-13T23:43:36.015Z"
   },
   {
    "duration": 0,
    "start_time": "2023-07-13T23:43:36.016Z"
   },
   {
    "duration": 0,
    "start_time": "2023-07-13T23:43:36.018Z"
   },
   {
    "duration": 0,
    "start_time": "2023-07-13T23:43:36.019Z"
   },
   {
    "duration": 0,
    "start_time": "2023-07-13T23:43:36.021Z"
   },
   {
    "duration": 0,
    "start_time": "2023-07-13T23:43:36.022Z"
   },
   {
    "duration": 0,
    "start_time": "2023-07-13T23:43:36.024Z"
   },
   {
    "duration": 0,
    "start_time": "2023-07-13T23:43:36.025Z"
   },
   {
    "duration": 0,
    "start_time": "2023-07-13T23:43:36.027Z"
   },
   {
    "duration": 0,
    "start_time": "2023-07-13T23:43:36.028Z"
   },
   {
    "duration": 0,
    "start_time": "2023-07-13T23:43:36.030Z"
   },
   {
    "duration": 117,
    "start_time": "2023-07-13T23:43:52.846Z"
   },
   {
    "duration": 14,
    "start_time": "2023-07-13T23:44:50.319Z"
   },
   {
    "duration": 13,
    "start_time": "2023-07-13T23:44:53.074Z"
   },
   {
    "duration": 12,
    "start_time": "2023-07-13T23:45:12.261Z"
   },
   {
    "duration": 4,
    "start_time": "2023-07-13T23:45:12.583Z"
   },
   {
    "duration": 6,
    "start_time": "2023-07-13T23:45:13.045Z"
   },
   {
    "duration": 2,
    "start_time": "2023-07-13T23:45:13.201Z"
   },
   {
    "duration": 2,
    "start_time": "2023-07-13T23:45:13.697Z"
   },
   {
    "duration": 2,
    "start_time": "2023-07-13T23:45:13.851Z"
   },
   {
    "duration": 10,
    "start_time": "2023-07-13T23:45:14.021Z"
   },
   {
    "duration": 2,
    "start_time": "2023-07-13T23:45:14.333Z"
   },
   {
    "duration": 2,
    "start_time": "2023-07-13T23:45:14.659Z"
   },
   {
    "duration": 3,
    "start_time": "2023-07-13T23:45:14.823Z"
   },
   {
    "duration": 2,
    "start_time": "2023-07-13T23:45:14.993Z"
   },
   {
    "duration": 3,
    "start_time": "2023-07-13T23:45:15.157Z"
   },
   {
    "duration": 2,
    "start_time": "2023-07-13T23:45:15.329Z"
   },
   {
    "duration": 4,
    "start_time": "2023-07-13T23:45:15.485Z"
   },
   {
    "duration": 3,
    "start_time": "2023-07-13T23:45:15.804Z"
   },
   {
    "duration": 18,
    "start_time": "2023-07-13T23:45:16.170Z"
   },
   {
    "duration": 4,
    "start_time": "2023-07-13T23:45:45.362Z"
   },
   {
    "duration": 43,
    "start_time": "2023-07-13T23:45:54.686Z"
   },
   {
    "duration": 19,
    "start_time": "2023-07-13T23:46:00.301Z"
   },
   {
    "duration": 179,
    "start_time": "2023-07-13T23:46:02.112Z"
   },
   {
    "duration": 61,
    "start_time": "2023-07-13T23:46:03.512Z"
   },
   {
    "duration": 11,
    "start_time": "2023-07-13T23:46:04.148Z"
   },
   {
    "duration": 128,
    "start_time": "2023-07-13T23:47:21.989Z"
   },
   {
    "duration": 12,
    "start_time": "2023-07-13T23:47:30.017Z"
   },
   {
    "duration": 11,
    "start_time": "2023-07-13T23:47:30.203Z"
   },
   {
    "duration": 123616,
    "start_time": "2023-07-13T23:47:34.480Z"
   },
   {
    "duration": 11090,
    "start_time": "2023-07-13T23:57:34.631Z"
   },
   {
    "duration": 322,
    "start_time": "2023-07-13T23:58:07.224Z"
   },
   {
    "duration": 402,
    "start_time": "2023-07-13T23:59:01.604Z"
   },
   {
    "duration": 179,
    "start_time": "2023-07-14T00:00:34.462Z"
   },
   {
    "duration": 319,
    "start_time": "2023-07-14T00:02:12.682Z"
   },
   {
    "duration": 397,
    "start_time": "2023-07-14T00:02:17.006Z"
   },
   {
    "duration": 11,
    "start_time": "2023-07-14T00:02:27.880Z"
   },
   {
    "duration": 11,
    "start_time": "2023-07-14T00:02:28.048Z"
   },
   {
    "duration": 321,
    "start_time": "2023-07-14T00:02:29.194Z"
   },
   {
    "duration": 396,
    "start_time": "2023-07-14T00:02:29.806Z"
   },
   {
    "duration": 89460,
    "start_time": "2023-07-14T00:02:38.975Z"
   },
   {
    "duration": 125934,
    "start_time": "2023-07-14T00:04:08.437Z"
   },
   {
    "duration": 53907,
    "start_time": "2023-07-14T00:06:14.373Z"
   },
   {
    "duration": 88,
    "start_time": "2023-07-14T00:09:07.281Z"
   },
   {
    "duration": 71,
    "start_time": "2023-07-14T00:09:23.096Z"
   },
   {
    "duration": 20,
    "start_time": "2023-07-14T00:09:28.777Z"
   },
   {
    "duration": 82,
    "start_time": "2023-07-14T00:09:51.587Z"
   },
   {
    "duration": 40,
    "start_time": "2023-07-14T00:09:51.927Z"
   },
   {
    "duration": 18,
    "start_time": "2023-07-14T00:09:52.406Z"
   },
   {
    "duration": 710,
    "start_time": "2023-07-14T00:12:27.903Z"
   },
   {
    "duration": 68,
    "start_time": "2023-07-14T00:12:28.615Z"
   },
   {
    "duration": 45,
    "start_time": "2023-07-14T00:12:45.636Z"
   },
   {
    "duration": 711,
    "start_time": "2023-07-14T00:12:47.906Z"
   },
   {
    "duration": 722,
    "start_time": "2023-07-14T00:12:49.033Z"
   },
   {
    "duration": 51,
    "start_time": "2023-07-14T00:12:49.757Z"
   },
   {
    "duration": 724,
    "start_time": "2023-07-14T00:13:45.525Z"
   },
   {
    "duration": 56,
    "start_time": "2023-07-14T00:13:46.251Z"
   },
   {
    "duration": 94,
    "start_time": "2023-07-14T00:13:48.879Z"
   },
   {
    "duration": 51,
    "start_time": "2023-07-14T00:13:49.068Z"
   },
   {
    "duration": 50,
    "start_time": "2023-07-14T00:13:49.230Z"
   },
   {
    "duration": 88,
    "start_time": "2023-07-14T00:13:49.396Z"
   },
   {
    "duration": 47,
    "start_time": "2023-07-14T00:13:49.555Z"
   },
   {
    "duration": 91,
    "start_time": "2023-07-14T00:15:24.150Z"
   },
   {
    "duration": 182,
    "start_time": "2023-07-14T00:15:24.504Z"
   },
   {
    "duration": 90,
    "start_time": "2023-07-14T00:15:24.704Z"
   },
   {
    "duration": 20,
    "start_time": "2023-07-14T00:20:49.279Z"
   },
   {
    "duration": 6,
    "start_time": "2023-07-14T00:21:19.473Z"
   },
   {
    "duration": 4,
    "start_time": "2023-07-14T00:24:17.391Z"
   },
   {
    "duration": 12,
    "start_time": "2023-07-14T00:24:23.970Z"
   },
   {
    "duration": 15,
    "start_time": "2023-07-14T00:24:45.071Z"
   },
   {
    "duration": 10,
    "start_time": "2023-07-14T00:24:54.206Z"
   },
   {
    "duration": 8,
    "start_time": "2023-07-14T00:25:54.066Z"
   },
   {
    "duration": 20,
    "start_time": "2023-07-14T00:27:23.081Z"
   },
   {
    "duration": 19,
    "start_time": "2023-07-14T00:27:44.788Z"
   },
   {
    "duration": 9,
    "start_time": "2023-07-14T00:27:52.927Z"
   },
   {
    "duration": 13,
    "start_time": "2023-07-14T00:28:00.180Z"
   },
   {
    "duration": 19,
    "start_time": "2023-07-14T00:29:13.118Z"
   },
   {
    "duration": 19,
    "start_time": "2023-07-14T00:29:17.317Z"
   },
   {
    "duration": 18,
    "start_time": "2023-07-14T00:29:21.233Z"
   },
   {
    "duration": 19,
    "start_time": "2023-07-14T00:29:37.084Z"
   },
   {
    "duration": 13,
    "start_time": "2023-07-14T00:29:42.316Z"
   },
   {
    "duration": 11,
    "start_time": "2023-07-14T00:30:13.541Z"
   },
   {
    "duration": 318,
    "start_time": "2023-07-14T00:34:43.017Z"
   },
   {
    "duration": 2,
    "start_time": "2023-07-14T00:35:48.179Z"
   },
   {
    "duration": 24,
    "start_time": "2023-07-14T00:36:44.272Z"
   },
   {
    "duration": 294,
    "start_time": "2023-07-14T00:37:06.139Z"
   },
   {
    "duration": 90365,
    "start_time": "2023-07-14T00:42:03.479Z"
   },
   {
    "duration": 1228,
    "start_time": "2023-07-14T00:46:35.690Z"
   },
   {
    "duration": 288,
    "start_time": "2023-07-14T00:46:36.920Z"
   },
   {
    "duration": 42,
    "start_time": "2023-07-14T00:46:37.210Z"
   },
   {
    "duration": 19,
    "start_time": "2023-07-14T00:46:37.254Z"
   },
   {
    "duration": 14,
    "start_time": "2023-07-14T00:46:37.275Z"
   },
   {
    "duration": 1509,
    "start_time": "2023-07-14T00:46:37.291Z"
   },
   {
    "duration": 4,
    "start_time": "2023-07-14T00:46:38.802Z"
   },
   {
    "duration": 5,
    "start_time": "2023-07-14T00:46:38.808Z"
   },
   {
    "duration": 5,
    "start_time": "2023-07-14T00:46:38.815Z"
   },
   {
    "duration": 5,
    "start_time": "2023-07-14T00:46:38.823Z"
   },
   {
    "duration": 6,
    "start_time": "2023-07-14T00:46:38.829Z"
   },
   {
    "duration": 30,
    "start_time": "2023-07-14T00:46:38.837Z"
   },
   {
    "duration": 14,
    "start_time": "2023-07-14T00:46:38.869Z"
   },
   {
    "duration": 15,
    "start_time": "2023-07-14T00:46:38.884Z"
   },
   {
    "duration": 38,
    "start_time": "2023-07-14T00:46:38.901Z"
   },
   {
    "duration": 8,
    "start_time": "2023-07-14T00:46:38.941Z"
   },
   {
    "duration": 4,
    "start_time": "2023-07-14T00:46:38.951Z"
   },
   {
    "duration": 5,
    "start_time": "2023-07-14T00:46:38.957Z"
   },
   {
    "duration": 15,
    "start_time": "2023-07-14T00:46:38.963Z"
   },
   {
    "duration": 6,
    "start_time": "2023-07-14T00:46:38.980Z"
   },
   {
    "duration": 6,
    "start_time": "2023-07-14T00:46:38.988Z"
   },
   {
    "duration": 21,
    "start_time": "2023-07-14T00:46:38.996Z"
   },
   {
    "duration": 12,
    "start_time": "2023-07-14T00:46:39.019Z"
   },
   {
    "duration": 12,
    "start_time": "2023-07-14T00:46:39.033Z"
   },
   {
    "duration": 6,
    "start_time": "2023-07-14T00:46:39.067Z"
   },
   {
    "duration": 8,
    "start_time": "2023-07-14T00:46:39.075Z"
   },
   {
    "duration": 17,
    "start_time": "2023-07-14T00:46:39.084Z"
   },
   {
    "duration": 13,
    "start_time": "2023-07-14T00:46:39.105Z"
   },
   {
    "duration": 13,
    "start_time": "2023-07-14T00:46:39.119Z"
   },
   {
    "duration": 5,
    "start_time": "2023-07-14T00:46:39.134Z"
   },
   {
    "duration": 13,
    "start_time": "2023-07-14T00:46:39.141Z"
   },
   {
    "duration": 7,
    "start_time": "2023-07-14T00:46:39.156Z"
   },
   {
    "duration": 5,
    "start_time": "2023-07-14T00:46:39.164Z"
   },
   {
    "duration": 21,
    "start_time": "2023-07-14T00:46:39.171Z"
   },
   {
    "duration": 5,
    "start_time": "2023-07-14T00:46:39.194Z"
   },
   {
    "duration": 6,
    "start_time": "2023-07-14T00:46:39.201Z"
   },
   {
    "duration": 8,
    "start_time": "2023-07-14T00:46:39.209Z"
   },
   {
    "duration": 43,
    "start_time": "2023-07-14T00:46:39.219Z"
   },
   {
    "duration": 179,
    "start_time": "2023-07-14T00:46:39.264Z"
   },
   {
    "duration": 328,
    "start_time": "2023-07-14T00:46:39.445Z"
   },
   {
    "duration": 87836,
    "start_time": "2023-07-14T00:46:39.775Z"
   },
   {
    "duration": 3,
    "start_time": "2023-07-14T00:48:07.613Z"
   },
   {
    "duration": 53,
    "start_time": "2023-07-14T00:48:07.618Z"
   },
   {
    "duration": 193,
    "start_time": "2023-07-14T00:48:07.674Z"
   },
   {
    "duration": 24,
    "start_time": "2023-07-14T00:48:07.869Z"
   },
   {
    "duration": 343,
    "start_time": "2023-07-14T00:48:07.895Z"
   },
   {
    "duration": 393,
    "start_time": "2023-07-14T00:48:08.239Z"
   },
   {
    "duration": 182,
    "start_time": "2023-07-14T00:48:08.634Z"
   },
   {
    "duration": 88117,
    "start_time": "2023-07-14T00:48:08.818Z"
   },
   {
    "duration": 120262,
    "start_time": "2023-07-14T00:49:36.937Z"
   },
   {
    "duration": 51905,
    "start_time": "2023-07-14T00:51:37.201Z"
   },
   {
    "duration": 63,
    "start_time": "2023-07-14T00:52:29.108Z"
   },
   {
    "duration": 193,
    "start_time": "2023-07-14T00:52:29.175Z"
   },
   {
    "duration": 197,
    "start_time": "2023-07-14T00:52:29.369Z"
   },
   {
    "duration": 4,
    "start_time": "2023-07-14T00:52:29.569Z"
   },
   {
    "duration": 102,
    "start_time": "2023-07-14T00:52:29.575Z"
   },
   {
    "duration": 717,
    "start_time": "2023-07-14T00:52:29.678Z"
   },
   {
    "duration": 103,
    "start_time": "2023-07-14T00:52:30.398Z"
   },
   {
    "duration": 191,
    "start_time": "2023-07-14T00:52:30.504Z"
   },
   {
    "duration": 101,
    "start_time": "2023-07-14T00:52:30.698Z"
   },
   {
    "duration": 11,
    "start_time": "2023-07-14T00:52:30.801Z"
   }
  ],
  "kernelspec": {
   "display_name": "Python 3 (ipykernel)",
   "language": "python",
   "name": "python3"
  },
  "language_info": {
   "codemirror_mode": {
    "name": "ipython",
    "version": 3
   },
   "file_extension": ".py",
   "mimetype": "text/x-python",
   "name": "python",
   "nbconvert_exporter": "python",
   "pygments_lexer": "ipython3",
   "version": "3.10.13"
  },
  "toc": {
   "base_numbering": 1,
   "nav_menu": {},
   "number_sections": true,
   "sideBar": true,
   "skip_h1_title": true,
   "title_cell": "Содержание",
   "title_sidebar": "Contents",
   "toc_cell": true,
   "toc_position": {
    "height": "calc(100% - 180px)",
    "left": "10px",
    "top": "150px",
    "width": "402.535px"
   },
   "toc_section_display": true,
   "toc_window_display": true
  }
 },
 "nbformat": 4,
 "nbformat_minor": 2
}
